{
 "cells": [
  {
   "cell_type": "markdown",
   "metadata": {
    "id": "zUqy3u0mOqRA"
   },
   "source": [
    "# Получение данных с помощью API. Практическая работа\n",
    "\n",
    "В практической работе есть обязательные и дополнительные задачи.\n",
    "\n",
    "*Обязательные задачи* нужно сделать, чтобы проверить, что вы действительно усвоили материал модуля. Они обязательны к загрузке на проверку.\n",
    "\n",
    "*Дополнительные задачи* для тех, кто чувствует, что нужно ещё немного потренироваться работе с Git. Вы также можете загрузить их на проверку и получить по ним обратную связь.\n",
    "\n",
    "Удачи!"
   ]
  },
  {
   "cell_type": "markdown",
   "metadata": {
    "id": "5b2c9q-uRFgE"
   },
   "source": [
    "\n",
    "\n",
    "---\n",
    "\n",
    "\n",
    "\n",
    "---\n",
    "\n"
   ]
  },
  {
   "cell_type": "markdown",
   "metadata": {
    "id": "9YruChoFPlTH"
   },
   "source": [
    "**Цели практической работы:**\n",
    "1. Научиться выполнять HTTP-запросы с использованием библиотеки Requests.\n",
    "2. Научиться сохранять данные из датафрейма в файлы xlsx и csv.\n",
    "3. Научиться работать c Git и сохранять результаты своей работы в GitLab.\n"
   ]
  },
  {
   "cell_type": "markdown",
   "metadata": {
    "id": "s0ln3tQ_QZK4"
   },
   "source": [
    "**Что входит в практическую работу:**\n",
    "1. *Обязательные задачи*:\n",
    "\n",
    "- две задачи на работу с Git,\n",
    "- две задачи на работу с бибилотекой Requests,\n",
    "- одна задача на сохранение данных из датафрейма в файлы.\n",
    "\n",
    "2. *Дополнительные задачи*:\n",
    "\n",
    "- две задачи на закрепление работы с запросами,\n",
    "- одна задача на закрепление работы с Git.\n"
   ]
  },
  {
   "cell_type": "markdown",
   "metadata": {
    "id": "QLCrcUsFLTVr"
   },
   "source": [
    "**Критерии оценки:**\n",
    "- программа выдаёт верный ответ на заданном наборе данных;\n",
    "- код читабелен: переменным даны осмысленные названия, отступы и правила расстановки пробелов соблюдены;\n",
    "- репозиторий проекта содержит осмысленные коммиты, содержащие конкретные реализованные фичи, ветки названы согласно назначению, лишние файлы не хранятся в репозитории;\n",
    "- в репозитории проекта соблюдена иерархия директорий согласно списку модулей;\n",
    "- репозиторий проекта содержит файлы с данными, полученными в результате выполнения практической работы.\n",
    "\n"
   ]
  },
  {
   "cell_type": "markdown",
   "metadata": {
    "id": "UKH0UuMA7pyF"
   },
   "source": [
    "**Как отправить задание на проверку**\n",
    "\n",
    "Сдайте практическую работу этого модуля через систему контроля версий Git сервиса Skillbox Gitlab. После загрузки работы на проверку необходимо сообщить об этом в LMS своему куратору."
   ]
  },
  {
   "cell_type": "markdown",
   "metadata": {
    "id": "hYa6ZRVRRHbE"
   },
   "source": [
    "\n",
    "\n",
    "---\n",
    "\n",
    "\n",
    "---\n",
    "\n"
   ]
  },
  {
   "cell_type": "markdown",
   "metadata": {
    "id": "UgcrtNvYQ_01"
   },
   "source": [
    "**Обязательные задачи**"
   ]
  },
  {
   "cell_type": "markdown",
   "metadata": {
    "id": "p0t9GY6BOjpL"
   },
   "source": [
    "Вы продолжите работать с iTunes Search API, чтобы познакомиться поближе с [Луи Армстронгом](https://ru.wikipedia.org/wiki/%D0%90%D1%80%D0%BC%D1%81%D1%82%D1%80%D0%BE%D0%BD%D0%B3,_%D0%9B%D1%83%D0%B8). Для этого вам нужно будет изучить документацию к [iTunes Search API](https://developer.apple.com/library/archive/documentation/AudioVideo/Conceptual/iTuneSearchAPI/Searching.html#//apple_ref/doc/uid/TP40017632-CH5-SW1) и выполнить задания.\n",
    "\n",
    "Репозиторий проекта располагается по адресу https://gitlab.skillbox.ru/LOGIN/ds-intro, где LOGIN — ваш логин в системе."
   ]
  },
  {
   "cell_type": "code",
   "execution_count": 42,
   "metadata": {
    "id": "A_cq5_c0QVlL"
   },
   "outputs": [],
   "source": [
    "import pandas as pd\n",
    "import requests as rq\n",
    "import json"
   ]
  },
  {
   "cell_type": "markdown",
   "metadata": {
    "id": "683m2WjxQVlN"
   },
   "source": [
    "***Задача 1***\n",
    "\n",
    "1. С помощью `git clone` по SSH скопируйте на свой компьютер репозиторий `ds-intro.git`, если это не было сделано ранее.\n",
    "Если репозиторий уже скачан, обновите его состояние до актуальной версии с помощью `git pull`.\n",
    "\n",
    "2. Перейдите в директорию `13_api/homework` и откройте ноутбук для выполнения практической работы.\n",
    "\n",
    "3. Создайте ветку `homework_13` с помощью `git branch` и перейдите в неё. Далее работа должна продолжаться в новой ветке.\n",
    "\n",
    "**_Советы и рекомендации_**\n",
    "\n",
    "В дальнейшем, когда вы будете создавать новые ветки и работать с Git в этом и других модулях, придерживайтесь шаблона наименования веток:\n",
    "- `homework_module` для практической работы к модулю с номером `module`;\n",
    "- `practice_module` для практических заданий к модулю с номером `module`."
   ]
  },
  {
   "cell_type": "markdown",
   "metadata": {
    "id": "kr8Q_RUzOjpM"
   },
   "source": [
    "**Задача 2**\n",
    "\n",
    "1. Выполните GET-запрос https://itunes.apple.com/lookup?id=518462 и распечатайте ответ в формате json."
   ]
  },
  {
   "cell_type": "code",
   "execution_count": 3,
   "metadata": {
    "ExecuteTime": {
     "end_time": "2021-10-24T10:55:47.101496Z",
     "start_time": "2021-10-24T10:55:47.098939Z"
    },
    "id": "hLC8F1acOjpN"
   },
   "outputs": [
    {
     "data": {
      "text/plain": [
       "<Response [200]>"
      ]
     },
     "execution_count": 3,
     "metadata": {},
     "output_type": "execute_result"
    }
   ],
   "source": [
    "url = ' https://itunes.apple.com/lookup?id=518462'\n",
    "response = rq.get(url)\n",
    "response"
   ]
  },
  {
   "cell_type": "markdown",
   "metadata": {
    "id": "J1YHZdzPQVlR"
   },
   "source": [
    "2. Распечатайте код ответа."
   ]
  },
  {
   "cell_type": "code",
   "execution_count": 7,
   "metadata": {
    "id": "Eto3BcM2QVlR"
   },
   "outputs": [
    {
     "data": {
      "text/plain": [
       "[{'wrapperType': 'artist',\n",
       "  'artistType': 'Artist',\n",
       "  'artistName': 'Louis Armstrong',\n",
       "  'artistLinkUrl': 'https://music.apple.com/us/artist/louis-armstrong/518462?uo=4',\n",
       "  'artistId': 518462,\n",
       "  'amgArtistId': 52456,\n",
       "  'primaryGenreName': 'Jazz',\n",
       "  'primaryGenreId': 11}]"
      ]
     },
     "execution_count": 7,
     "metadata": {},
     "output_type": "execute_result"
    }
   ],
   "source": [
    "res = response.json()['results']\n",
    "res"
   ]
  },
  {
   "cell_type": "markdown",
   "metadata": {
    "id": "LcpYxnZsQVlT"
   },
   "source": [
    "3. Распечатайте строку запроса.\n",
    "\n",
    "    _Подсказка:_ строку запроса можно распечатать с помощью метода `url`."
   ]
  },
  {
   "cell_type": "code",
   "execution_count": 33,
   "metadata": {
    "ExecuteTime": {
     "end_time": "2021-11-15T22:58:07.910280Z",
     "start_time": "2021-11-15T22:58:07.907016Z"
    },
    "id": "HEivops6QVlT"
   },
   "outputs": [
    {
     "data": {
      "text/plain": [
       "'https://itunes.apple.com/lookup?id=518462'"
      ]
     },
     "execution_count": 33,
     "metadata": {},
     "output_type": "execute_result"
    }
   ],
   "source": [
    "response.url"
   ]
  },
  {
   "cell_type": "markdown",
   "metadata": {
    "id": "QxZUUuH_QVlU"
   },
   "source": [
    "4. Сохраните в переменную `amg_artist_id` значение `amgArtistId` полученного ответа и распечатайте его."
   ]
  },
  {
   "cell_type": "code",
   "execution_count": 25,
   "metadata": {
    "ExecuteTime": {
     "end_time": "2021-11-15T23:14:37.737599Z",
     "start_time": "2021-11-15T23:14:37.734887Z"
    },
    "id": "jH9rOE3UQVlU"
   },
   "outputs": [
    {
     "data": {
      "text/plain": [
       "52456"
      ]
     },
     "execution_count": 25,
     "metadata": {},
     "output_type": "execute_result"
    }
   ],
   "source": [
    "amg_artist_id = res[0]['amgArtistId']\n",
    "amg_artist_id"
   ]
  },
  {
   "cell_type": "markdown",
   "metadata": {
    "id": "cViBXi62OjpP"
   },
   "source": [
    "***Задача 3***\n",
    "\n",
    "1. Выполните POST-запрос к к ресурсу `lookup`, чтобы найти первые 100 записей, содержащих альбомы для артиста с `amgArtistId`, равного  полученному ранее `amg_artist_id`. Укажите время ожидания запроса 60 секунд и распечатайте ответ в формате json.\n"
   ]
  },
  {
   "cell_type": "code",
   "execution_count": 88,
   "metadata": {
    "ExecuteTime": {
     "end_time": "2021-10-24T10:41:11.069411Z",
     "start_time": "2021-10-24T10:41:11.066371Z"
    },
    "id": "Tx2VYklzOjpQ"
   },
   "outputs": [
    {
     "data": {
      "text/plain": [
       "{'resultCount': 0, 'results': []}"
      ]
     },
     "execution_count": 88,
     "metadata": {},
     "output_type": "execute_result"
    }
   ],
   "source": [
    "url = 'https://itunes.apple.com/lookup?amgartistid=52456'\n",
    "payload = {\n",
    "    'media': 'music',\n",
    "    'limit': 100  # Ищем первые 100 записей\n",
    "}\n",
    "response1 = rq.post(url, data=payload, timeout=100)\n",
    "response1.json()"
   ]
  },
  {
   "cell_type": "code",
   "execution_count": 96,
   "metadata": {},
   "outputs": [
    {
     "name": "stdout",
     "output_type": "stream",
     "text": [
      "{'resultCount': 1, 'results': [{'wrapperType': 'artist', 'artistType': 'Artist', 'artistName': 'Louis Armstrong', 'artistLinkUrl': 'https://music.apple.com/us/artist/louis-armstrong/518462?uo=4', 'artistId': 518462, 'amgArtistId': 52456, 'primaryGenreName': 'Jazz', 'primaryGenreId': 11}]}\n",
      "amgArtistId: 52456\n",
      "{'resultCount': 101, 'results': [{'wrapperType': 'artist', 'artistType': 'Artist', 'artistName': 'Louis Armstrong', 'artistLinkUrl': 'https://music.apple.com/us/artist/louis-armstrong/518462?uo=4', 'artistId': 518462, 'amgArtistId': 52456, 'primaryGenreName': 'Jazz', 'primaryGenreId': 11}, {'wrapperType': 'collection', 'collectionType': 'Album', 'artistId': 518462, 'collectionId': 1434914801, 'amgArtistId': 52456, 'artistName': 'Louis Armstrong', 'collectionName': 'All Time Greatest Hits', 'collectionCensoredName': 'All Time Greatest Hits', 'artistViewUrl': 'https://music.apple.com/us/artist/louis-armstrong/518462?uo=4', 'collectionViewUrl': 'https://music.apple.com/us/album/all-time-greatest-hits/1434914801?uo=4', 'artworkUrl60': 'https://is1-ssl.mzstatic.com/image/thumb/Music126/v4/3f/78/d3/3f78d30d-1c44-4c8f-9481-a31430f525df/06UMGIM02666.rgb.jpg/60x60bb.jpg', 'artworkUrl100': 'https://is1-ssl.mzstatic.com/image/thumb/Music126/v4/3f/78/d3/3f78d30d-1c44-4c8f-9481-a31430f525df/06UMGIM02666.rgb.jpg/100x100bb.jpg', 'collectionPrice': 10.99, 'collectionExplicitness': 'notExplicit', 'trackCount': 18, 'copyright': 'A Geffen Records Release; This Compilation ℗ 1994 UMG Recordings, Inc.', 'country': 'USA', 'currency': 'USD', 'releaseDate': '1994-01-01T08:00:00Z', 'primaryGenreName': 'Pop'}, {'wrapperType': 'collection', 'collectionType': 'Album', 'artistId': 518462, 'collectionId': 193896088, 'amgArtistId': 52456, 'artistName': 'Louis Armstrong', 'collectionName': 'The Essential Louis Armstrong', 'collectionCensoredName': 'The Essential Louis Armstrong', 'artistViewUrl': 'https://music.apple.com/us/artist/louis-armstrong/518462?uo=4', 'collectionViewUrl': 'https://music.apple.com/us/album/the-essential-louis-armstrong/193896088?uo=4', 'artworkUrl60': 'https://is1-ssl.mzstatic.com/image/thumb/Music/c1/d1/00/mzi.scvunyuo.jpg/60x60bb.jpg', 'artworkUrl100': 'https://is1-ssl.mzstatic.com/image/thumb/Music/c1/d1/00/mzi.scvunyuo.jpg/100x100bb.jpg', 'collectionPrice': 14.99, 'collectionExplicitness': 'notExplicit', 'trackCount': 37, 'copyright': '℗ Recorded Prior To 1972. All Rights Reserved by BMG Music, Originally Released 1925-1931, 1954, 1955, 1957, 2004 Sony Music Entertainment Inc.', 'country': 'USA', 'currency': 'USD', 'releaseDate': '1979-12-28T08:00:00Z', 'primaryGenreName': 'Jazz'}, {'wrapperType': 'collection', 'collectionType': 'Album', 'artistId': 73568, 'collectionId': 1445666702, 'amgArtistId': 6503, 'artistName': 'Ella Fitzgerald & Louis Armstrong', 'collectionName': 'Ella & Louis Christmas', 'collectionCensoredName': 'Ella & Louis Christmas', 'artistViewUrl': 'https://music.apple.com/us/artist/ella-fitzgerald/73568?uo=4', 'collectionViewUrl': 'https://music.apple.com/us/album/ella-louis-christmas/1445666702?uo=4', 'artworkUrl60': 'https://is1-ssl.mzstatic.com/image/thumb/Music115/v4/16/a2/75/16a27533-9fc4-843b-c8d3-d81a377a2395/16UMGIM78399.rgb.jpg/60x60bb.jpg', 'artworkUrl100': 'https://is1-ssl.mzstatic.com/image/thumb/Music115/v4/16/a2/75/16a27533-9fc4-843b-c8d3-d81a377a2395/16UMGIM78399.rgb.jpg/100x100bb.jpg', 'collectionPrice': 9.99, 'collectionExplicitness': 'notExplicit', 'trackCount': 20, 'copyright': 'This Compilation ℗ 2016 The Verve Music Group, a Division of UMG Recordings, Inc.', 'country': 'USA', 'currency': 'USD', 'releaseDate': '2016-11-25T08:00:00Z', 'primaryGenreName': 'Holiday'}, {'wrapperType': 'collection', 'collectionType': 'Album', 'artistId': 518462, 'collectionId': 201274363, 'amgArtistId': 52456, 'artistName': 'Louis Armstrong', 'collectionName': 'The Best of the Hot 5 & Hot 7 Recordings', 'collectionCensoredName': 'The Best of the Hot 5 & Hot 7 Recordings', 'artistViewUrl': 'https://music.apple.com/us/artist/louis-armstrong/518462?uo=4', 'collectionViewUrl': 'https://music.apple.com/us/album/the-best-of-the-hot-5-hot-7-recordings/201274363?uo=4', 'artworkUrl60': 'https://is1-ssl.mzstatic.com/image/thumb/Music/54/10/9d/mzi.tzqujtgu.jpg/60x60bb.jpg', 'artworkUrl100': 'https://is1-ssl.mzstatic.com/image/thumb/Music/54/10/9d/mzi.tzqujtgu.jpg/100x100bb.jpg', 'collectionPrice': 9.99, 'collectionExplicitness': 'notExplicit', 'trackCount': 18, 'copyright': '℗ Originally Released 1926, 1927, 1928, 1929, 1940, (P) 2002 Sony Music Entertainment Inc.', 'country': 'USA', 'currency': 'USD', 'releaseDate': '2002-07-30T07:00:00Z', 'primaryGenreName': 'Jazz'}, {'wrapperType': 'collection', 'collectionType': 'Album', 'artistId': 73568, 'collectionId': 1431066643, 'amgArtistId': 6503, 'artistName': 'Ella Fitzgerald & Louis Armstrong', 'collectionName': 'The Best Of Ella Fitzgerald And Louis Armstrong On Verve', 'collectionCensoredName': 'The Best Of Ella Fitzgerald And Louis Armstrong On Verve', 'artistViewUrl': 'https://music.apple.com/us/artist/ella-fitzgerald/73568?uo=4', 'collectionViewUrl': 'https://music.apple.com/us/album/the-best-of-ella-fitzgerald-and-louis-armstrong-on-verve/1431066643?uo=4', 'artworkUrl60': 'https://is1-ssl.mzstatic.com/image/thumb/Music112/v4/ad/b2/88/adb2880e-3aba-9537-7437-21f224c9a659/06UMGIM06164.rgb.jpg/60x60bb.jpg', 'artworkUrl100': 'https://is1-ssl.mzstatic.com/image/thumb/Music112/v4/ad/b2/88/adb2880e-3aba-9537-7437-21f224c9a659/06UMGIM06164.rgb.jpg/100x100bb.jpg', 'collectionPrice': 9.99, 'collectionExplicitness': 'notExplicit', 'trackCount': 15, 'copyright': 'A Verve Label Group release; This Compilation ℗ 1997 UMG Recordings, Inc.', 'country': 'USA', 'currency': 'USD', 'releaseDate': '1997-08-20T07:00:00Z', 'primaryGenreName': 'Jazz'}, {'wrapperType': 'collection', 'collectionType': 'Album', 'artistId': 518462, 'collectionId': 1425235202, 'amgArtistId': 52456, 'artistName': 'Louis Armstrong', 'collectionName': '20th Century Masters: The Best of Louis Armstrong - The Millennium Collection', 'collectionCensoredName': '20th Century Masters: The Best of Louis Armstrong - The Millennium Collection', 'artistViewUrl': 'https://music.apple.com/us/artist/louis-armstrong/518462?uo=4', 'collectionViewUrl': 'https://music.apple.com/us/album/20th-century-masters-the-best-of-louis/1425235202?uo=4', 'artworkUrl60': 'https://is1-ssl.mzstatic.com/image/thumb/Music126/v4/63/32/48/63324851-4d3e-834d-4702-f3c727ea3926/06UMGIM02669.rgb.jpg/60x60bb.jpg', 'artworkUrl100': 'https://is1-ssl.mzstatic.com/image/thumb/Music126/v4/63/32/48/63324851-4d3e-834d-4702-f3c727ea3926/06UMGIM02669.rgb.jpg/100x100bb.jpg', 'collectionPrice': 8.99, 'collectionExplicitness': 'notExplicit', 'trackCount': 10, 'copyright': 'A Geffen Records Release; This Compilation ℗ 1999 UMG Recordings, Inc.', 'country': 'USA', 'currency': 'USD', 'releaseDate': '1999-03-16T08:00:00Z', 'primaryGenreName': 'Jazz'}, {'wrapperType': 'collection', 'collectionType': 'Album', 'artistId': 518462, 'collectionId': 696523069, 'amgArtistId': 52456, 'artistName': 'Louis Armstrong & Duke Ellington', 'collectionName': 'The Great Summit: The Master Tapes (Remastered)', 'collectionCensoredName': 'The Great Summit: The Master Tapes (Remastered)', 'artistViewUrl': 'https://music.apple.com/us/artist/louis-armstrong/518462?uo=4', 'collectionViewUrl': 'https://music.apple.com/us/album/the-great-summit-the-master-tapes-remastered/696523069?uo=4', 'artworkUrl60': 'https://is1-ssl.mzstatic.com/image/thumb/Music115/v4/a7/43/0c/a7430c58-f4c6-36ff-8559-ead584472f55/0724352454754_1772x1772_300dpi.jpg/60x60bb.jpg', 'artworkUrl100': 'https://is1-ssl.mzstatic.com/image/thumb/Music115/v4/a7/43/0c/a7430c58-f4c6-36ff-8559-ead584472f55/0724352454754_1772x1772_300dpi.jpg/100x100bb.jpg', 'collectionPrice': 9.99, 'collectionExplicitness': 'notExplicit', 'trackCount': 17, 'copyright': '℗ 2000 Parlophone Records Ltd, a Warner Music Group Company', 'country': 'USA', 'currency': 'USD', 'releaseDate': '2001-01-08T08:00:00Z', 'primaryGenreName': 'Jazz'}, {'wrapperType': 'collection', 'collectionType': 'Album', 'artistId': 73568, 'collectionId': 1469584174, 'amgArtistId': 6503, 'artistName': 'Ella Fitzgerald & Louis Armstrong', 'collectionName': 'Ella and Louis', 'collectionCensoredName': 'Ella and Louis', 'artistViewUrl': 'https://music.apple.com/us/artist/ella-fitzgerald/73568?uo=4', 'collectionViewUrl': 'https://music.apple.com/us/album/ella-and-louis/1469584174?uo=4', 'artworkUrl60': 'https://is1-ssl.mzstatic.com/image/thumb/Music116/v4/ac/4b/53/ac4b5314-43aa-666b-43b2-845117e9c402/06UMGIM08714.rgb.jpg/60x60bb.jpg', 'artworkUrl100': 'https://is1-ssl.mzstatic.com/image/thumb/Music116/v4/ac/4b/53/ac4b5314-43aa-666b-43b2-845117e9c402/06UMGIM08714.rgb.jpg/100x100bb.jpg', 'collectionPrice': 9.99, 'collectionExplicitness': 'notExplicit', 'trackCount': 11, 'copyright': '℗ 2011 UMG Recordings, Inc.', 'country': 'USA', 'currency': 'USD', 'releaseDate': '1956-10-01T08:00:00Z', 'primaryGenreName': 'Jazz'}, {'wrapperType': 'collection', 'collectionType': 'Album', 'artistId': 518462, 'collectionId': 1440787250, 'amgArtistId': 52456, 'artistName': 'Louis Armstrong', 'collectionName': 'What a Wonderful World', 'collectionCensoredName': 'What a Wonderful World', 'artistViewUrl': 'https://music.apple.com/us/artist/louis-armstrong/518462?uo=4', 'collectionViewUrl': 'https://music.apple.com/us/album/what-a-wonderful-world/1440787250?uo=4', 'artworkUrl60': 'https://is1-ssl.mzstatic.com/image/thumb/Music116/v4/14/14/ef/1414ef36-705a-4483-d7fc-ca636f2cb137/12UMGIM11012.rgb.jpg/60x60bb.jpg', 'artworkUrl100': 'https://is1-ssl.mzstatic.com/image/thumb/Music116/v4/14/14/ef/1414ef36-705a-4483-d7fc-ca636f2cb137/12UMGIM11012.rgb.jpg/100x100bb.jpg', 'collectionPrice': 9.99, 'collectionExplicitness': 'notExplicit', 'trackCount': 11, 'copyright': 'This Compilation ℗ 1968 The Verve Music Group, a Division of UMG Recordings, Inc.', 'country': 'USA', 'currency': 'USD', 'releaseDate': '1968-01-01T08:00:00Z', 'primaryGenreName': 'Jazz'}, {'wrapperType': 'collection', 'collectionType': 'Album', 'artistId': 518462, 'collectionId': 1644157235, 'amgArtistId': 52456, 'artistName': 'Louis Armstrong', 'collectionName': 'Louis Wishes You a Cool Yule', 'collectionCensoredName': 'Louis Wishes You a Cool Yule', 'artistViewUrl': 'https://music.apple.com/us/artist/louis-armstrong/518462?uo=4', 'collectionViewUrl': 'https://music.apple.com/us/album/louis-wishes-you-a-cool-yule/1644157235?uo=4', 'artworkUrl60': 'https://is1-ssl.mzstatic.com/image/thumb/Music122/v4/2a/af/6d/2aaf6db6-1757-9599-97c1-8b0708980d48/22UM1IM00901.rgb.jpg/60x60bb.jpg', 'artworkUrl100': 'https://is1-ssl.mzstatic.com/image/thumb/Music122/v4/2a/af/6d/2aaf6db6-1757-9599-97c1-8b0708980d48/22UM1IM00901.rgb.jpg/100x100bb.jpg', 'collectionPrice': 11.99, 'collectionExplicitness': 'notExplicit', 'trackCount': 11, 'copyright': 'A Verve Records release; This Compilation ℗ 2022 Verve Label Group, a Division of UMG Recordings, Inc.', 'country': 'USA', 'currency': 'USD', 'releaseDate': '2022-10-28T07:00:00Z', 'primaryGenreName': 'Holiday'}, {'wrapperType': 'collection', 'collectionType': 'Album', 'artistId': 73568, 'collectionId': 1454734940, 'amgArtistId': 6503, 'artistName': 'Ella Fitzgerald & Louis Armstrong', 'collectionName': 'Ella & Louis for Lovers', 'collectionCensoredName': 'Ella & Louis for Lovers', 'artistViewUrl': 'https://music.apple.com/us/artist/ella-fitzgerald/73568?uo=4', 'collectionViewUrl': 'https://music.apple.com/us/album/ella-louis-for-lovers/1454734940?uo=4', 'artworkUrl60': 'https://is1-ssl.mzstatic.com/image/thumb/Music112/v4/0b/a1/97/0ba1976d-d023-48d1-287e-52b104208a10/06UMGIM19694.rgb.jpg/60x60bb.jpg', 'artworkUrl100': 'https://is1-ssl.mzstatic.com/image/thumb/Music112/v4/0b/a1/97/0ba1976d-d023-48d1-287e-52b104208a10/06UMGIM19694.rgb.jpg/100x100bb.jpg', 'collectionPrice': 9.99, 'collectionExplicitness': 'notExplicit', 'trackCount': 11, 'copyright': 'A Verve Label Group Release; This Compilation ℗ 2005 UMG Recordings, Inc.', 'country': 'USA', 'currency': 'USD', 'releaseDate': '2005-06-06T07:00:00Z', 'primaryGenreName': 'Jazz'}, {'wrapperType': 'collection', 'collectionType': 'Album', 'artistId': 518462, 'collectionId': 516685592, 'amgArtistId': 52456, 'artistName': 'Louis Armstrong, Tyree Glenn & Tommy Gwaltney', 'collectionName': 'Satchmo at the National Press Club - Red Beans and Rice-Ly Yours (Live)', 'collectionCensoredName': 'Satchmo at the National Press Club - Red Beans and Rice-Ly Yours (Live)', 'artistViewUrl': 'https://music.apple.com/us/artist/louis-armstrong/518462?uo=4', 'collectionViewUrl': 'https://music.apple.com/us/album/satchmo-at-the-national-press-club-red-beans-and-rice/516685592?uo=4', 'artworkUrl60': 'https://is1-ssl.mzstatic.com/image/thumb/Features/v4/c0/fc/f0/c0fcf050-bed0-250e-78b5-6d87de61bdce/V4HttpAssetRepositoryClient-ticket.dxmvauto.jpg-5442672848831280882.jpg/60x60bb.jpg', 'artworkUrl100': 'https://is1-ssl.mzstatic.com/image/thumb/Features/v4/c0/fc/f0/c0fcf050-bed0-250e-78b5-6d87de61bdce/V4HttpAssetRepositoryClient-ticket.dxmvauto.jpg-5442672848831280882.jpg/100x100bb.jpg', 'collectionPrice': 9.99, 'collectionExplicitness': 'notExplicit', 'trackCount': 11, 'country': 'USA', 'currency': 'USD', 'releaseDate': '2012-04-24T07:00:00Z', 'primaryGenreName': 'Jazz'}, {'wrapperType': 'collection', 'collectionType': 'Album', 'artistId': 518462, 'collectionId': 1440749171, 'amgArtistId': 52456, 'artistName': 'Louis Armstrong', 'collectionName': 'Disney Songs the Satchmo Way', 'collectionCensoredName': 'Disney Songs the Satchmo Way', 'artistViewUrl': 'https://music.apple.com/us/artist/louis-armstrong/518462?uo=4', 'collectionViewUrl': 'https://music.apple.com/us/album/disney-songs-the-satchmo-way/1440749171?uo=4', 'artworkUrl60': 'https://is1-ssl.mzstatic.com/image/thumb/Music128/v4/05/5f/61/055f6156-cef6-d68b-b4b7-71cbfda87427/00050086092079.rgb.jpg/60x60bb.jpg', 'artworkUrl100': 'https://is1-ssl.mzstatic.com/image/thumb/Music128/v4/05/5f/61/055f6156-cef6-d68b-b4b7-71cbfda87427/00050086092079.rgb.jpg/100x100bb.jpg', 'collectionPrice': 6.99, 'collectionExplicitness': 'notExplicit', 'trackCount': 10, 'copyright': '℗ 1996 Buena Vista Pictures Distribution, Inc.', 'country': 'USA', 'currency': 'USD', 'releaseDate': '1996-01-01T08:00:00Z', 'primaryGenreName': 'Jazz'}, {'wrapperType': 'collection', 'collectionType': 'Album', 'artistId': 518462, 'collectionId': 1425244065, 'amgArtistId': 52456, 'artistName': 'Louis Armstrong & Ella Fitzgerald', 'collectionName': 'Porgy and Bess', 'collectionCensoredName': 'Porgy and Bess', 'artistViewUrl': 'https://music.apple.com/us/artist/louis-armstrong/518462?uo=4', 'collectionViewUrl': 'https://music.apple.com/us/album/porgy-and-bess/1425244065?uo=4', 'artworkUrl60': 'https://is1-ssl.mzstatic.com/image/thumb/Music122/v4/c5/43/8a/c5438ab2-d677-e715-c10d-8fb72de2cd74/06UMGIM15223.rgb.jpg/60x60bb.jpg', 'artworkUrl100': 'https://is1-ssl.mzstatic.com/image/thumb/Music122/v4/c5/43/8a/c5438ab2-d677-e715-c10d-8fb72de2cd74/06UMGIM15223.rgb.jpg/100x100bb.jpg', 'collectionPrice': 9.99, 'collectionExplicitness': 'notExplicit', 'trackCount': 15, 'copyright': 'A Verve Label Group release; ℗ 1958 UMG Recordings, Inc.', 'country': 'USA', 'currency': 'USD', 'releaseDate': '1958-01-01T08:00:00Z', 'primaryGenreName': 'Jazz'}, {'wrapperType': 'collection', 'collectionType': 'Album', 'artistId': 73568, 'collectionId': 1359340014, 'amgArtistId': 6503, 'artistName': 'Ella Fitzgerald & Louis Armstrong', 'collectionName': 'Cheek To Cheek: The Complete Duet Recordings', 'collectionCensoredName': 'Cheek To Cheek: The Complete Duet Recordings', 'artistViewUrl': 'https://music.apple.com/us/artist/ella-fitzgerald/73568?uo=4', 'collectionViewUrl': 'https://music.apple.com/us/album/cheek-to-cheek-the-complete-duet-recordings/1359340014?uo=4', 'artworkUrl60': 'https://is1-ssl.mzstatic.com/image/thumb/Music122/v4/fd/a7/0c/fda70c9b-1e6a-8915-b8db-71f8456d034e/18UMGIM13490.rgb.jpg/60x60bb.jpg', 'artworkUrl100': 'https://is1-ssl.mzstatic.com/image/thumb/Music122/v4/fd/a7/0c/fda70c9b-1e6a-8915-b8db-71f8456d034e/18UMGIM13490.rgb.jpg/100x100bb.jpg', 'collectionPrice': 39.99, 'collectionExplicitness': 'notExplicit', 'trackCount': 75, 'copyright': 'A Verve Records release; ℗ 2018 UMG Recordings, Inc.', 'country': 'USA', 'currency': 'USD', 'releaseDate': '2018-04-06T07:00:00Z', 'primaryGenreName': 'Jazz'}, {'wrapperType': 'collection', 'collectionType': 'Album', 'artistId': 518462, 'collectionId': 186308940, 'amgArtistId': 52456, 'artistName': 'Louis Armstrong', 'collectionName': 'Ken Burns Jazz: Louis Armstrong', 'collectionCensoredName': 'Ken Burns Jazz: Louis Armstrong', 'artistViewUrl': 'https://music.apple.com/us/artist/louis-armstrong/518462?uo=4', 'collectionViewUrl': 'https://music.apple.com/us/album/ken-burns-jazz-louis-armstrong/186308940?uo=4', 'artworkUrl60': 'https://is1-ssl.mzstatic.com/image/thumb/Music/54/a4/8b/mzi.dfggrevb.jpg/60x60bb.jpg', 'artworkUrl100': 'https://is1-ssl.mzstatic.com/image/thumb/Music/54/a4/8b/mzi.dfggrevb.jpg/100x100bb.jpg', 'collectionPrice': 9.99, 'collectionExplicitness': 'notExplicit', 'trackCount': 25, 'copyright': '℗ Compilation (P) 2000 SONY BMG MUSIC ENTERTAINMENT/The Verve Music Group, a Division UMG Recordings, Inc.', 'country': 'USA', 'currency': 'USD', 'releaseDate': '2000-11-03T08:00:00Z', 'primaryGenreName': 'Jazz'}, {'wrapperType': 'collection', 'collectionType': 'Album', 'artistId': 518462, 'collectionId': 477023849, 'amgArtistId': 52456, 'artistName': 'Louis Armstrong', 'collectionName': 'The Complete Hot Five & Hot Seven Recordings', 'collectionCensoredName': 'The Complete Hot Five & Hot Seven Recordings', 'artistViewUrl': 'https://music.apple.com/us/artist/louis-armstrong/518462?uo=4', 'collectionViewUrl': 'https://music.apple.com/us/album/the-complete-hot-five-hot-seven-recordings/477023849?uo=4', 'artworkUrl60': 'https://is1-ssl.mzstatic.com/image/thumb/Features/v4/a6/37/90/a6379001-6d78-77af-64a8-2d370390d345/dj.xhneepwy.jpg/60x60bb.jpg', 'artworkUrl100': 'https://is1-ssl.mzstatic.com/image/thumb/Features/v4/a6/37/90/a6379001-6d78-77af-64a8-2d370390d345/dj.xhneepwy.jpg/100x100bb.jpg', 'collectionPrice': 29.99, 'collectionExplicitness': 'notExplicit', 'trackCount': 93, 'copyright': '℗ Originally Released 1926, 1927 Courtesy of MCA Records under license from Universal Music Enterprises. Originally released 1925, 1926, 1927, 1928, 1929, 1937, 1940, 1941. All rights reserved by SONY BMG MUSIC ENTERTAINMENT, (P) 2000, 2006 SONY BMG MU', 'country': 'USA', 'currency': 'USD', 'releaseDate': '2006-09-19T07:00:00Z', 'primaryGenreName': 'Jazz'}, {'wrapperType': 'collection', 'collectionType': 'Album', 'artistId': 25687, 'collectionId': 716211198, 'amgArtistId': 3094, 'artistName': 'Bing Crosby & Louis Armstrong', 'collectionName': 'Bing & Satchmo', 'collectionCensoredName': 'Bing & Satchmo', 'artistViewUrl': 'https://music.apple.com/us/artist/bing-crosby/25687?uo=4', 'collectionViewUrl': 'https://music.apple.com/us/album/bing-satchmo/716211198?uo=4', 'artworkUrl60': 'https://is1-ssl.mzstatic.com/image/thumb/Music4/v4/0b/b5/cd/0bb5cdde-b569-ede4-beff-798ae6c4b26f/05099968641757.jpg/60x60bb.jpg', 'artworkUrl100': 'https://is1-ssl.mzstatic.com/image/thumb/Music4/v4/0b/b5/cd/0bb5cdde-b569-ede4-beff-798ae6c4b26f/05099968641757.jpg/100x100bb.jpg', 'collectionPrice': 9.99, 'collectionExplicitness': 'notExplicit', 'trackCount': 12, 'copyright': 'This Compilation ℗ 2008 Capitol Records, LLC', 'country': 'USA', 'currency': 'USD', 'releaseDate': '2008-01-01T08:00:00Z', 'primaryGenreName': 'Vocal'}, {'wrapperType': 'collection', 'collectionType': 'Album', 'artistId': 518462, 'collectionId': 1425262446, 'amgArtistId': 52456, 'artistName': 'Louis Armstrong & Oscar Peterson', 'collectionName': 'Louis Armstrong Meets Oscar Peterson (Expanded Edition)', 'collectionCensoredName': 'Louis Armstrong Meets Oscar Peterson (Expanded Edition)', 'artistViewUrl': 'https://music.apple.com/us/artist/louis-armstrong/518462?uo=4', 'collectionViewUrl': 'https://music.apple.com/us/album/louis-armstrong-meets-oscar-peterson-expanded-edition/1425262446?uo=4', 'artworkUrl60': 'https://is1-ssl.mzstatic.com/image/thumb/Music116/v4/4c/df/15/4cdf155c-ad11-2f43-6c74-a02f1f3189a2/06UMGIM21256.rgb.jpg/60x60bb.jpg', 'artworkUrl100': 'https://is1-ssl.mzstatic.com/image/thumb/Music116/v4/4c/df/15/4cdf155c-ad11-2f43-6c74-a02f1f3189a2/06UMGIM21256.rgb.jpg/100x100bb.jpg', 'collectionPrice': 9.99, 'collectionExplicitness': 'notExplicit', 'trackCount': 16, 'copyright': '℗ 1985 The Verve Music Group, a Division of UMG Recordings, Inc.', 'country': 'USA', 'currency': 'USD', 'releaseDate': '1957-10-14T08:00:00Z', 'primaryGenreName': 'Jazz'}, {'wrapperType': 'collection', 'collectionType': 'Album', 'artistId': 518462, 'collectionId': 200036163, 'amgArtistId': 52456, 'artistName': 'Louis Armstrong', 'collectionName': 'Satch Blows the Blues', 'collectionCensoredName': 'Satch Blows the Blues', 'artistViewUrl': 'https://music.apple.com/us/artist/louis-armstrong/518462?uo=4', 'collectionViewUrl': 'https://music.apple.com/us/album/satch-blows-the-blues/200036163?uo=4', 'artworkUrl60': 'https://is1-ssl.mzstatic.com/image/thumb/Music/a5/25/ed/mzi.gqvxatac.jpg/60x60bb.jpg', 'artworkUrl100': 'https://is1-ssl.mzstatic.com/image/thumb/Music/a5/25/ed/mzi.gqvxatac.jpg/100x100bb.jpg', 'collectionPrice': 9.99, 'collectionExplicitness': 'notExplicit', 'trackCount': 16, 'copyright': '℗ Originally Released 1928, 1929, 1930, 1931, 1954 (P) 2002 Sony Music Entertainment Inc.', 'country': 'USA', 'currency': 'USD', 'releaseDate': '2002-07-26T07:00:00Z', 'primaryGenreName': 'Jazz'}, {'wrapperType': 'collection', 'collectionType': 'Album', 'artistId': 405220, 'collectionId': 194021777, 'amgArtistId': 6746, 'artistName': 'Louis Armstrong & Earl Hines', 'collectionName': 'Louis Armstrong, Vol. 4 - Louis Armstrong and Earl Hines', 'collectionCensoredName': 'Louis Armstrong, Vol. 4 - Louis Armstrong and Earl Hines', 'artistViewUrl': 'https://music.apple.com/us/artist/earl-fatha-hines/405220?uo=4', 'collectionViewUrl': 'https://music.apple.com/us/album/louis-armstrong-vol-4-louis-armstrong-and-earl-hines/194021777?uo=4', 'artworkUrl60': 'https://is1-ssl.mzstatic.com/image/thumb/Music/59/d9/83/mzi.kblbbpah.jpg/60x60bb.jpg', 'artworkUrl100': 'https://is1-ssl.mzstatic.com/image/thumb/Music/59/d9/83/mzi.kblbbpah.jpg/100x100bb.jpg', 'collectionPrice': 9.99, 'collectionExplicitness': 'notExplicit', 'trackCount': 18, 'copyright': '℗ Originally Released 1928, 1929, 1941 SONY BMG MUSIC ENTERTAINMENT', 'country': 'USA', 'currency': 'USD', 'releaseDate': '1989-08-18T07:00:00Z', 'primaryGenreName': 'Jazz'}, {'wrapperType': 'collection', 'collectionType': 'Album', 'artistId': 518462, 'collectionId': 1434925400, 'amgArtistId': 52456, 'artistName': 'Louis Armstrong', 'collectionName': 'The Ultimate Collection: Louis Armstrong', 'collectionCensoredName': 'The Ultimate Collection: Louis Armstrong', 'artistViewUrl': 'https://music.apple.com/us/artist/louis-armstrong/518462?uo=4', 'collectionViewUrl': 'https://music.apple.com/us/album/the-ultimate-collection-louis-armstrong/1434925400?uo=4', 'artworkUrl60': 'https://is1-ssl.mzstatic.com/image/thumb/Music116/v4/9a/1f/92/9a1f92a0-3e90-f816-17ba-fa8c3136acdb/06UMGIM07953.rgb.jpg/60x60bb.jpg', 'artworkUrl100': 'https://is1-ssl.mzstatic.com/image/thumb/Music116/v4/9a/1f/92/9a1f92a0-3e90-f816-17ba-fa8c3136acdb/06UMGIM07953.rgb.jpg/100x100bb.jpg', 'collectionPrice': 27.99, 'collectionExplicitness': 'notExplicit', 'trackCount': 59, 'copyright': 'A Verve Records release; This Compilation ℗ 2000 UMG Recordings Inc.', 'country': 'USA', 'currency': 'USD', 'releaseDate': '2000-07-25T07:00:00Z', 'primaryGenreName': 'Jazz'}, {'wrapperType': 'collection', 'collectionType': 'Album', 'artistId': 518462, 'collectionId': 171086591, 'amgArtistId': 52456, 'artistName': 'Louis Armstrong', 'collectionName': 'The Great Chicago Concert 1956 - Complete', 'collectionCensoredName': 'The Great Chicago Concert 1956 - Complete', 'artistViewUrl': 'https://music.apple.com/us/artist/louis-armstrong/518462?uo=4', 'collectionViewUrl': 'https://music.apple.com/us/album/the-great-chicago-concert-1956-complete/171086591?uo=4', 'artworkUrl60': 'https://is1-ssl.mzstatic.com/image/thumb/Music/f9/91/5c/mzi.sehcvwqf.jpg/60x60bb.jpg', 'artworkUrl100': 'https://is1-ssl.mzstatic.com/image/thumb/Music/f9/91/5c/mzi.sehcvwqf.jpg/100x100bb.jpg', 'collectionPrice': 16.99, 'collectionExplicitness': 'notExplicit', 'trackCount': 26, 'copyright': '℗ Originally Recorded 1956, Originally Released 1957, (P) 1980 Sony Music Entertainment Inc. WARNING: All rights reserved. Unauthorized duplication is a violation of applicable laws.', 'country': 'USA', 'currency': 'USD', 'releaseDate': '1997-04-29T07:00:00Z', 'primaryGenreName': 'Jazz'}, {'wrapperType': 'collection', 'collectionType': 'Album', 'artistId': 73568, 'collectionId': 1442955474, 'amgArtistId': 6503, 'artistName': 'Ella Fitzgerald & Louis Armstrong', 'collectionName': 'Ella and Louis Again', 'collectionCensoredName': 'Ella and Louis Again', 'artistViewUrl': 'https://music.apple.com/us/artist/ella-fitzgerald/73568?uo=4', 'collectionViewUrl': 'https://music.apple.com/us/album/ella-and-louis-again/1442955474?uo=4', 'artworkUrl60': 'https://is1-ssl.mzstatic.com/image/thumb/Music116/v4/ba/82/97/ba8297ec-91b4-b660-ce5c-7116a7bb7841/06UMGIM11030.rgb.jpg/60x60bb.jpg', 'artworkUrl100': 'https://is1-ssl.mzstatic.com/image/thumb/Music116/v4/ba/82/97/ba8297ec-91b4-b660-ce5c-7116a7bb7841/06UMGIM11030.rgb.jpg/100x100bb.jpg', 'collectionPrice': 11.99, 'collectionExplicitness': 'notExplicit', 'trackCount': 19, 'copyright': 'A Verve Label Group Release; ℗ 1957 UMG Recordings, Inc.', 'country': 'USA', 'currency': 'USD', 'releaseDate': '1957-02-25T08:00:00Z', 'primaryGenreName': 'Jazz'}, {'wrapperType': 'collection', 'collectionType': 'Album', 'artistId': 518462, 'collectionId': 293785416, 'amgArtistId': 52456, 'artistName': 'Louis Armstrong', 'collectionName': 'The Complete Hot Five and Hot Seven Recordings, Vol. 2', 'collectionCensoredName': 'The Complete Hot Five and Hot Seven Recordings, Vol. 2', 'artistViewUrl': 'https://music.apple.com/us/artist/louis-armstrong/518462?uo=4', 'collectionViewUrl': 'https://music.apple.com/us/album/the-complete-hot-five-and-hot-seven-recordings-vol-2/293785416?uo=4', 'artworkUrl60': 'https://is1-ssl.mzstatic.com/image/thumb/Music/7d/dc/fd/mzi.ksloftob.jpg/60x60bb.jpg', 'artworkUrl100': 'https://is1-ssl.mzstatic.com/image/thumb/Music/7d/dc/fd/mzi.ksloftob.jpg/100x100bb.jpg', 'collectionPrice': 9.99, 'collectionExplicitness': 'notExplicit', 'trackCount': 22, 'copyright': '℗ Originally Released 1926, 1927, 1928, 1940, (P) 2003 Sony Music Entertainment Inc.', 'country': 'USA', 'currency': 'USD', 'releaseDate': '2003-04-11T07:00:00Z', 'primaryGenreName': 'Jazz'}, {'wrapperType': 'collection', 'collectionType': 'Album', 'artistId': 73568, 'collectionId': 1434904687, 'amgArtistId': 6503, 'artistName': 'Ella Fitzgerald & Louis Armstrong', 'collectionName': 'The Complete Ella and Louis On Verve', 'collectionCensoredName': 'The Complete Ella and Louis On Verve', 'artistViewUrl': 'https://music.apple.com/us/artist/ella-fitzgerald/73568?uo=4', 'collectionViewUrl': 'https://music.apple.com/us/album/the-complete-ella-and-louis-on-verve/1434904687?uo=4', 'artworkUrl60': 'https://is1-ssl.mzstatic.com/image/thumb/Music112/v4/0a/13/58/0a1358fb-efc4-39cc-a237-e7f289a0076c/06UMGIM08157.rgb.jpg/60x60bb.jpg', 'artworkUrl100': 'https://is1-ssl.mzstatic.com/image/thumb/Music112/v4/0a/13/58/0a1358fb-efc4-39cc-a237-e7f289a0076c/06UMGIM08157.rgb.jpg/100x100bb.jpg', 'collectionPrice': 27.99, 'collectionExplicitness': 'notExplicit', 'trackCount': 47, 'copyright': 'A Verve Records Release; This Compilation ℗ 1997 UMG Recordings Inc.', 'country': 'USA', 'currency': 'USD', 'releaseDate': '1997-05-20T07:00:00Z', 'primaryGenreName': 'Jazz'}, {'wrapperType': 'collection', 'collectionType': 'Album', 'artistId': 518462, 'collectionId': 157407490, 'amgArtistId': 52456, 'artistName': 'Louis Armstrong and His All-Stars', 'collectionName': 'Ambassador Satch (Live in Europe 1955)', 'collectionCensoredName': 'Ambassador Satch (Live in Europe 1955)', 'artistViewUrl': 'https://music.apple.com/us/artist/louis-armstrong/518462?uo=4', 'collectionViewUrl': 'https://music.apple.com/us/album/ambassador-satch-live-in-europe-1955/157407490?uo=4', 'artworkUrl60': 'https://is1-ssl.mzstatic.com/image/thumb/Music/1e/ce/f7/mzi.qttnssoh.jpg/60x60bb.jpg', 'artworkUrl100': 'https://is1-ssl.mzstatic.com/image/thumb/Music/1e/ce/f7/mzi.qttnssoh.jpg/100x100bb.jpg', 'collectionPrice': 9.99, 'collectionExplicitness': 'notExplicit', 'trackCount': 13, 'copyright': '℗ Originally Recorded 1955, Originally Released 1956 Sony Music Entertainment Inc.', 'country': 'USA', 'currency': 'USD', 'releaseDate': '2000-06-07T07:00:00Z', 'primaryGenreName': 'Jazz'}, {'wrapperType': 'collection', 'collectionType': 'Album', 'artistId': 518462, 'collectionId': 157384070, 'amgArtistId': 52456, 'artistName': 'Louis Armstrong', 'collectionName': 'Super Hits', 'collectionCensoredName': 'Super Hits', 'artistViewUrl': 'https://music.apple.com/us/artist/louis-armstrong/518462?uo=4', 'collectionViewUrl': 'https://music.apple.com/us/album/super-hits/157384070?uo=4', 'artworkUrl60': 'https://is1-ssl.mzstatic.com/image/thumb/Music/55/c3/71/mzi.zacnbapu.jpg/60x60bb.jpg', 'artworkUrl100': 'https://is1-ssl.mzstatic.com/image/thumb/Music/55/c3/71/mzi.zacnbapu.jpg/100x100bb.jpg', 'collectionPrice': 5.99, 'collectionExplicitness': 'notExplicit', 'trackCount': 10, 'copyright': '℗ Originally Released 1954,1957,1959,1967,1982, (P) 2000 Sony Music Entertainment Inc.', 'country': 'USA', 'currency': 'USD', 'releaseDate': '2000-01-07T08:00:00Z', 'primaryGenreName': 'Jazz'}, {'wrapperType': 'collection', 'collectionType': 'Album', 'artistId': 518462, 'collectionId': 158662145, 'amgArtistId': 52456, 'artistName': 'Louis Armstrong', 'collectionName': 'The Essence of Louis Armstrong', 'collectionCensoredName': 'The Essence of Louis Armstrong', 'artistViewUrl': 'https://music.apple.com/us/artist/louis-armstrong/518462?uo=4', 'collectionViewUrl': 'https://music.apple.com/us/album/the-essence-of-louis-armstrong/158662145?uo=4', 'artworkUrl60': 'https://is1-ssl.mzstatic.com/image/thumb/Music/bb/cf/af/mzi.gakaqpoc.jpg/60x60bb.jpg', 'artworkUrl100': 'https://is1-ssl.mzstatic.com/image/thumb/Music/bb/cf/af/mzi.gakaqpoc.jpg/100x100bb.jpg', 'collectionPrice': 9.99, 'collectionExplicitness': 'notExplicit', 'trackCount': 12, 'copyright': '℗ 1991 Sony Music Entertainment Inc.', 'country': 'USA', 'currency': 'USD', 'releaseDate': '1991-10-11T07:00:00Z', 'primaryGenreName': 'Jazz'}, {'wrapperType': 'collection', 'collectionType': 'Album', 'artistId': 518462, 'collectionId': 293785410, 'amgArtistId': 52456, 'artistName': 'Louis Armstrong', 'collectionName': 'The Complete Hot Five and Hot Seven Recordings, Vol. 3', 'collectionCensoredName': 'The Complete Hot Five and Hot Seven Recordings, Vol. 3', 'artistViewUrl': 'https://music.apple.com/us/artist/louis-armstrong/518462?uo=4', 'collectionViewUrl': 'https://music.apple.com/us/album/the-complete-hot-five-and-hot-seven-recordings-vol-3/293785410?uo=4', 'artworkUrl60': 'https://is1-ssl.mzstatic.com/image/thumb/Music/f5/98/ee/mzi.msdeqxjz.jpg/60x60bb.jpg', 'artworkUrl100': 'https://is1-ssl.mzstatic.com/image/thumb/Music/f5/98/ee/mzi.msdeqxjz.jpg/100x100bb.jpg', 'collectionPrice': 9.99, 'collectionExplicitness': 'notExplicit', 'trackCount': 22, 'copyright': '℗ Originally Released 1928, 1929, 1940, (P) 2003 Sony Music Entertainment Inc.', 'country': 'USA', 'currency': 'USD', 'releaseDate': '2003-04-11T07:00:00Z', 'primaryGenreName': 'Jazz'}, {'wrapperType': 'collection', 'collectionType': 'Album', 'artistId': 518462, 'collectionId': 270473182, 'amgArtistId': 52456, 'artistName': 'Louis Armstrong', 'collectionName': 'Louis Armstrong: Complete RCA Victor Recordings (Remastered)', 'collectionCensoredName': 'Louis Armstrong: Complete RCA Victor Recordings (Remastered)', 'artistViewUrl': 'https://music.apple.com/us/artist/louis-armstrong/518462?uo=4', 'collectionViewUrl': 'https://music.apple.com/us/album/louis-armstrong-complete-rca-victor-recordings-remastered/270473182?uo=4', 'artworkUrl60': 'https://is1-ssl.mzstatic.com/image/thumb/Music/46/c8/ff/mzi.gpifbfvr.jpg/60x60bb.jpg', 'artworkUrl100': 'https://is1-ssl.mzstatic.com/image/thumb/Music/46/c8/ff/mzi.gpifbfvr.jpg/100x100bb.jpg', 'collectionPrice': -1.0, 'collectionExplicitness': 'notExplicit', 'trackCount': 75, 'copyright': '℗ 1997 BMG Entertainment', 'country': 'USA', 'currency': 'USD', 'releaseDate': '1990-01-01T08:00:00Z', 'primaryGenreName': 'Jazz'}, {'wrapperType': 'collection', 'collectionType': 'Album', 'artistId': 73568, 'collectionId': 1445098984, 'amgArtistId': 6503, 'artistName': 'Ella Fitzgerald & Louis Armstrong', 'collectionName': '20th Century Masters / The Millennium Collection: The Best of Ella Fitzgerald and Louis Armstrong', 'collectionCensoredName': '20th Century Masters / The Millennium Collection: The Best of Ella Fitzgerald and Louis Armstrong', 'artistViewUrl': 'https://music.apple.com/us/artist/ella-fitzgerald/73568?uo=4', 'collectionViewUrl': 'https://music.apple.com/us/album/20th-century-masters-the-millennium-collection-the/1445098984?uo=4', 'artworkUrl60': 'https://is1-ssl.mzstatic.com/image/thumb/Music122/v4/9f/8d/80/9f8d80f4-4087-e142-5fca-b6a155013bd3/07UMGIM06647.rgb.jpg/60x60bb.jpg', 'artworkUrl100': 'https://is1-ssl.mzstatic.com/image/thumb/Music122/v4/9f/8d/80/9f8d80f4-4087-e142-5fca-b6a155013bd3/07UMGIM06647.rgb.jpg/100x100bb.jpg', 'collectionPrice': 7.99, 'collectionExplicitness': 'notExplicit', 'trackCount': 10, 'copyright': 'A Verve Label Group Release; This Compilation ℗ 2007 UMG Recordings, Inc.', 'country': 'USA', 'currency': 'USD', 'releaseDate': '2007-06-12T07:00:00Z', 'primaryGenreName': 'Jazz'}, {'wrapperType': 'collection', 'collectionType': 'Album', 'artistId': 518462, 'collectionId': 158673207, 'amgArtistId': 52456, 'artistName': 'Louis Armstrong', 'collectionName': 'Louis Armstrong: 16 Most Requested Songs', 'collectionCensoredName': 'Louis Armstrong: 16 Most Requested Songs', 'artistViewUrl': 'https://music.apple.com/us/artist/louis-armstrong/518462?uo=4', 'collectionViewUrl': 'https://music.apple.com/us/album/louis-armstrong-16-most-requested-songs/158673207?uo=4', 'artworkUrl60': 'https://is1-ssl.mzstatic.com/image/thumb/Music/56/66/7c/mzi.ccsbdfin.jpg/60x60bb.jpg', 'artworkUrl100': 'https://is1-ssl.mzstatic.com/image/thumb/Music/56/66/7c/mzi.ccsbdfin.jpg/100x100bb.jpg', 'collectionPrice': 9.99, 'collectionExplicitness': 'notExplicit', 'trackCount': 16, 'copyright': '℗ 1994 Sony Music Entertainment Inc.', 'country': 'USA', 'currency': 'USD', 'releaseDate': '1994-05-27T07:00:00Z', 'primaryGenreName': 'Jazz'}, {'wrapperType': 'collection', 'collectionType': 'Album', 'artistId': 518462, 'collectionId': 193043791, 'amgArtistId': 52456, 'artistName': 'Louis Armstrong', 'collectionName': 'The Hot Fives and Hot Sevens, Volume III', 'collectionCensoredName': 'The Hot Fives and Hot Sevens, Volume III', 'artistViewUrl': 'https://music.apple.com/us/artist/louis-armstrong/518462?uo=4', 'collectionViewUrl': 'https://music.apple.com/us/album/the-hot-fives-and-hot-sevens-volume-iii/193043791?uo=4', 'artworkUrl60': 'https://is1-ssl.mzstatic.com/image/thumb/Music/8a/e3/a3/mzi.rokwiykt.jpg/60x60bb.jpg', 'artworkUrl100': 'https://is1-ssl.mzstatic.com/image/thumb/Music/8a/e3/a3/mzi.rokwiykt.jpg/100x100bb.jpg', 'collectionPrice': 9.99, 'collectionExplicitness': 'notExplicit', 'trackCount': 16, 'copyright': '℗ 1989 CBS RECORDS INC.', 'country': 'USA', 'currency': 'USD', 'releaseDate': '1989-03-24T08:00:00Z', 'primaryGenreName': 'Jazz'}, {'wrapperType': 'collection', 'collectionType': 'Album', 'artistId': 518462, 'collectionId': 1443885095, 'amgArtistId': 52456, 'artistName': 'Louis Armstrong', 'collectionName': 'Louis And The Good Book (Expanded Edition) [feat. Sy Oliver Choir & The All Stars]', 'collectionCensoredName': 'Louis And The Good Book (Expanded Edition) [feat. Sy Oliver Choir & The All Stars]', 'artistViewUrl': 'https://music.apple.com/us/artist/louis-armstrong/518462?uo=4', 'collectionViewUrl': 'https://music.apple.com/us/album/louis-and-the-good-book-expanded-edition-feat-sy/1443885095?uo=4', 'artworkUrl60': 'https://is1-ssl.mzstatic.com/image/thumb/Music113/v4/db/02/17/db021720-b9c4-5567-a19b-74a3a2b22e23/06UMGIM07578.rgb.jpg/60x60bb.jpg', 'artworkUrl100': 'https://is1-ssl.mzstatic.com/image/thumb/Music113/v4/db/02/17/db021720-b9c4-5567-a19b-74a3a2b22e23/06UMGIM07578.rgb.jpg/100x100bb.jpg', 'collectionPrice': 9.99, 'collectionExplicitness': 'notExplicit', 'trackCount': 20, 'copyright': '℗ 2001 The Verve Music Group, a Division of UMG Recordings, Inc.', 'country': 'USA', 'currency': 'USD', 'releaseDate': '1958-01-01T08:00:00Z', 'primaryGenreName': 'Jazz'}, {'wrapperType': 'collection', 'collectionType': 'Album', 'artistId': 518462, 'collectionId': 1422000964, 'amgArtistId': 52456, 'artistName': 'Louis Armstrong', 'collectionName': 'Hello, Dolly! (Remastered)', 'collectionCensoredName': 'Hello, Dolly! (Remastered)', 'artistViewUrl': 'https://music.apple.com/us/artist/louis-armstrong/518462?uo=4', 'collectionViewUrl': 'https://music.apple.com/us/album/hello-dolly-remastered/1422000964?uo=4', 'artworkUrl60': 'https://is1-ssl.mzstatic.com/image/thumb/Music118/v4/d5/e4/d3/d5e4d368-71bd-d5c6-e048-d2588168e151/00602567832645.rgb.jpg/60x60bb.jpg', 'artworkUrl100': 'https://is1-ssl.mzstatic.com/image/thumb/Music118/v4/d5/e4/d3/d5e4d368-71bd-d5c6-e048-d2588168e151/00602567832645.rgb.jpg/100x100bb.jpg', 'collectionPrice': 9.99, 'collectionExplicitness': 'notExplicit', 'trackCount': 12, 'copyright': 'A Verve Label Group release; ℗ 1964 UMG Recordings, Inc.', 'country': 'USA', 'currency': 'USD', 'releaseDate': '1964-10-25T07:00:00Z', 'primaryGenreName': 'Jazz'}, {'wrapperType': 'collection', 'collectionType': 'Album', 'artistId': 518462, 'collectionId': 198154274, 'amgArtistId': 52456, 'artistName': 'Louis Armstrong', 'collectionName': 'The Hot Fives and Hot Sevens - Volume II', 'collectionCensoredName': 'The Hot Fives and Hot Sevens - Volume II', 'artistViewUrl': 'https://music.apple.com/us/artist/louis-armstrong/518462?uo=4', 'collectionViewUrl': 'https://music.apple.com/us/album/the-hot-fives-and-hot-sevens-volume-ii/198154274?uo=4', 'artworkUrl60': 'https://is1-ssl.mzstatic.com/image/thumb/Features/a0/39/18/dj.yzxzouhk.jpg/60x60bb.jpg', 'artworkUrl100': 'https://is1-ssl.mzstatic.com/image/thumb/Features/a0/39/18/dj.yzxzouhk.jpg/100x100bb.jpg', 'collectionPrice': 9.99, 'collectionExplicitness': 'notExplicit', 'trackCount': 16, 'copyright': '℗ Originally Released 1926, 1927 SONY BMG MUSIC ENTERTAINMENT', 'country': 'USA', 'currency': 'USD', 'releaseDate': '1988-08-30T07:00:00Z', 'primaryGenreName': 'Jazz'}, {'wrapperType': 'collection', 'collectionType': 'Album', 'artistId': 518462, 'collectionId': 1445962080, 'amgArtistId': 52456, 'artistName': 'Louis Armstrong', 'collectionName': 'The Definitive Collection', 'collectionCensoredName': 'The Definitive Collection', 'artistViewUrl': 'https://music.apple.com/us/artist/louis-armstrong/518462?uo=4', 'collectionViewUrl': 'https://music.apple.com/us/album/the-definitive-collection/1445962080?uo=4', 'artworkUrl60': 'https://is1-ssl.mzstatic.com/image/thumb/Music126/v4/4b/97/19/4b97196f-dc07-da4f-c4ec-23ebcc8a2a2e/06UMGIM12568.rgb.jpg/60x60bb.jpg', 'artworkUrl100': 'https://is1-ssl.mzstatic.com/image/thumb/Music126/v4/4b/97/19/4b97196f-dc07-da4f-c4ec-23ebcc8a2a2e/06UMGIM12568.rgb.jpg/100x100bb.jpg', 'collectionPrice': 12.99, 'collectionExplicitness': 'notExplicit', 'trackCount': 23, 'copyright': 'A Universal Music Enterprises Release; This Compilation ℗ 2006 UMG Recordings, Inc.', 'country': 'USA', 'currency': 'USD', 'releaseDate': '2006-01-24T08:00:00Z', 'primaryGenreName': 'Jazz'}, {'wrapperType': 'collection', 'collectionType': 'Album', 'artistId': 518462, 'collectionId': 1443898502, 'amgArtistId': 52456, 'artistName': 'Louis Armstrong', 'collectionName': 'Satchmo Serenades', 'collectionCensoredName': 'Satchmo Serenades', 'artistViewUrl': 'https://music.apple.com/us/artist/louis-armstrong/518462?uo=4', 'collectionViewUrl': 'https://music.apple.com/us/album/satchmo-serenades/1443898502?uo=4', 'artworkUrl60': 'https://is1-ssl.mzstatic.com/image/thumb/Music122/v4/2a/6d/0b/2a6d0bdc-7177-987a-b0be-1d5f3ad98dfb/06UMGIM72672.rgb.jpg/60x60bb.jpg', 'artworkUrl100': 'https://is1-ssl.mzstatic.com/image/thumb/Music122/v4/2a/6d/0b/2a6d0bdc-7177-987a-b0be-1d5f3ad98dfb/06UMGIM72672.rgb.jpg/100x100bb.jpg', 'collectionPrice': 9.99, 'collectionExplicitness': 'notExplicit', 'trackCount': 18, 'copyright': 'This Compilation ℗ 2000 The Verve Music Group, a Division of UMG Recordings, Inc.', 'country': 'USA', 'currency': 'USD', 'releaseDate': '1952-04-01T08:00:00Z', 'primaryGenreName': 'Jazz'}, {'wrapperType': 'collection', 'collectionType': 'Album', 'artistId': 518462, 'collectionId': 185583127, 'amgArtistId': 52456, 'artistName': 'Louis Armstrong', 'collectionName': 'Stardust', 'collectionCensoredName': 'Stardust', 'artistViewUrl': 'https://music.apple.com/us/artist/louis-armstrong/518462?uo=4', 'collectionViewUrl': 'https://music.apple.com/us/album/stardust/185583127?uo=4', 'artworkUrl60': 'https://is1-ssl.mzstatic.com/image/thumb/Music/ea/a4/4f/mzi.hgjrbnnn.jpg/60x60bb.jpg', 'artworkUrl100': 'https://is1-ssl.mzstatic.com/image/thumb/Music/ea/a4/4f/mzi.hgjrbnnn.jpg/100x100bb.jpg', 'collectionPrice': 9.99, 'collectionExplicitness': 'notExplicit', 'trackCount': 16, 'copyright': '℗ Originally released 1930, 1931, 1932 Sony Music Entertainment Inc.', 'country': 'USA', 'currency': 'USD', 'releaseDate': '1988-09-16T07:00:00Z', 'primaryGenreName': 'Jazz'}, {'wrapperType': 'collection', 'collectionType': 'Album', 'artistId': 2815301, 'collectionId': 1444100500, 'amgArtistId': 7257, 'artistName': 'King Oliver & Louis Armstrong', 'collectionName': 'Louis Armstrong and King Oliver', 'collectionCensoredName': 'Louis Armstrong and King Oliver', 'artistViewUrl': 'https://music.apple.com/us/artist/king-oliver/2815301?uo=4', 'collectionViewUrl': 'https://music.apple.com/us/album/louis-armstrong-and-king-oliver/1444100500?uo=4', 'artworkUrl60': 'https://is1-ssl.mzstatic.com/image/thumb/Music118/v4/6b/e2/8b/6be28bcc-dd45-0b14-ab26-a9640e8b5e45/00025218471725.rgb.jpg/60x60bb.jpg', 'artworkUrl100': 'https://is1-ssl.mzstatic.com/image/thumb/Music118/v4/6b/e2/8b/6be28bcc-dd45-0b14-ab26-a9640e8b5e45/00025218471725.rgb.jpg/100x100bb.jpg', 'collectionPrice': 11.99, 'collectionExplicitness': 'notExplicit', 'trackCount': 25, 'copyright': 'This Compilation ℗ 1992 Fantasy, Inc.', 'country': 'USA', 'currency': 'USD', 'releaseDate': '1992-01-01T08:00:00Z', 'primaryGenreName': 'Jazz'}, {'wrapperType': 'collection', 'collectionType': 'Album', 'artistId': 518462, 'collectionId': 203794047, 'amgArtistId': 52456, 'artistName': 'Louis Armstrong & The Louis Armstrong Orchestra', 'collectionName': 'Love Songs', 'collectionCensoredName': 'Love Songs', 'artistViewUrl': 'https://music.apple.com/us/artist/louis-armstrong/518462?uo=4', 'collectionViewUrl': 'https://music.apple.com/us/album/love-songs/203794047?uo=4', 'artworkUrl60': 'https://is1-ssl.mzstatic.com/image/thumb/Music/5d/bd/2a/mzi.jiesygla.jpg/60x60bb.jpg', 'artworkUrl100': 'https://is1-ssl.mzstatic.com/image/thumb/Music/5d/bd/2a/mzi.jiesygla.jpg/100x100bb.jpg', 'collectionPrice': 9.99, 'collectionExplicitness': 'notExplicit', 'trackCount': 15, 'copyright': '℗ Originally Released 1930, 1953, 1955, 1962, 1967, 1982/ (P) 2000 SONY BMG MUSIC ENTERTAINMENT', 'country': 'USA', 'currency': 'USD', 'releaseDate': '2000-01-01T08:00:00Z', 'primaryGenreName': 'Jazz'}, {'wrapperType': 'collection', 'collectionType': 'Album', 'artistId': 518462, 'collectionId': 1444127009, 'amgArtistId': 52456, 'artistName': 'Louis Armstrong', 'collectionName': 'The Best of the Decca Years, Vol. 1 - The Singer', 'collectionCensoredName': 'The Best of the Decca Years, Vol. 1 - The Singer', 'artistViewUrl': 'https://music.apple.com/us/artist/louis-armstrong/518462?uo=4', 'collectionViewUrl': 'https://music.apple.com/us/album/the-best-of-the-decca-years-vol-1-the-singer/1444127009?uo=4', 'artworkUrl60': 'https://is1-ssl.mzstatic.com/image/thumb/Music112/v4/63/08/9b/63089bf1-2cb6-7de2-c9f6-603bfcafdb81/06UMGIM00892.rgb.jpg/60x60bb.jpg', 'artworkUrl100': 'https://is1-ssl.mzstatic.com/image/thumb/Music112/v4/63/08/9b/63089bf1-2cb6-7de2-c9f6-603bfcafdb81/06UMGIM00892.rgb.jpg/100x100bb.jpg', 'collectionPrice': 7.99, 'collectionExplicitness': 'notExplicit', 'trackCount': 13, 'copyright': 'This Compilation ℗ 1989 UMG Recordings, Inc.', 'country': 'USA', 'currency': 'USD', 'releaseDate': '1989-01-01T08:00:00Z', 'primaryGenreName': 'Jazz'}, {'wrapperType': 'collection', 'collectionType': 'Album', 'artistId': 518462, 'collectionId': 1650994604, 'amgArtistId': 52456, 'artistName': 'Louis Armstrong', 'collectionName': 'The Best Live Concert Vol. 1', 'collectionCensoredName': 'The Best Live Concert Vol. 1', 'artistViewUrl': 'https://music.apple.com/us/artist/louis-armstrong/518462?uo=4', 'collectionViewUrl': 'https://music.apple.com/us/album/the-best-live-concert-vol-1/1650994604?uo=4', 'artworkUrl60': 'https://is1-ssl.mzstatic.com/image/thumb/Music122/v4/26/b9/32/26b93274-9080-15c7-0907-20c9c97e1701/22UM1IM22239.rgb.jpg/60x60bb.jpg', 'artworkUrl100': 'https://is1-ssl.mzstatic.com/image/thumb/Music122/v4/26/b9/32/26b93274-9080-15c7-0907-20c9c97e1701/22UM1IM22239.rgb.jpg/100x100bb.jpg', 'collectionPrice': 9.99, 'collectionExplicitness': 'notExplicit', 'trackCount': 11, 'copyright': '℗ 1973 Decca Records France', 'country': 'USA', 'currency': 'USD', 'releaseDate': '1973-01-01T08:00:00Z', 'primaryGenreName': 'Jazz'}, {'wrapperType': 'collection', 'collectionType': 'Album', 'artistId': 73568, 'collectionId': 1425173241, 'amgArtistId': 6503, 'artistName': 'Ella Fitzgerald & Louis Armstrong', 'collectionName': 'Our Love Is Here To Stay: Ella & Louis Sing Gershwin', 'collectionCensoredName': 'Our Love Is Here To Stay: Ella & Louis Sing Gershwin', 'artistViewUrl': 'https://music.apple.com/us/artist/ella-fitzgerald/73568?uo=4', 'collectionViewUrl': 'https://music.apple.com/us/album/our-love-is-here-to-stay-ella-louis-sing-gershwin/1425173241?uo=4', 'artworkUrl60': 'https://is1-ssl.mzstatic.com/image/thumb/Music122/v4/b1/ae/c1/b1aec172-8337-4261-f8fc-0ba7a1a6cf71/06UMGIM08156.rgb.jpg/60x60bb.jpg', 'artworkUrl100': 'https://is1-ssl.mzstatic.com/image/thumb/Music122/v4/b1/ae/c1/b1aec172-8337-4261-f8fc-0ba7a1a6cf71/06UMGIM08156.rgb.jpg/100x100bb.jpg', 'collectionPrice': 9.99, 'collectionExplicitness': 'notExplicit', 'trackCount': 16, 'copyright': 'A Verve Label Group release; This Compilation ℗ 1998 UMG Recordings, Inc.', 'country': 'USA', 'currency': 'USD', 'releaseDate': '1998-01-23T08:00:00Z', 'primaryGenreName': 'Jazz'}, {'wrapperType': 'collection', 'collectionType': 'Album', 'artistId': 518462, 'collectionId': 1507255091, 'amgArtistId': 52456, 'artistName': 'Louis Armstrong', 'collectionName': 'Satchmo: The Decca and Verve Years 1924-1967', 'collectionCensoredName': 'Satchmo: The Decca and Verve Years 1924-1967', 'artistViewUrl': 'https://music.apple.com/us/artist/louis-armstrong/518462?uo=4', 'collectionViewUrl': 'https://music.apple.com/us/album/satchmo-the-decca-and-verve-years-1924-1967/1507255091?uo=4', 'artworkUrl60': 'https://is1-ssl.mzstatic.com/image/thumb/Music124/v4/8f/1a/15/8f1a1572-dbd0-63d9-5930-b037e5f50558/20UMGIM04985.rgb.jpg/60x60bb.jpg', 'artworkUrl100': 'https://is1-ssl.mzstatic.com/image/thumb/Music124/v4/8f/1a/15/8f1a1572-dbd0-63d9-5930-b037e5f50558/20UMGIM04985.rgb.jpg/100x100bb.jpg', 'collectionPrice': 29.99, 'collectionExplicitness': 'notExplicit', 'trackCount': 64, 'copyright': 'A Verve Label Group Release; This Compilation ℗ 2020 UMG Recordings, Inc.', 'country': 'USA', 'currency': 'USD', 'releaseDate': '2020-04-17T07:00:00Z', 'primaryGenreName': 'Jazz'}, {'wrapperType': 'collection', 'collectionType': 'Album', 'artistId': 518462, 'collectionId': 1430170339, 'amgArtistId': 52456, 'artistName': 'Louis Armstrong', 'collectionName': 'Hello Louis: The Hit Years (1963-1969)', 'collectionCensoredName': 'Hello Louis: The Hit Years (1963-1969)', 'artistViewUrl': 'https://music.apple.com/us/artist/louis-armstrong/518462?uo=4', 'collectionViewUrl': 'https://music.apple.com/us/album/hello-louis-the-hit-years-1963-1969/1430170339?uo=4', 'artworkUrl60': 'https://is1-ssl.mzstatic.com/image/thumb/Music116/v4/08/61/8f/08618f58-0645-6916-248d-4e179a23cc15/10UMGIM18453.rgb.jpg/60x60bb.jpg', 'artworkUrl100': 'https://is1-ssl.mzstatic.com/image/thumb/Music116/v4/08/61/8f/08618f58-0645-6916-248d-4e179a23cc15/10UMGIM18453.rgb.jpg/100x100bb.jpg', 'collectionPrice': 19.99, 'collectionExplicitness': 'notExplicit', 'trackCount': 39, 'copyright': 'This Compilation ℗ 2010 The Verve Music Group, a Division of UMG Recordings, Inc.', 'country': 'USA', 'currency': 'USD', 'releaseDate': '2010-01-01T08:00:00Z', 'primaryGenreName': 'Jazz'}, {'wrapperType': 'collection', 'collectionType': 'Album', 'artistId': 518462, 'collectionId': 293785408, 'amgArtistId': 52456, 'artistName': 'Louis Armstrong', 'collectionName': 'The Complete Hot Five and Hot Seven Recordings, Vol. 1', 'collectionCensoredName': 'The Complete Hot Five and Hot Seven Recordings, Vol. 1', 'artistViewUrl': 'https://music.apple.com/us/artist/louis-armstrong/518462?uo=4', 'collectionViewUrl': 'https://music.apple.com/us/album/the-complete-hot-five-and-hot-seven-recordings-vol-1/293785408?uo=4', 'artworkUrl60': 'https://is1-ssl.mzstatic.com/image/thumb/Music5/v4/50/7c/fc/507cfcf4-6e01-bb97-b11d-4ca44b297365/dj.lclmweis.jpg/60x60bb.jpg', 'artworkUrl100': 'https://is1-ssl.mzstatic.com/image/thumb/Music5/v4/50/7c/fc/507cfcf4-6e01-bb97-b11d-4ca44b297365/dj.lclmweis.jpg/100x100bb.jpg', 'collectionPrice': 9.99, 'collectionExplicitness': 'notExplicit', 'trackCount': 20, 'copyright': '℗ Originally Released 1925, 1926, (P) 2003 Sony Music Entertainment Inc.', 'country': 'USA', 'currency': 'USD', 'releaseDate': '2003-04-29T07:00:00Z', 'primaryGenreName': 'Jazz'}, {'wrapperType': 'collection', 'collectionType': 'Album', 'artistId': 518462, 'collectionId': 1509083555, 'amgArtistId': 52456, 'artistName': 'Louis Armstrong', 'collectionName': 'Gold', 'collectionCensoredName': 'Gold', 'artistViewUrl': 'https://music.apple.com/us/artist/louis-armstrong/518462?uo=4', 'collectionViewUrl': 'https://music.apple.com/us/album/gold/1509083555?uo=4', 'artworkUrl60': 'https://is1-ssl.mzstatic.com/image/thumb/Music116/v4/70/e4/9a/70e49a08-6295-fe83-c883-67e1b57a4c41/06UMGIM17463.rgb.jpg/60x60bb.jpg', 'artworkUrl100': 'https://is1-ssl.mzstatic.com/image/thumb/Music116/v4/70/e4/9a/70e49a08-6295-fe83-c883-67e1b57a4c41/06UMGIM17463.rgb.jpg/100x100bb.jpg', 'collectionPrice': 19.99, 'collectionExplicitness': 'notExplicit', 'trackCount': 40, 'copyright': 'This Compilation ℗ 2006 UMG Recordings, Inc.', 'country': 'USA', 'currency': 'USD', 'releaseDate': '2006-09-19T07:00:00Z', 'primaryGenreName': 'Jazz'}, {'wrapperType': 'collection', 'collectionType': 'Album', 'artistId': 518462, 'collectionId': 1472215625, 'amgArtistId': 52456, 'artistName': 'Louis Armstrong', 'collectionName': 'The Best Live Concert Vol.2', 'collectionCensoredName': 'The Best Live Concert Vol.2', 'artistViewUrl': 'https://music.apple.com/us/artist/louis-armstrong/518462?uo=4', 'collectionViewUrl': 'https://music.apple.com/us/album/the-best-live-concert-vol-2/1472215625?uo=4', 'artworkUrl60': 'https://is1-ssl.mzstatic.com/image/thumb/Music113/v4/ee/75/2c/ee752caa-5a10-83d1-5cc2-82a80c5dd97a/06UMGIM42391.rgb.jpg/60x60bb.jpg', 'artworkUrl100': 'https://is1-ssl.mzstatic.com/image/thumb/Music113/v4/ee/75/2c/ee752caa-5a10-83d1-5cc2-82a80c5dd97a/06UMGIM42391.rgb.jpg/100x100bb.jpg', 'collectionPrice': 9.99, 'collectionExplicitness': 'notExplicit', 'trackCount': 10, 'copyright': '℗ 2000 Decca Records France', 'country': 'USA', 'currency': 'USD', 'releaseDate': '2000-01-01T08:00:00Z', 'primaryGenreName': 'Jazz'}, {'wrapperType': 'collection', 'collectionType': 'Album', 'artistId': 518462, 'collectionId': 1435198148, 'amgArtistId': 52456, 'artistName': 'Louis Armstrong', 'collectionName': \"Let's Do It: Best of the Verve Years\", 'collectionCensoredName': \"Let's Do It: Best of the Verve Years\", 'artistViewUrl': 'https://music.apple.com/us/artist/louis-armstrong/518462?uo=4', 'collectionViewUrl': 'https://music.apple.com/us/album/lets-do-it-best-of-the-verve-years/1435198148?uo=4', 'artworkUrl60': 'https://is1-ssl.mzstatic.com/image/thumb/Music122/v4/10/c4/68/10c4686d-7aef-adb3-4a38-49d90cb6e590/06UMGIM07574.rgb.jpg/60x60bb.jpg', 'artworkUrl100': 'https://is1-ssl.mzstatic.com/image/thumb/Music122/v4/10/c4/68/10c4686d-7aef-adb3-4a38-49d90cb6e590/06UMGIM07574.rgb.jpg/100x100bb.jpg', 'collectionPrice': 16.99, 'collectionExplicitness': 'notExplicit', 'trackCount': 34, 'copyright': 'A Verve Label Group release; This Compilation ℗ 1995 UMG Recordings, Inc.', 'country': 'USA', 'currency': 'USD', 'releaseDate': '1995-09-26T07:00:00Z', 'primaryGenreName': 'Jazz'}, {'wrapperType': 'collection', 'collectionType': 'Album', 'artistId': 518462, 'collectionId': 1711277199, 'amgArtistId': 52456, 'artistName': 'Louis Armstrong', 'collectionName': 'Louis \"Satchmo\" Armstrong & Friends', 'collectionCensoredName': 'Louis \"Satchmo\" Armstrong & Friends', 'artistViewUrl': 'https://music.apple.com/us/artist/louis-armstrong/518462?uo=4', 'collectionViewUrl': 'https://music.apple.com/us/album/louis-satchmo-armstrong-friends/1711277199?uo=4', 'artworkUrl60': 'https://is1-ssl.mzstatic.com/image/thumb/Music126/v4/8e/3e/ac/8e3eacca-ae32-0864-cda0-c6244a9e3284/23UM1IM17964.rgb.jpg/60x60bb.jpg', 'artworkUrl100': 'https://is1-ssl.mzstatic.com/image/thumb/Music126/v4/8e/3e/ac/8e3eacca-ae32-0864-cda0-c6244a9e3284/23UM1IM17964.rgb.jpg/100x100bb.jpg', 'collectionPrice': 12.99, 'collectionExplicitness': 'notExplicit', 'trackCount': 24, 'copyright': 'A Verve Label Group Release; This Compilation ℗ 1989 UMG Recordings, Inc.', 'country': 'USA', 'currency': 'USD', 'releaseDate': '1989-01-01T08:00:00Z', 'primaryGenreName': 'Jazz'}, {'wrapperType': 'collection', 'collectionType': 'Album', 'artistId': 518462, 'collectionId': 695988623, 'amgArtistId': 52456, 'artistName': 'Louis Armstrong & Duke Ellington', 'collectionName': 'The Great Summit: Complete Sessions (Deluxe Edition)', 'collectionCensoredName': 'The Great Summit: Complete Sessions (Deluxe Edition)', 'artistViewUrl': 'https://music.apple.com/us/artist/louis-armstrong/518462?uo=4', 'collectionViewUrl': 'https://music.apple.com/us/album/the-great-summit-complete-sessions-deluxe-edition/695988623?uo=4', 'artworkUrl60': 'https://is1-ssl.mzstatic.com/image/thumb/Music6/v4/47/c5/26/47c526c2-131f-4440-fc65-e47e10bbed51/724352454655.jpg/60x60bb.jpg', 'artworkUrl100': 'https://is1-ssl.mzstatic.com/image/thumb/Music6/v4/47/c5/26/47c526c2-131f-4440-fc65-e47e10bbed51/724352454655.jpg/100x100bb.jpg', 'collectionPrice': 12.99, 'collectionExplicitness': 'notExplicit', 'trackCount': 27, 'copyright': '℗ 2000 Roulette Jazz (R) is a registered trademark of Parlophone Records Ltd. (P) 2000 Parlophone Records, Ltd.', 'country': 'USA', 'currency': 'USD', 'releaseDate': '2000-07-06T07:00:00Z', 'primaryGenreName': 'Jazz'}, {'wrapperType': 'collection', 'collectionType': 'Album', 'artistId': 518462, 'collectionId': 1445668547, 'amgArtistId': 52456, 'artistName': 'Louis Armstrong', 'collectionName': 'Louis Armstrong: Highlights from His Decca Years (The Original Decca Recordings)', 'collectionCensoredName': 'Louis Armstrong: Highlights from His Decca Years (The Original Decca Recordings)', 'artistViewUrl': 'https://music.apple.com/us/artist/louis-armstrong/518462?uo=4', 'collectionViewUrl': 'https://music.apple.com/us/album/louis-armstrong-highlights-from-his-decca-years-the/1445668547?uo=4', 'artworkUrl60': 'https://is1-ssl.mzstatic.com/image/thumb/Music122/v4/4e/94/ba/4e94ba92-463f-b37e-37d9-9f543b9700c4/06UMGIM03781.rgb.jpg/60x60bb.jpg', 'artworkUrl100': 'https://is1-ssl.mzstatic.com/image/thumb/Music122/v4/4e/94/ba/4e94ba92-463f-b37e-37d9-9f543b9700c4/06UMGIM03781.rgb.jpg/100x100bb.jpg', 'collectionPrice': 16.99, 'collectionExplicitness': 'notExplicit', 'trackCount': 36, 'copyright': 'This Compilation ℗ 1994 UMG Recordings, Inc.', 'country': 'USA', 'currency': 'USD', 'releaseDate': '1994-01-01T08:00:00Z', 'primaryGenreName': 'Jazz'}, {'wrapperType': 'collection', 'collectionType': 'Album', 'artistId': 518462, 'collectionId': 198229298, 'amgArtistId': 52456, 'artistName': 'Louis Armstrong', 'collectionName': \"You're Driving Me Crazy (1930-1931), Vol. 7\", 'collectionCensoredName': \"You're Driving Me Crazy (1930-1931), Vol. 7\", 'artistViewUrl': 'https://music.apple.com/us/artist/louis-armstrong/518462?uo=4', 'collectionViewUrl': 'https://music.apple.com/us/album/youre-driving-me-crazy-1930-1931-vol-7/198229298?uo=4', 'artworkUrl60': 'https://is1-ssl.mzstatic.com/image/thumb/Music/c6/be/90/mzi.nzksavcx.jpg/60x60bb.jpg', 'artworkUrl100': 'https://is1-ssl.mzstatic.com/image/thumb/Music/c6/be/90/mzi.nzksavcx.jpg/100x100bb.jpg', 'collectionPrice': 9.99, 'collectionExplicitness': 'notExplicit', 'trackCount': 18, 'copyright': '℗ 1993 Sony Music Entertainment Inc.', 'country': 'USA', 'currency': 'USD', 'releaseDate': '1993-04-02T08:00:00Z', 'primaryGenreName': 'Jazz'}, {'wrapperType': 'collection', 'collectionType': 'Album', 'artistId': 936963, 'collectionId': 405529503, 'artistName': \"King Oliver's Creole Jazz Band\", 'collectionName': 'Editio Princeps', 'collectionCensoredName': 'Editio Princeps', 'artistViewUrl': 'https://music.apple.com/us/artist/king-olivers-creole-jazz-band/936963?uo=4', 'collectionViewUrl': 'https://music.apple.com/us/album/editio-princeps/405529503?uo=4', 'artworkUrl60': 'https://is1-ssl.mzstatic.com/image/thumb/Music/cf/40/87/mzi.kzsoibsx.jpg/60x60bb.jpg', 'artworkUrl100': 'https://is1-ssl.mzstatic.com/image/thumb/Music/cf/40/87/mzi.kzsoibsx.jpg/100x100bb.jpg', 'collectionPrice': 5.99, 'collectionExplicitness': 'notExplicit', 'trackCount': 39, 'copyright': '℗ 2010 Vintage Records', 'country': 'USA', 'currency': 'USD', 'releaseDate': '2010-11-19T08:00:00Z', 'primaryGenreName': 'Jazz'}, {'wrapperType': 'collection', 'collectionType': 'Album', 'artistId': 518462, 'collectionId': 169733658, 'amgArtistId': 52456, 'artistName': 'Louis Armstrong', 'collectionName': 'Satchmo the Great', 'collectionCensoredName': 'Satchmo the Great', 'artistViewUrl': 'https://music.apple.com/us/artist/louis-armstrong/518462?uo=4', 'collectionViewUrl': 'https://music.apple.com/us/album/satchmo-the-great/169733658?uo=4', 'artworkUrl60': 'https://is1-ssl.mzstatic.com/image/thumb/Music/7d/7a/c2/mzi.xbnzhjmr.jpg/60x60bb.jpg', 'artworkUrl100': 'https://is1-ssl.mzstatic.com/image/thumb/Music/7d/7a/c2/mzi.xbnzhjmr.jpg/100x100bb.jpg', 'collectionPrice': 9.99, 'collectionExplicitness': 'notExplicit', 'trackCount': 26, 'copyright': '℗ Originally Released 1957, Originally Recorded 1957, (P) 1980, 2000 Sony Music Entertainment Inc.', 'country': 'USA', 'currency': 'USD', 'releaseDate': '2000-05-22T07:00:00Z', 'primaryGenreName': 'Jazz'}, {'wrapperType': 'collection', 'collectionType': 'Album', 'artistId': 518462, 'collectionId': 1360037655, 'amgArtistId': 52456, 'artistName': 'Louis Armstrong', 'collectionName': 'Pops Is Tops: The Verve Studio Albums', 'collectionCensoredName': 'Pops Is Tops: The Verve Studio Albums', 'artistViewUrl': 'https://music.apple.com/us/artist/louis-armstrong/518462?uo=4', 'collectionViewUrl': 'https://music.apple.com/us/album/pops-is-tops-the-verve-studio-albums/1360037655?uo=4', 'artworkUrl60': 'https://is1-ssl.mzstatic.com/image/thumb/Music118/v4/bb/b1/52/bbb15291-9b70-8725-55b6-ccbcf93fc8a8/00602567557555.rgb.jpg/60x60bb.jpg', 'artworkUrl100': 'https://is1-ssl.mzstatic.com/image/thumb/Music118/v4/bb/b1/52/bbb15291-9b70-8725-55b6-ccbcf93fc8a8/00602567557555.rgb.jpg/100x100bb.jpg', 'collectionPrice': 34.99, 'collectionExplicitness': 'notExplicit', 'trackCount': 72, 'copyright': 'A Verve Records release; This Compilation ℗ 2018 UMG Recordings, Inc.', 'country': 'USA', 'currency': 'USD', 'releaseDate': '2018-04-13T07:00:00Z', 'primaryGenreName': 'Jazz'}, {'wrapperType': 'collection', 'collectionType': 'Album', 'artistId': 518462, 'collectionId': 1592055234, 'amgArtistId': 52456, 'artistName': 'Louis Armstrong', 'collectionName': 'Gospel Book', 'collectionCensoredName': 'Gospel Book', 'artistViewUrl': 'https://music.apple.com/us/artist/louis-armstrong/518462?uo=4', 'collectionViewUrl': 'https://music.apple.com/us/album/gospel-book/1592055234?uo=4', 'artworkUrl60': 'https://is1-ssl.mzstatic.com/image/thumb/Music126/v4/f3/e0/61/f3e0618c-001f-a72c-c2d9-1c7173873e9f/886447954195.jpg/60x60bb.jpg', 'artworkUrl100': 'https://is1-ssl.mzstatic.com/image/thumb/Music126/v4/f3/e0/61/f3e0618c-001f-a72c-c2d9-1c7173873e9f/886447954195.jpg/100x100bb.jpg', 'collectionPrice': 9.99, 'collectionExplicitness': 'notExplicit', 'trackCount': 18, 'copyright': '℗ 2010 Editions Jade', 'country': 'USA', 'currency': 'USD', 'releaseDate': '2021-10-22T07:00:00Z', 'primaryGenreName': 'Pop'}, {'wrapperType': 'collection', 'collectionType': 'Album', 'artistId': 518462, 'collectionId': 912342163, 'amgArtistId': 52456, 'artistName': 'Louis Armstrong & Duke Ellington', 'collectionName': 'The Great Reunion', 'collectionCensoredName': 'The Great Reunion', 'artistViewUrl': 'https://music.apple.com/us/artist/louis-armstrong/518462?uo=4', 'collectionViewUrl': 'https://music.apple.com/us/album/the-great-reunion/912342163?uo=4', 'artworkUrl60': 'https://is1-ssl.mzstatic.com/image/thumb/Music125/v4/40/40/aa/4040aad6-6b09-c4ea-1112-9756846ee65b/825646223749.jpg/60x60bb.jpg', 'artworkUrl100': 'https://is1-ssl.mzstatic.com/image/thumb/Music125/v4/40/40/aa/4040aad6-6b09-c4ea-1112-9756846ee65b/825646223749.jpg/100x100bb.jpg', 'collectionPrice': 8.99, 'collectionExplicitness': 'notExplicit', 'trackCount': 7, 'copyright': '℗ 1963 Parlophone Records Ltd, a Warner Music Group Company', 'country': 'USA', 'currency': 'USD', 'releaseDate': '2014-08-18T07:00:00Z', 'primaryGenreName': 'Jazz'}, {'wrapperType': 'collection', 'collectionType': 'Album', 'artistId': 518462, 'collectionId': 193044433, 'amgArtistId': 52456, 'artistName': 'Louis Armstrong', 'collectionName': 'Vol. 6 St. Louis Blues', 'collectionCensoredName': 'Vol. 6 St. Louis Blues', 'artistViewUrl': 'https://music.apple.com/us/artist/louis-armstrong/518462?uo=4', 'collectionViewUrl': 'https://music.apple.com/us/album/vol-6-st-louis-blues/193044433?uo=4', 'artworkUrl60': 'https://is1-ssl.mzstatic.com/image/thumb/Music/e5/ff/ed/mzi.skoqniyp.jpg/60x60bb.jpg', 'artworkUrl100': 'https://is1-ssl.mzstatic.com/image/thumb/Music/e5/ff/ed/mzi.skoqniyp.jpg/100x100bb.jpg', 'collectionPrice': 9.99, 'collectionExplicitness': 'notExplicit', 'trackCount': 23, 'copyright': '℗ 1991 SONY BMG MUSIC ENTERTAINMENT', 'country': 'USA', 'currency': 'USD', 'releaseDate': '1991-03-22T08:00:00Z', 'primaryGenreName': 'Jazz'}, {'wrapperType': 'collection', 'collectionType': 'Album', 'artistId': 518462, 'collectionId': 1434915606, 'amgArtistId': 52456, 'artistName': 'Louis Armstrong', 'collectionName': 'Louis Armstrong Sings : Back Through the Years', 'collectionCensoredName': 'Louis Armstrong Sings : Back Through the Years', 'artistViewUrl': 'https://music.apple.com/us/artist/louis-armstrong/518462?uo=4', 'collectionViewUrl': 'https://music.apple.com/us/album/louis-armstrong-sings-back-through-the-years/1434915606?uo=4', 'artworkUrl60': 'https://is1-ssl.mzstatic.com/image/thumb/Music126/v4/e7/49/d6/e749d685-7e9c-8f57-f5d9-cc2f212a1536/06UMGIM00890.rgb.jpg/60x60bb.jpg', 'artworkUrl100': 'https://is1-ssl.mzstatic.com/image/thumb/Music126/v4/e7/49/d6/e749d685-7e9c-8f57-f5d9-cc2f212a1536/06UMGIM00890.rgb.jpg/100x100bb.jpg', 'collectionPrice': 17.99, 'collectionExplicitness': 'notExplicit', 'trackCount': 34, 'copyright': 'A Geffen Records Release; This Compilation ℗ 2000 UMG Recordings, Inc.', 'country': 'USA', 'currency': 'USD', 'releaseDate': '2000-03-21T08:00:00Z', 'primaryGenreName': 'Jazz'}, {'wrapperType': 'collection', 'collectionType': 'Album', 'artistId': 518462, 'collectionId': 1443198374, 'amgArtistId': 52456, 'artistName': 'Louis Armstrong', 'collectionName': 'Satchmo at Symphony Hall (Live)', 'collectionCensoredName': 'Satchmo at Symphony Hall (Live)', 'artistViewUrl': 'https://music.apple.com/us/artist/louis-armstrong/518462?uo=4', 'collectionViewUrl': 'https://music.apple.com/us/album/satchmo-at-symphony-hall-live/1443198374?uo=4', 'artworkUrl60': 'https://is1-ssl.mzstatic.com/image/thumb/Music128/v4/9b/51/97/9b519762-f6bc-39a3-5936-7aa49f5bf015/00011105066129.rgb.jpg/60x60bb.jpg', 'artworkUrl100': 'https://is1-ssl.mzstatic.com/image/thumb/Music128/v4/9b/51/97/9b519762-f6bc-39a3-5936-7aa49f5bf015/00011105066129.rgb.jpg/100x100bb.jpg', 'collectionPrice': 9.99, 'collectionExplicitness': 'notExplicit', 'trackCount': 15, 'copyright': '℗ 1996 UMG Recordings, Inc.', 'country': 'USA', 'currency': 'USD', 'releaseDate': '1996-01-01T08:00:00Z', 'primaryGenreName': 'Jazz'}, {'wrapperType': 'collection', 'collectionType': 'Album', 'artistId': 518462, 'collectionId': 1466704359, 'amgArtistId': 52456, 'artistName': 'Louis Armstrong', 'collectionName': 'Satchmo Plays King Oliver', 'collectionCensoredName': 'Satchmo Plays King Oliver', 'artistViewUrl': 'https://music.apple.com/us/artist/louis-armstrong/518462?uo=4', 'collectionViewUrl': 'https://music.apple.com/us/album/satchmo-plays-king-oliver/1466704359?uo=4', 'artworkUrl60': 'https://is1-ssl.mzstatic.com/image/thumb/Music113/v4/13/47/47/134747b3-6031-a5da-eef4-c7cba9b334c5/193483809106.jpg/60x60bb.jpg', 'artworkUrl100': 'https://is1-ssl.mzstatic.com/image/thumb/Music113/v4/13/47/47/134747b3-6031-a5da-eef4-c7cba9b334c5/193483809106.jpg/100x100bb.jpg', 'collectionPrice': 9.99, 'collectionExplicitness': 'notExplicit', 'trackCount': 12, 'copyright': '℗ 1960 © Audio Fidelity™ a division of 43 North Broadway, LLC. WARNING: All Rights Reserved. Unauthorized duplication is a violation of applicable laws.', 'country': 'USA', 'currency': 'USD', 'releaseDate': '1960-05-01T07:00:00Z', 'primaryGenreName': 'Ragtime'}, {'wrapperType': 'collection', 'collectionType': 'Album', 'artistId': 518462, 'collectionId': 1165567483, 'amgArtistId': 52456, 'artistName': 'Louis Armstrong', 'collectionName': 'Louis Armstrong Plays W. C. Handy', 'collectionCensoredName': 'Louis Armstrong Plays W. C. Handy', 'artistViewUrl': 'https://music.apple.com/us/artist/louis-armstrong/518462?uo=4', 'collectionViewUrl': 'https://music.apple.com/us/album/louis-armstrong-plays-w-c-handy/1165567483?uo=4', 'artworkUrl60': 'https://is1-ssl.mzstatic.com/image/thumb/Music71/v4/4a/89/ae/4a89aeb0-a896-c7d2-25ec-51161795d43d/886446157481.jpg/60x60bb.jpg', 'artworkUrl100': 'https://is1-ssl.mzstatic.com/image/thumb/Music71/v4/4a/89/ae/4a89aeb0-a896-c7d2-25ec-51161795d43d/886446157481.jpg/100x100bb.jpg', 'collectionPrice': 9.99, 'collectionExplicitness': 'notExplicit', 'trackCount': 11, 'copyright': '℗ Originally Released 1954 Sony Music Entertainment Inc.', 'country': 'USA', 'currency': 'USD', 'releaseDate': '2016-10-14T07:00:00Z', 'primaryGenreName': 'Jazz'}, {'wrapperType': 'collection', 'collectionType': 'Album', 'artistId': 518462, 'collectionId': 457269138, 'amgArtistId': 52456, 'artistName': 'Louis Armstrong and His All-Stars', 'collectionName': 'Satch Plays Fats', 'collectionCensoredName': 'Satch Plays Fats', 'artistViewUrl': 'https://music.apple.com/us/artist/louis-armstrong/518462?uo=4', 'collectionViewUrl': 'https://music.apple.com/us/album/satch-plays-fats/457269138?uo=4', 'artworkUrl60': 'https://is1-ssl.mzstatic.com/image/thumb/Music126/v4/3b/5a/87/3b5a8725-9c0a-8dca-0fea-b64228a0ed37/dj.nvrgmsmu.jpg/60x60bb.jpg', 'artworkUrl100': 'https://is1-ssl.mzstatic.com/image/thumb/Music126/v4/3b/5a/87/3b5a8725-9c0a-8dca-0fea-b64228a0ed37/dj.nvrgmsmu.jpg/100x100bb.jpg', 'collectionPrice': 7.99, 'collectionExplicitness': 'notExplicit', 'trackCount': 9, 'copyright': '℗ 1986 Sony Music Entertainment Inc.', 'country': 'USA', 'currency': 'USD', 'releaseDate': '1984-01-01T08:00:00Z', 'primaryGenreName': 'Jazz'}, {'wrapperType': 'collection', 'collectionType': 'Album', 'artistId': 518462, 'collectionId': 1444079320, 'amgArtistId': 52456, 'artistName': 'Louis Armstrong', 'collectionName': 'Louis for Lovers', 'collectionCensoredName': 'Louis for Lovers', 'artistViewUrl': 'https://music.apple.com/us/artist/louis-armstrong/518462?uo=4', 'collectionViewUrl': 'https://music.apple.com/us/album/louis-for-lovers/1444079320?uo=4', 'artworkUrl60': 'https://is1-ssl.mzstatic.com/image/thumb/Music122/v4/c6/25/b4/c625b415-78ba-47f1-38d8-9dd44ce2c50c/06UMGIM08815.rgb.jpg/60x60bb.jpg', 'artworkUrl100': 'https://is1-ssl.mzstatic.com/image/thumb/Music122/v4/c6/25/b4/c625b415-78ba-47f1-38d8-9dd44ce2c50c/06UMGIM08815.rgb.jpg/100x100bb.jpg', 'collectionPrice': 9.99, 'collectionExplicitness': 'notExplicit', 'trackCount': 10, 'copyright': 'This Compilation ℗ 2003 The Verve Music Group, a Division of UMG Recordings, Inc.', 'country': 'USA', 'currency': 'USD', 'releaseDate': '2003-01-01T08:00:00Z', 'primaryGenreName': 'Jazz'}, {'wrapperType': 'collection', 'collectionType': 'Album', 'artistId': 518462, 'collectionId': 258590085, 'amgArtistId': 52456, 'artistName': 'Louis Armstrong', 'collectionName': 'Sugar: The Best of the Complete RCA Victor Recordings (Remastered)', 'collectionCensoredName': 'Sugar: The Best of the Complete RCA Victor Recordings (Remastered)', 'artistViewUrl': 'https://music.apple.com/us/artist/louis-armstrong/518462?uo=4', 'collectionViewUrl': 'https://music.apple.com/us/album/sugar-the-best-of-the-complete-rca/258590085?uo=4', 'artworkUrl60': 'https://is1-ssl.mzstatic.com/image/thumb/Features/04/3c/f1/dj.vgogfkgz.jpg/60x60bb.jpg', 'artworkUrl100': 'https://is1-ssl.mzstatic.com/image/thumb/Features/04/3c/f1/dj.vgogfkgz.jpg/100x100bb.jpg', 'collectionPrice': -1.0, 'collectionExplicitness': 'notExplicit', 'trackCount': 16, 'copyright': '℗ 1930, 1947 All Rights Reserved BMG Music', 'country': 'USA', 'currency': 'USD', 'releaseDate': '1999-10-04T07:00:00Z', 'primaryGenreName': 'Jazz'}, {'wrapperType': 'collection', 'collectionType': 'Album', 'artistId': 518462, 'collectionId': 1443240579, 'amgArtistId': 52456, 'artistName': 'Louis Armstrong', 'collectionName': 'The Decca Singles 1949-1958', 'collectionCensoredName': 'The Decca Singles 1949-1958', 'artistViewUrl': 'https://music.apple.com/us/artist/louis-armstrong/518462?uo=4', 'collectionViewUrl': 'https://music.apple.com/us/album/the-decca-singles-1949-1958/1443240579?uo=4', 'artworkUrl60': 'https://is1-ssl.mzstatic.com/image/thumb/Music126/v4/1e/dd/c5/1eddc592-1d96-d0ec-91df-100ddfbc2162/16UMGIM59587.rgb.jpg/60x60bb.jpg', 'artworkUrl100': 'https://is1-ssl.mzstatic.com/image/thumb/Music126/v4/1e/dd/c5/1eddc592-1d96-d0ec-91df-100ddfbc2162/16UMGIM59587.rgb.jpg/100x100bb.jpg', 'collectionPrice': 44.99, 'collectionExplicitness': 'notExplicit', 'trackCount': 95, 'copyright': 'This Compilation ℗ 2016 The Verve Music Group, a Division of UMG Recordings, Inc.', 'country': 'USA', 'currency': 'USD', 'releaseDate': '2016-01-01T08:00:00Z', 'primaryGenreName': 'Jazz'}, {'wrapperType': 'collection', 'collectionType': 'Album', 'artistId': 518462, 'collectionId': 1475264667, 'amgArtistId': 52456, 'artistName': 'Louis Armstrong', 'collectionName': 'Live in Europe', 'collectionCensoredName': 'Live in Europe', 'artistViewUrl': 'https://music.apple.com/us/artist/louis-armstrong/518462?uo=4', 'collectionViewUrl': 'https://music.apple.com/us/album/live-in-europe/1475264667?uo=4', 'artworkUrl60': 'https://is1-ssl.mzstatic.com/image/thumb/Music113/v4/9e/3a/2b/9e3a2b7c-df45-25e9-5eee-b2af53beee7a/604043801527_cover.jpg/60x60bb.jpg', 'artworkUrl100': 'https://is1-ssl.mzstatic.com/image/thumb/Music113/v4/9e/3a/2b/9e3a2b7c-df45-25e9-5eee-b2af53beee7a/604043801527_cover.jpg/100x100bb.jpg', 'collectionPrice': 9.99, 'collectionExplicitness': 'notExplicit', 'trackCount': 16, 'copyright': '℗ 2019 Dot Time Legends', 'country': 'USA', 'currency': 'USD', 'releaseDate': '2019-09-27T07:00:00Z', 'primaryGenreName': 'Trad Jazz'}, {'wrapperType': 'collection', 'collectionType': 'Album', 'artistId': 518462, 'collectionId': 255376078, 'amgArtistId': 52456, 'artistName': 'Louis Armstrong', 'collectionName': \"Sings and Swings (Bluebird's Best Series) [Remastered]\", 'collectionCensoredName': \"Sings and Swings (Bluebird's Best Series) [Remastered]\", 'artistViewUrl': 'https://music.apple.com/us/artist/louis-armstrong/518462?uo=4', 'collectionViewUrl': 'https://music.apple.com/us/album/sings-and-swings-bluebirds-best-series-remastered/255376078?uo=4', 'artworkUrl60': 'https://is1-ssl.mzstatic.com/image/thumb/Features/v4/69/2a/03/692a0310-b31d-a40b-0a6c-34783a10d9e9/dj.rlczsrfb.jpg/60x60bb.jpg', 'artworkUrl100': 'https://is1-ssl.mzstatic.com/image/thumb/Features/v4/69/2a/03/692a0310-b31d-a40b-0a6c-34783a10d9e9/dj.rlczsrfb.jpg/100x100bb.jpg', 'collectionPrice': 9.99, 'collectionExplicitness': 'notExplicit', 'trackCount': 15, 'copyright': '℗ 2002 BMG', 'country': 'USA', 'currency': 'USD', 'releaseDate': '2002-07-26T07:00:00Z', 'primaryGenreName': 'Jazz'}, {'wrapperType': 'collection', 'collectionType': 'Album', 'artistId': 518462, 'collectionId': 1394391664, 'amgArtistId': 52456, 'artistName': 'Louis Armstrong', 'collectionName': 'Louis Armstrong: Sparks, Nevada 1964! (Live)', 'collectionCensoredName': 'Louis Armstrong: Sparks, Nevada 1964! (Live)', 'artistViewUrl': 'https://music.apple.com/us/artist/louis-armstrong/518462?uo=4', 'collectionViewUrl': 'https://music.apple.com/us/album/louis-armstrong-sparks-nevada-1964-live/1394391664?uo=4', 'artworkUrl60': 'https://is1-ssl.mzstatic.com/image/thumb/Music115/v4/94/8f/ae/948fae5e-f3d3-c54c-9020-fff9ead906a9/604043801121_cover.jpg/60x60bb.jpg', 'artworkUrl100': 'https://is1-ssl.mzstatic.com/image/thumb/Music115/v4/94/8f/ae/948fae5e-f3d3-c54c-9020-fff9ead906a9/604043801121_cover.jpg/100x100bb.jpg', 'collectionPrice': 9.99, 'collectionExplicitness': 'notExplicit', 'trackCount': 11, 'copyright': '℗ 2018 Dot Time Legends', 'country': 'USA', 'currency': 'USD', 'releaseDate': '2018-06-22T07:00:00Z', 'primaryGenreName': 'Jazz'}, {'wrapperType': 'collection', 'collectionType': 'Album', 'artistId': 518462, 'collectionId': 1675405189, 'amgArtistId': 52456, 'artistName': 'Louis Armstrong', 'collectionName': 'Verve Jazz Masters 1', 'collectionCensoredName': 'Verve Jazz Masters 1', 'artistViewUrl': 'https://music.apple.com/us/artist/louis-armstrong/518462?uo=4', 'collectionViewUrl': 'https://music.apple.com/us/album/verve-jazz-masters-1/1675405189?uo=4', 'artworkUrl60': 'https://is1-ssl.mzstatic.com/image/thumb/Music116/v4/4b/27/8d/4b278d14-1329-18a9-2972-f546370a8043/23UMGIM17395.rgb.jpg/60x60bb.jpg', 'artworkUrl100': 'https://is1-ssl.mzstatic.com/image/thumb/Music116/v4/4b/27/8d/4b278d14-1329-18a9-2972-f546370a8043/23UMGIM17395.rgb.jpg/100x100bb.jpg', 'collectionPrice': 9.99, 'collectionExplicitness': 'notExplicit', 'trackCount': 15, 'copyright': 'A Verve Label Group Release; This Compilation ℗ 1994 UMG Recordings, Inc.', 'country': 'USA', 'currency': 'USD', 'releaseDate': '1994-01-01T08:00:00Z', 'primaryGenreName': 'Jazz'}, {'wrapperType': 'collection', 'collectionType': 'Album', 'artistId': 518462, 'collectionId': 1621356609, 'amgArtistId': 52456, 'artistName': 'Louis Armstrong', 'collectionName': 'Louis Armstrong and His Friends', 'collectionCensoredName': 'Louis Armstrong and His Friends', 'artistViewUrl': 'https://music.apple.com/us/artist/louis-armstrong/518462?uo=4', 'collectionViewUrl': 'https://music.apple.com/us/album/louis-armstrong-and-his-friends/1621356609?uo=4', 'artworkUrl60': 'https://is1-ssl.mzstatic.com/image/thumb/Music112/v4/7e/6d/0d/7e6d0d4a-7d61-0422-292d-a81c0d12b6f0/29667059589.jpg/60x60bb.jpg', 'artworkUrl100': 'https://is1-ssl.mzstatic.com/image/thumb/Music112/v4/7e/6d/0d/7e6d0d4a-7d61-0422-292d-a81c0d12b6f0/29667059589.jpg/100x100bb.jpg', 'collectionPrice': 9.99, 'collectionExplicitness': 'notExplicit', 'trackCount': 10, 'copyright': '℗ 2014 Ace Records', 'country': 'USA', 'currency': 'USD', 'releaseDate': '1970-01-01T08:00:00Z', 'primaryGenreName': 'Jazz'}, {'wrapperType': 'collection', 'collectionType': 'Album', 'artistId': 518462, 'collectionId': 1027535242, 'amgArtistId': 52456, 'artistName': 'Louis Armstrong and His All-Stars', 'collectionName': 'Happy Birthday Louis! (Live from The Newport Jazz Festival 1960)', 'collectionCensoredName': 'Happy Birthday Louis! (Live from The Newport Jazz Festival 1960)', 'artistViewUrl': 'https://music.apple.com/us/artist/louis-armstrong/518462?uo=4', 'collectionViewUrl': 'https://music.apple.com/us/album/happy-birthday-louis-live-from-the-newport-jazz/1027535242?uo=4', 'artworkUrl60': 'https://is1-ssl.mzstatic.com/image/thumb/Music5/v4/89/ba/2a/89ba2ae7-fd64-8079-f2a1-483edd712229/723918302423.jpg/60x60bb.jpg', 'artworkUrl100': 'https://is1-ssl.mzstatic.com/image/thumb/Music5/v4/89/ba/2a/89ba2ae7-fd64-8079-f2a1-483edd712229/723918302423.jpg/100x100bb.jpg', 'collectionPrice': 9.99, 'collectionExplicitness': 'notExplicit', 'trackCount': 20, 'copyright': '℗ 2015 Omega Classics Digital', 'country': 'USA', 'currency': 'USD', 'releaseDate': '2015-08-07T07:00:00Z', 'primaryGenreName': 'Jazz'}, {'wrapperType': 'collection', 'collectionType': 'Album', 'artistId': 518462, 'collectionId': 1604628903, 'amgArtistId': 52456, 'artistName': 'Louis Armstrong', 'collectionName': 'Louis \"Country & Western\" Armstrong', 'collectionCensoredName': 'Louis \"Country & Western\" Armstrong', 'artistViewUrl': 'https://music.apple.com/us/artist/louis-armstrong/518462?uo=4', 'collectionViewUrl': 'https://music.apple.com/us/album/louis-country-western-armstrong/1604628903?uo=4', 'artworkUrl60': 'https://is1-ssl.mzstatic.com/image/thumb/Music112/v4/9c/ab/5f/9cab5fcb-3f3d-1823-96dc-48478b07dea8/051617330219.png/60x60bb.jpg', 'artworkUrl100': 'https://is1-ssl.mzstatic.com/image/thumb/Music112/v4/9c/ab/5f/9cab5fcb-3f3d-1823-96dc-48478b07dea8/051617330219.png/100x100bb.jpg', 'collectionPrice': 11.99, 'collectionExplicitness': 'notExplicit', 'trackCount': 12, 'copyright': '℗ 1970 AVCO Embassy', 'country': 'USA', 'currency': 'USD', 'releaseDate': '1970-10-31T08:00:00Z', 'primaryGenreName': 'Country'}, {'wrapperType': 'collection', 'collectionType': 'Album', 'artistId': 518462, 'collectionId': 1443216450, 'amgArtistId': 52456, 'artistName': 'Louis Armstrong', 'collectionName': 'Satchmo at Symphony Hall (65th Anniversary - The Complete Performances)', 'collectionCensoredName': 'Satchmo at Symphony Hall (65th Anniversary - The Complete Performances)', 'artistViewUrl': 'https://music.apple.com/us/artist/louis-armstrong/518462?uo=4', 'collectionViewUrl': 'https://music.apple.com/us/album/satchmo-at-symphony-hall-65th-anniversary-the/1443216450?uo=4', 'artworkUrl60': 'https://is1-ssl.mzstatic.com/image/thumb/Music128/v4/42/67/6f/42676f37-a3dc-a6a2-b584-5218f39cbf7e/00602537159062.rgb.jpg/60x60bb.jpg', 'artworkUrl100': 'https://is1-ssl.mzstatic.com/image/thumb/Music128/v4/42/67/6f/42676f37-a3dc-a6a2-b584-5218f39cbf7e/00602537159062.rgb.jpg/100x100bb.jpg', 'collectionPrice': 14.99, 'collectionExplicitness': 'notExplicit', 'trackCount': 30, 'copyright': 'This Compilation ℗ 2012 The Verve Music Group, a Division of UMG Recordings, Inc.', 'country': 'USA', 'currency': 'USD', 'releaseDate': '2012-01-01T08:00:00Z', 'primaryGenreName': 'Jazz'}, {'wrapperType': 'collection', 'collectionType': 'Album', 'artistId': 518462, 'collectionId': 268465837, 'amgArtistId': 52456, 'artistName': 'Louis Armstrong', 'collectionName': 'A 100th Birthday Celebration (Remastered 1996)', 'collectionCensoredName': 'A 100th Birthday Celebration (Remastered 1996)', 'artistViewUrl': 'https://music.apple.com/us/artist/louis-armstrong/518462?uo=4', 'collectionViewUrl': 'https://music.apple.com/us/album/a-100th-birthday-celebration-remastered-1996/268465837?uo=4', 'artworkUrl60': 'https://is1-ssl.mzstatic.com/image/thumb/Music/34/7e/d5/mzi.nigalswe.jpg/60x60bb.jpg', 'artworkUrl100': 'https://is1-ssl.mzstatic.com/image/thumb/Music/34/7e/d5/mzi.nigalswe.jpg/100x100bb.jpg', 'collectionPrice': -1.0, 'collectionExplicitness': 'notExplicit', 'trackCount': 30, 'copyright': '℗ 2000 BMG Entertainment', 'country': 'USA', 'currency': 'USD', 'releaseDate': '2000-05-26T07:00:00Z', 'primaryGenreName': 'Jazz'}, {'wrapperType': 'collection', 'collectionType': 'Album', 'artistId': 518462, 'collectionId': 190308986, 'amgArtistId': 52456, 'artistName': 'Louis Armstrong & The Louis Armstrong Orchestra', 'collectionName': 'The Great American Songbook', 'collectionCensoredName': 'The Great American Songbook', 'artistViewUrl': 'https://music.apple.com/us/artist/louis-armstrong/518462?uo=4', 'collectionViewUrl': 'https://music.apple.com/us/album/the-great-american-songbook/190308986?uo=4', 'artworkUrl60': 'https://is1-ssl.mzstatic.com/image/thumb/Features/63/b6/da/dj.btxnuxhb.jpg/60x60bb.jpg', 'artworkUrl100': 'https://is1-ssl.mzstatic.com/image/thumb/Features/63/b6/da/dj.btxnuxhb.jpg/100x100bb.jpg', 'collectionPrice': -1.0, 'collectionExplicitness': 'notExplicit', 'trackCount': 14, 'copyright': '℗ Originally released 1929, 1930, 1931, 1932, 1933, 1947, 1957, 1958. All rights reserved by SONY BMG MUSIC ENTERTAINMENT.(P) Recorded Prior to 1972.  All Rights Reserved by Flying Dutchman.', 'country': 'USA', 'currency': 'USD', 'releaseDate': '2006-08-25T07:00:00Z', 'primaryGenreName': 'Jazz'}, {'wrapperType': 'collection', 'collectionType': 'Album', 'artistId': 518462, 'collectionId': 193653292, 'amgArtistId': 52456, 'artistName': 'Louis Armstrong', 'collectionName': 'Louis In New York, Vol. 5', 'collectionCensoredName': 'Louis In New York, Vol. 5', 'artistViewUrl': 'https://music.apple.com/us/artist/louis-armstrong/518462?uo=4', 'collectionViewUrl': 'https://music.apple.com/us/album/louis-in-new-york-vol-5/193653292?uo=4', 'artworkUrl60': 'https://is1-ssl.mzstatic.com/image/thumb/Music/db/bd/e5/mzi.emjtgcij.jpg/60x60bb.jpg', 'artworkUrl100': 'https://is1-ssl.mzstatic.com/image/thumb/Music/db/bd/e5/mzi.emjtgcij.jpg/100x100bb.jpg', 'collectionPrice': 9.99, 'collectionExplicitness': 'notExplicit', 'trackCount': 19, 'copyright': '℗ 1990 CBS Records Inc.', 'country': 'USA', 'currency': 'USD', 'releaseDate': '1990-09-21T07:00:00Z', 'primaryGenreName': 'Jazz'}, {'wrapperType': 'collection', 'collectionType': 'Album', 'artistId': 518462, 'collectionId': 1632108651, 'amgArtistId': 52456, 'artistName': 'Louis Armstrong', 'collectionName': 'The Decca Singles 1935-1946', 'collectionCensoredName': 'The Decca Singles 1935-1946', 'artistViewUrl': 'https://music.apple.com/us/artist/louis-armstrong/518462?uo=4', 'collectionViewUrl': 'https://music.apple.com/us/album/the-decca-singles-1935-1946/1632108651?uo=4', 'artworkUrl60': 'https://is1-ssl.mzstatic.com/image/thumb/Music112/v4/f2/fe/8a/f2fe8ac8-5076-9b38-7aec-1ef2babe5b94/17UM1IM10946.rgb.jpg/60x60bb.jpg', 'artworkUrl100': 'https://is1-ssl.mzstatic.com/image/thumb/Music112/v4/f2/fe/8a/f2fe8ac8-5076-9b38-7aec-1ef2babe5b94/17UM1IM10946.rgb.jpg/100x100bb.jpg', 'collectionPrice': 69.99, 'collectionExplicitness': 'notExplicit', 'trackCount': 136, 'copyright': 'A Verve Label Group Release; ℗ 2017 UMG Recordings, Inc.', 'country': 'USA', 'currency': 'USD', 'releaseDate': '2017-08-04T07:00:00Z', 'primaryGenreName': 'Jazz'}, {'wrapperType': 'collection', 'collectionType': 'Album', 'artistId': 518462, 'collectionId': 1452819264, 'amgArtistId': 52456, 'artistName': 'Louis Armstrong', 'collectionName': 'Satchmo - A Musical Autobiography', 'collectionCensoredName': 'Satchmo - A Musical Autobiography', 'artistViewUrl': 'https://music.apple.com/us/artist/louis-armstrong/518462?uo=4', 'collectionViewUrl': 'https://music.apple.com/us/album/satchmo-a-musical-autobiography/1452819264?uo=4', 'artworkUrl60': 'https://is1-ssl.mzstatic.com/image/thumb/Music125/v4/cb/92/39/cb923972-d770-19aa-fbc3-b1d3b4ea9e14/00731454382229.rgb.jpg/60x60bb.jpg', 'artworkUrl100': 'https://is1-ssl.mzstatic.com/image/thumb/Music125/v4/cb/92/39/cb923972-d770-19aa-fbc3-b1d3b4ea9e14/00731454382229.rgb.jpg/100x100bb.jpg', 'collectionPrice': 24.99, 'collectionExplicitness': 'notExplicit', 'trackCount': 99, 'copyright': 'This Compilation ℗ 2001 The Verve Music Group, a Division of UMG Recordings, Inc.', 'country': 'USA', 'currency': 'USD', 'releaseDate': '2001-01-01T08:00:00Z', 'primaryGenreName': 'Jazz'}, {'wrapperType': 'collection', 'collectionType': 'Album', 'artistId': 518462, 'collectionId': 1434274831, 'amgArtistId': 52456, 'artistName': 'Louis Armstrong and The All Stars', 'collectionName': 'The Columbia & RCA Victor Live Recordings, Vol. 3', 'collectionCensoredName': 'The Columbia & RCA Victor Live Recordings, Vol. 3', 'artistViewUrl': 'https://music.apple.com/us/artist/louis-armstrong/518462?uo=4', 'collectionViewUrl': 'https://music.apple.com/us/album/the-columbia-rca-victor-live-recordings-vol-3/1434274831?uo=4', 'artworkUrl60': 'https://is1-ssl.mzstatic.com/image/thumb/Music118/v4/0f/c7/b2/0fc7b2f5-fbc4-ac80-738d-9bd05ba8e74a/886446684086.jpg/60x60bb.jpg', 'artworkUrl100': 'https://is1-ssl.mzstatic.com/image/thumb/Music118/v4/0f/c7/b2/0fc7b2f5-fbc4-ac80-738d-9bd05ba8e74a/886446684086.jpg/100x100bb.jpg', 'collectionPrice': 24.99, 'collectionExplicitness': 'notExplicit', 'trackCount': 57, 'copyright': '℗ This compilation (P) 2018 Sony Music Entertainment', 'country': 'USA', 'currency': 'USD', 'releaseDate': '2018-09-14T07:00:00Z', 'primaryGenreName': 'Jazz'}, {'wrapperType': 'collection', 'collectionType': 'Album', 'artistId': 518462, 'collectionId': 1607165210, 'amgArtistId': 52456, 'artistName': 'Louis Armstrong & The Mills Brothers', 'collectionName': 'Louis Armstrong And The Mills Brothers', 'collectionCensoredName': 'Louis Armstrong And The Mills Brothers', 'artistViewUrl': 'https://music.apple.com/us/artist/louis-armstrong/518462?uo=4', 'collectionViewUrl': 'https://music.apple.com/us/album/louis-armstrong-and-the-mills-brothers/1607165210?uo=4', 'artworkUrl60': 'https://is1-ssl.mzstatic.com/image/thumb/Music126/v4/18/fb/26/18fb26b4-0e8a-2fbb-4169-639ebc038f8b/21UM1IM28412.rgb.jpg/60x60bb.jpg', 'artworkUrl100': 'https://is1-ssl.mzstatic.com/image/thumb/Music126/v4/18/fb/26/18fb26b4-0e8a-2fbb-4169-639ebc038f8b/21UM1IM28412.rgb.jpg/100x100bb.jpg', 'collectionPrice': 5.99, 'collectionExplicitness': 'notExplicit', 'trackCount': 8, 'copyright': 'A Verve Label Group Relase; ℗ 1954 UMG Recordings, Inc.', 'country': 'USA', 'currency': 'USD', 'releaseDate': '1954-01-01T08:00:00Z', 'primaryGenreName': 'Jazz'}, {'wrapperType': 'collection', 'collectionType': 'Album', 'artistId': 518462, 'collectionId': 1445098760, 'amgArtistId': 52456, 'artistName': 'Louis Armstrong', 'collectionName': 'An American Songbook', 'collectionCensoredName': 'An American Songbook', 'artistViewUrl': 'https://music.apple.com/us/artist/louis-armstrong/518462?uo=4', 'collectionViewUrl': 'https://music.apple.com/us/album/an-american-songbook/1445098760?uo=4', 'artworkUrl60': 'https://is1-ssl.mzstatic.com/image/thumb/Music118/v4/7d/70/0d/7d700d43-38ef-c1e3-8312-56e69e5d65e6/00602577174940.rgb.jpg/60x60bb.jpg', 'artworkUrl100': 'https://is1-ssl.mzstatic.com/image/thumb/Music118/v4/7d/70/0d/7d700d43-38ef-c1e3-8312-56e69e5d65e6/00602577174940.rgb.jpg/100x100bb.jpg', 'collectionPrice': 9.99, 'collectionExplicitness': 'notExplicit', 'trackCount': 12, 'copyright': 'A Verve Label Group Release; This Compilation ℗ 1991 UMG Recordings, Inc.', 'country': 'USA', 'currency': 'USD', 'releaseDate': '1991-10-22T07:00:00Z', 'primaryGenreName': 'Jazz'}, {'wrapperType': 'collection', 'collectionType': 'Album', 'artistId': 518462, 'collectionId': 1444199863, 'amgArtistId': 52456, 'artistName': 'Louis Armstrong', 'collectionName': 'Louis and the Angels', 'collectionCensoredName': 'Louis and the Angels', 'artistViewUrl': 'https://music.apple.com/us/artist/louis-armstrong/518462?uo=4', 'collectionViewUrl': 'https://music.apple.com/us/album/louis-and-the-angels/1444199863?uo=4', 'artworkUrl60': 'https://is1-ssl.mzstatic.com/image/thumb/Music123/v4/50/49/8f/50498fea-9583-9c20-c9b6-135b2a39cb0a/06UMGIM07576.rgb.jpg/60x60bb.jpg', 'artworkUrl100': 'https://is1-ssl.mzstatic.com/image/thumb/Music123/v4/50/49/8f/50498fea-9583-9c20-c9b6-135b2a39cb0a/06UMGIM07576.rgb.jpg/100x100bb.jpg', 'collectionPrice': 9.99, 'collectionExplicitness': 'notExplicit', 'trackCount': 12, 'copyright': '℗ 1957 UMG Recordings, Inc.', 'country': 'USA', 'currency': 'USD', 'releaseDate': '1957-01-01T08:00:00Z', 'primaryGenreName': 'Jazz'}, {'wrapperType': 'collection', 'collectionType': 'Album', 'artistId': 518462, 'collectionId': 1434274390, 'amgArtistId': 52456, 'artistName': 'Louis Armstrong and The All Stars', 'collectionName': 'The Columbia & RCA Victor Live Recordings, Vol. 1', 'collectionCensoredName': 'The Columbia & RCA Victor Live Recordings, Vol. 1', 'artistViewUrl': 'https://music.apple.com/us/artist/louis-armstrong/518462?uo=4', 'collectionViewUrl': 'https://music.apple.com/us/album/the-columbia-rca-victor-live-recordings-vol-1/1434274390?uo=4', 'artworkUrl60': 'https://is1-ssl.mzstatic.com/image/thumb/Music118/v4/ec/af/2c/ecaf2c16-6581-6062-f14b-715235e06463/886446674582.jpg/60x60bb.jpg', 'artworkUrl100': 'https://is1-ssl.mzstatic.com/image/thumb/Music118/v4/ec/af/2c/ecaf2c16-6581-6062-f14b-715235e06463/886446674582.jpg/100x100bb.jpg', 'collectionPrice': 24.99, 'collectionExplicitness': 'notExplicit', 'trackCount': 51, 'copyright': '℗ This compilation (P) 2014 Sony Music Entertainment', 'country': 'USA', 'currency': 'USD', 'releaseDate': '2018-09-14T07:00:00Z', 'primaryGenreName': 'Jazz'}, {'wrapperType': 'collection', 'collectionType': 'Album', 'artistId': 518462, 'collectionId': 1426743749, 'amgArtistId': 52456, 'artistName': 'Louis Armstrong', 'collectionName': 'The Standard Oil Sessions (Live)', 'collectionCensoredName': 'The Standard Oil Sessions (Live)', 'artistViewUrl': 'https://music.apple.com/us/artist/louis-armstrong/518462?uo=4', 'collectionViewUrl': 'https://music.apple.com/us/album/the-standard-oil-sessions-live/1426743749?uo=4', 'artworkUrl60': 'https://is1-ssl.mzstatic.com/image/thumb/Music128/v4/b5/67/ba/b567ba85-209a-011a-ec2d-c78ba6a220cf/604043800520_cover.jpg/60x60bb.jpg', 'artworkUrl100': 'https://is1-ssl.mzstatic.com/image/thumb/Music128/v4/b5/67/ba/b567ba85-209a-011a-ec2d-c78ba6a220cf/604043800520_cover.jpg/100x100bb.jpg', 'collectionPrice': 9.99, 'collectionExplicitness': 'notExplicit', 'trackCount': 11, 'copyright': '℗ 2017 Dot Time Legends', 'country': 'USA', 'currency': 'USD', 'releaseDate': '2017-05-22T07:00:00Z', 'primaryGenreName': 'Jazz'}, {'wrapperType': 'collection', 'collectionType': 'Album', 'artistId': 518462, 'collectionId': 1443725249, 'amgArtistId': 52456, 'artistName': 'Louis Armstrong', 'collectionName': 'Satchmo at Pasadena (Live)', 'collectionCensoredName': 'Satchmo at Pasadena (Live)', 'artistViewUrl': 'https://music.apple.com/us/artist/louis-armstrong/518462?uo=4', 'collectionViewUrl': 'https://music.apple.com/us/album/satchmo-at-pasadena-live/1443725249?uo=4', 'artworkUrl60': 'https://is1-ssl.mzstatic.com/image/thumb/Music124/v4/5b/ae/94/5bae948c-dc9e-d839-2ada-6ea5a7a149b1/08UMGIM27849.rgb.jpg/60x60bb.jpg', 'artworkUrl100': 'https://is1-ssl.mzstatic.com/image/thumb/Music124/v4/5b/ae/94/5bae948c-dc9e-d839-2ada-6ea5a7a149b1/08UMGIM27849.rgb.jpg/100x100bb.jpg', 'collectionPrice': 9.99, 'collectionExplicitness': 'notExplicit', 'trackCount': 10, 'copyright': '℗ 2008 The Verve Music Group, a Division of UMG Recordings, Inc.', 'country': 'USA', 'currency': 'USD', 'releaseDate': '1951-06-01T07:00:00Z', 'primaryGenreName': 'Jazz'}, {'wrapperType': 'collection', 'collectionType': 'Album', 'artistId': 518462, 'collectionId': 1532441659, 'amgArtistId': 52456, 'artistName': 'Louis Armstrong & Fletcher Henderson', 'collectionName': 'Fletcher Henderson and Louis Armstrong 1924-1925', 'collectionCensoredName': 'Fletcher Henderson and Louis Armstrong 1924-1925', 'artistViewUrl': 'https://music.apple.com/us/artist/louis-armstrong/518462?uo=4', 'collectionViewUrl': 'https://music.apple.com/us/album/fletcher-henderson-and-louis-armstrong-1924-1925/1532441659?uo=4', 'artworkUrl60': 'https://is1-ssl.mzstatic.com/image/thumb/Music114/v4/5c/e1/81/5ce181ee-31e5-8d38-7959-559d27d28329/194491160777.jpg/60x60bb.jpg', 'artworkUrl100': 'https://is1-ssl.mzstatic.com/image/thumb/Music114/v4/5c/e1/81/5ce181ee-31e5-8d38-7959-559d27d28329/194491160777.jpg/100x100bb.jpg', 'collectionPrice': 9.99, 'collectionExplicitness': 'notExplicit', 'trackCount': 26, 'copyright': '℗ 1991 Timeless Records', 'country': 'USA', 'currency': 'USD', 'releaseDate': '2008-06-19T07:00:00Z', 'primaryGenreName': 'Jazz'}, {'wrapperType': 'collection', 'collectionType': 'Album', 'artistId': 518462, 'collectionId': 1445667326, 'amgArtistId': 52456, 'artistName': 'Louis Armstrong', 'collectionName': 'The California Concerts (Live)', 'collectionCensoredName': 'The California Concerts (Live)', 'artistViewUrl': 'https://music.apple.com/us/artist/louis-armstrong/518462?uo=4', 'collectionViewUrl': 'https://music.apple.com/us/album/the-california-concerts-live/1445667326?uo=4', 'artworkUrl60': 'https://is1-ssl.mzstatic.com/image/thumb/Music122/v4/67/c1/8c/67c18c9a-1a1b-c88f-e805-9e6900091885/06UMGIM03787.rgb.jpg/60x60bb.jpg', 'artworkUrl100': 'https://is1-ssl.mzstatic.com/image/thumb/Music122/v4/67/c1/8c/67c18c9a-1a1b-c88f-e805-9e6900091885/06UMGIM03787.rgb.jpg/100x100bb.jpg', 'collectionPrice': 29.99, 'collectionExplicitness': 'notExplicit', 'trackCount': 59, 'copyright': 'This Compilation ℗ 1992 UMG Recordings, Inc.', 'country': 'USA', 'currency': 'USD', 'releaseDate': '1992-01-01T08:00:00Z', 'primaryGenreName': 'Jazz'}, {'wrapperType': 'collection', 'collectionType': 'Album', 'artistId': 518462, 'collectionId': 1444083375, 'amgArtistId': 52456, 'artistName': 'Louis Armstrong', 'collectionName': 'Satchmo in Style (Bonus Track) [with Gordon Jenkins]', 'collectionCensoredName': 'Satchmo in Style (Bonus Track) [with Gordon Jenkins]', 'artistViewUrl': 'https://music.apple.com/us/artist/louis-armstrong/518462?uo=4', 'collectionViewUrl': 'https://music.apple.com/us/album/satchmo-in-style-bonus-track-with-gordon-jenkins/1444083375?uo=4', 'artworkUrl60': 'https://is1-ssl.mzstatic.com/image/thumb/Music124/v4/04/86/25/048625bb-80b4-a0e1-2ab0-ec27c17855b3/06UMGIM06926.rgb.jpg/60x60bb.jpg', 'artworkUrl100': 'https://is1-ssl.mzstatic.com/image/thumb/Music124/v4/04/86/25/048625bb-80b4-a0e1-2ab0-ec27c17855b3/06UMGIM06926.rgb.jpg/100x100bb.jpg', 'collectionPrice': 9.99, 'collectionExplicitness': 'notExplicit', 'trackCount': 16, 'copyright': 'This Compilation ℗ 2001 The Verve Music Group, a Division of UMG Recordings, Inc.', 'country': 'USA', 'currency': 'USD', 'releaseDate': '1959-05-14T07:00:00Z', 'primaryGenreName': 'Jazz'}, {'wrapperType': 'collection', 'collectionType': 'Album', 'artistId': 518462, 'collectionId': 1443806118, 'amgArtistId': 52456, 'artistName': 'Louis Armstrong', 'collectionName': 'Louis Under the Stars', 'collectionCensoredName': 'Louis Under the Stars', 'artistViewUrl': 'https://music.apple.com/us/artist/louis-armstrong/518462?uo=4', 'collectionViewUrl': 'https://music.apple.com/us/album/louis-under-the-stars/1443806118?uo=4', 'artworkUrl60': 'https://is1-ssl.mzstatic.com/image/thumb/Music128/v4/03/7a/47/037a47f6-015f-a142-fa3e-f95b4848d134/00602547068521.rgb.jpg/60x60bb.jpg', 'artworkUrl100': 'https://is1-ssl.mzstatic.com/image/thumb/Music128/v4/03/7a/47/037a47f6-015f-a142-fa3e-f95b4848d134/00602547068521.rgb.jpg/100x100bb.jpg', 'collectionPrice': 9.99, 'collectionExplicitness': 'notExplicit', 'trackCount': 10, 'copyright': '℗ 2014 The Verve Music Group, a Division of UMG Recordings, Inc.', 'country': 'USA', 'currency': 'USD', 'releaseDate': '1958-11-01T08:00:00Z', 'primaryGenreName': 'Jazz'}, {'wrapperType': 'collection', 'collectionType': 'Album', 'artistId': 518462, 'collectionId': 1442930449, 'amgArtistId': 52456, 'artistName': 'Louis Armstrong', 'collectionName': 'Pete Fountain Presents the Best of Dixieland: Louis Armstrong', 'collectionCensoredName': 'Pete Fountain Presents the Best of Dixieland: Louis Armstrong', 'artistViewUrl': 'https://music.apple.com/us/artist/louis-armstrong/518462?uo=4', 'collectionViewUrl': 'https://music.apple.com/us/album/pete-fountain-presents-the-best-of-dixieland/1442930449?uo=4', 'artworkUrl60': 'https://is1-ssl.mzstatic.com/image/thumb/Music118/v4/ba/a2/3c/baa23cb7-442b-5719-de80-d4bd394c75b1/00731454936323.rgb.jpg/60x60bb.jpg', 'artworkUrl100': 'https://is1-ssl.mzstatic.com/image/thumb/Music118/v4/ba/a2/3c/baa23cb7-442b-5719-de80-d4bd394c75b1/00731454936323.rgb.jpg/100x100bb.jpg', 'collectionPrice': 9.99, 'collectionExplicitness': 'notExplicit', 'trackCount': 15, 'copyright': 'This Compilation ℗ 2001 The Verve Music Group, a Division of UMG Recordings, Inc.', 'country': 'USA', 'currency': 'USD', 'releaseDate': '2001-01-01T08:00:00Z', 'primaryGenreName': 'Jazz'}, {'wrapperType': 'collection', 'collectionType': 'Album', 'artistId': 518462, 'collectionId': 454751828, 'amgArtistId': 52456, 'artistName': 'Louis Armstrong', 'collectionName': 'St. Louis Blues (Carnegie Hall 1947)', 'collectionCensoredName': 'St. Louis Blues (Carnegie Hall 1947)', 'artistViewUrl': 'https://music.apple.com/us/artist/louis-armstrong/518462?uo=4', 'collectionViewUrl': 'https://music.apple.com/us/album/st-louis-blues-carnegie-hall-1947/454751828?uo=4', 'artworkUrl60': 'https://is1-ssl.mzstatic.com/image/thumb/Music/f3/d2/56/mzi.lzdlzalq.jpg/60x60bb.jpg', 'artworkUrl100': 'https://is1-ssl.mzstatic.com/image/thumb/Music/f3/d2/56/mzi.lzdlzalq.jpg/100x100bb.jpg', 'collectionPrice': 9.99, 'collectionExplicitness': 'notExplicit', 'trackCount': 12, 'copyright': '℗ 1947 1201 Music (Americas) LLC', 'country': 'USA', 'currency': 'USD', 'releaseDate': '1947-09-15T08:00:00Z', 'primaryGenreName': 'Trad Jazz'}, {'wrapperType': 'collection', 'collectionType': 'Album', 'artistId': 518462, 'collectionId': 293786372, 'amgArtistId': 52456, 'artistName': 'Louis Armstrong', 'collectionName': 'Falling In Love With Louis Armstrong', 'collectionCensoredName': 'Falling In Love With Louis Armstrong', 'artistViewUrl': 'https://music.apple.com/us/artist/louis-armstrong/518462?uo=4', 'collectionViewUrl': 'https://music.apple.com/us/album/falling-in-love-with-louis-armstrong/293786372?uo=4', 'artworkUrl60': 'https://is1-ssl.mzstatic.com/image/thumb/Music/b1/d0/91/mzi.zjvrdgqb.jpg/60x60bb.jpg', 'artworkUrl100': 'https://is1-ssl.mzstatic.com/image/thumb/Music/b1/d0/91/mzi.zjvrdgqb.jpg/100x100bb.jpg', 'collectionPrice': 9.99, 'collectionExplicitness': 'notExplicit', 'trackCount': 16, 'copyright': '℗ 2000, BMG Entertainment', 'country': 'USA', 'currency': 'USD', 'releaseDate': '1999-12-31T08:00:00Z', 'primaryGenreName': 'Jazz'}, {'wrapperType': 'collection', 'collectionType': 'Album', 'artistId': 518462, 'collectionId': 304759214, 'amgArtistId': 52456, 'artistName': 'Louis Armstrong', 'collectionName': 'Platinum & Gold Collection: Louis Armstrong (Remastered)', 'collectionCensoredName': 'Platinum & Gold Collection: Louis Armstrong (Remastered)', 'artistViewUrl': 'https://music.apple.com/us/artist/louis-armstrong/518462?uo=4', 'collectionViewUrl': 'https://music.apple.com/us/album/platinum-gold-collection-louis-armstrong-remastered/304759214?uo=4', 'artworkUrl60': 'https://is1-ssl.mzstatic.com/image/thumb/Music/e4/38/b2/mzi.dtwcrldd.jpg/60x60bb.jpg', 'artworkUrl100': 'https://is1-ssl.mzstatic.com/image/thumb/Music/e4/38/b2/mzi.dtwcrldd.jpg/100x100bb.jpg', 'collectionPrice': 9.99, 'collectionExplicitness': 'notExplicit', 'trackCount': 12, 'copyright': '℗ 2003 BMG Heritage', 'country': 'USA', 'currency': 'USD', 'releaseDate': '2003-08-18T07:00:00Z', 'primaryGenreName': 'Jazz'}, {'wrapperType': 'collection', 'collectionType': 'Album', 'artistId': 518462, 'collectionId': 158691605, 'amgArtistId': 52456, 'artistName': 'Louis Armstrong and His All-Stars', 'collectionName': 'Louis Armstrong Plays W.C. Handy', 'collectionCensoredName': 'Louis Armstrong Plays W.C. Handy', 'artistViewUrl': 'https://music.apple.com/us/artist/louis-armstrong/518462?uo=4', 'collectionViewUrl': 'https://music.apple.com/us/album/louis-armstrong-plays-w-c-handy/158691605?uo=4', 'artworkUrl60': 'https://is1-ssl.mzstatic.com/image/thumb/Music/b5/5f/98/mzi.rrovafso.jpg/60x60bb.jpg', 'artworkUrl100': 'https://is1-ssl.mzstatic.com/image/thumb/Music/b5/5f/98/mzi.rrovafso.jpg/100x100bb.jpg', 'collectionPrice': 9.99, 'collectionExplicitness': 'notExplicit', 'trackCount': 16, 'copyright': '℗ Originally Released 1954 Sony Music Entertainment Inc.', 'country': 'USA', 'currency': 'USD', 'releaseDate': '1997-03-03T08:00:00Z', 'primaryGenreName': 'Jazz'}, {'wrapperType': 'collection', 'collectionType': 'Album', 'artistId': 518462, 'collectionId': 693616232, 'amgArtistId': 52456, 'artistName': 'Louis Armstrong', 'collectionName': \"Swingin' Hits\", 'collectionCensoredName': \"Swingin' Hits\", 'artistViewUrl': 'https://music.apple.com/us/artist/louis-armstrong/518462?uo=4', 'collectionViewUrl': 'https://music.apple.com/us/album/swingin-hits/693616232?uo=4', 'artworkUrl60': 'https://is1-ssl.mzstatic.com/image/thumb/Music117/v4/dd/af/c9/ddafc98e-c0ac-afa5-1170-a34fe6fa1962/015707050357.jpg/60x60bb.jpg', 'artworkUrl100': 'https://is1-ssl.mzstatic.com/image/thumb/Music117/v4/dd/af/c9/ddafc98e-c0ac-afa5-1170-a34fe6fa1962/015707050357.jpg/100x100bb.jpg', 'collectionPrice': 8.91, 'collectionExplicitness': 'notExplicit', 'trackCount': 9, 'copyright': '℗ 2006 Vanguard. All Rights Reserved. Unauthorized Reproduction is a Violation of Applicable Laws.', 'country': 'USA', 'currency': 'USD', 'releaseDate': '2006-01-01T08:00:00Z', 'primaryGenreName': 'Jazz'}, {'wrapperType': 'collection', 'collectionType': 'Album', 'artistId': 518462, 'collectionId': 1475524510, 'amgArtistId': 52456, 'artistName': 'Louis Armstrong', 'collectionName': 'Portrait of the Artist As a Young Man 1923-1934', 'collectionCensoredName': 'Portrait of the Artist As a Young Man 1923-1934', 'artistViewUrl': 'https://music.apple.com/us/artist/louis-armstrong/518462?uo=4', 'collectionViewUrl': 'https://music.apple.com/us/album/portrait-of-the-artist-as-a-young-man-1923-1934/1475524510?uo=4', 'artworkUrl60': 'https://is1-ssl.mzstatic.com/image/thumb/Music124/v4/72/a0/15/72a0150c-aae6-998b-a4bb-89e390822e4d/886447889183.jpg/60x60bb.jpg', 'artworkUrl100': 'https://is1-ssl.mzstatic.com/image/thumb/Music124/v4/72/a0/15/72a0150c-aae6-998b-a4bb-89e390822e4d/886447889183.jpg/100x100bb.jpg', 'collectionPrice': 34.99, 'collectionExplicitness': 'notExplicit', 'trackCount': 81, 'copyright': '℗ This compilation (P) 1994 Sony Music Entertainment', 'country': 'USA', 'currency': 'USD', 'releaseDate': '1994-09-27T07:00:00Z', 'primaryGenreName': 'Jazz'}]}\n",
      "101\n"
     ]
    }
   ],
   "source": [
    "url = 'https://itunes.apple.com/lookup?id=518462'\n",
    "response = rq.get(url)\n",
    "\n",
    "# Обработка ответа\n",
    "data = response.json()\n",
    "print(data)\n",
    "\n",
    "# Сохранение amgArtistId из ответа\n",
    "amg_artist_id = data['results'][0]['amgArtistId'] if data['results'] else None\n",
    "print(f'amgArtistId: {amg_artist_id}')\n",
    "\n",
    "if amg_artist_id:\n",
    "    # Формирование URL для запроса альбомов артиста\n",
    "    url_albums = f'https://itunes.apple.com/lookup?amgArtistId={amg_artist_id}&entity=album&limit=100'\n",
    "    response_albums = rq.get(url_albums, timeout=60)\n",
    "    \n",
    "    # Обработка ответа и печать в формате JSON\n",
    "    data_albums = response_albums.json()\n",
    "    print(data_albums)\n",
    "else:\n",
    "    print(\"amgArtistId не найден или отсутствует в данных.\")\n",
    "\n"
   ]
  },
  {
   "cell_type": "markdown",
   "metadata": {
    "id": "cylUKYQlQVlW"
   },
   "source": [
    "2. Выведите количество записей в ответе."
   ]
  },
  {
   "cell_type": "code",
   "execution_count": 97,
   "metadata": {},
   "outputs": [
    {
     "name": "stdout",
     "output_type": "stream",
     "text": [
      "101\n"
     ]
    }
   ],
   "source": [
    "print(len(data_albums['results']))"
   ]
  },
  {
   "cell_type": "code",
   "execution_count": 98,
   "metadata": {
    "id": "rsTsbuGXQVlW"
   },
   "outputs": [],
   "source": [
    "res1 = data_albums['results']"
   ]
  },
  {
   "cell_type": "markdown",
   "metadata": {
    "id": "5wqZG58CQVlX"
   },
   "source": [
    "3. Посмотрите внимательно на список с записями и обратите внимание, что мы запрашивали 100 альбомов, то есть на одну запись меньше, чем нам показал счётчик.\n",
    "**Ответьте, в чём причина:** _ваш ответ_"
   ]
  },
  {
   "cell_type": "markdown",
   "metadata": {
    "id": "m95_sBKnQVlX"
   },
   "source": [
    "***Задача 4***\n",
    "\n",
    "1. С учётом ответа на предыдущий вопрос разделите список на два списка:\n",
    "- `data1` — альбомы с 1 по 30, \n",
    "- `data2` — оставшиеся альбомы. \n",
    "\n",
    "    Распечатайте количество элементов в каждом списке."
   ]
  },
  {
   "cell_type": "code",
   "execution_count": 103,
   "metadata": {
    "id": "HbEGYYySQVlY"
   },
   "outputs": [],
   "source": [
    "data1 = res1[:31]\n",
    "data2 = res1[31:]"
   ]
  },
  {
   "cell_type": "markdown",
   "metadata": {
    "id": "f6KP2YUgQVlY"
   },
   "source": [
    "2. Создайте датафрейм `df1` на основе списка `data1` и распечатайте его, а затем запишите его на лист `albums` в файл `30_albums.xlsx` в директории проекта `13_api/homework/data`. Не забудьте перед этим создать нужную директорию. \n"
   ]
  },
  {
   "cell_type": "code",
   "execution_count": 111,
   "metadata": {
    "id": "U5SYJKUZQVlZ"
   },
   "outputs": [
    {
     "name": "stdout",
     "output_type": "stream",
     "text": [
      "/Users/darahramova/Skillbox/request.data\n"
     ]
    }
   ],
   "source": [
    "!pwd\n",
    "df1 = pd.DataFrame(data1)\n",
    "df1.to_excel('../../Skillbox/request.data/30_albums.xlsx', sheet_name = 'albums')"
   ]
  },
  {
   "cell_type": "markdown",
   "metadata": {
    "id": "OQQmF0xoiljN"
   },
   "source": [
    "Для удобства переиспользования путь к папке с данными удобно вынести в отдельную переменную. Оставьте текущий путь в `path` или пропишите полный путь от директории, в которой запущен Jupyter Notebook."
   ]
  },
  {
   "cell_type": "code",
   "execution_count": null,
   "metadata": {
    "id": "5B1BAWrSiIfi"
   },
   "outputs": [],
   "source": [
    "path = '13_api/homework/data/'"
   ]
  },
  {
   "cell_type": "markdown",
   "metadata": {
    "id": "OSFeJcPbQVla"
   },
   "source": [
    "3. Создайте датафрейм `df2` на основе списка `data2` и распечатайте его, а затем запишите его в файл `70_albums.csv` в директории проекта `13_api/homework/data`, указав в качестве разделителя знак табуляции."
   ]
  },
  {
   "cell_type": "code",
   "execution_count": 114,
   "metadata": {
    "id": "zOiTPTSBQVla"
   },
   "outputs": [
    {
     "name": "stdout",
     "output_type": "stream",
     "text": [
      "/Users/darahramova/Skillbox/request.data\n"
     ]
    }
   ],
   "source": [
    "!pwd\n",
    "df2 = pd.DataFrame(data2)\n",
    "df2.to_csv('70_albums.csv')"
   ]
  },
  {
   "cell_type": "markdown",
   "metadata": {
    "ExecuteTime": {
     "end_time": "2021-11-16T21:41:34.123026Z",
     "start_time": "2021-11-16T21:41:34.115383Z"
    },
    "id": "GJ0l759lQVla"
   },
   "source": [
    "***Задача 5***\n",
    "\n",
    "Пришло время сохранить наши изменения в GitLab.\n",
    "\n",
    "1. Добавьте сделанные в папке проекта изменения с помощью `git add`.\n",
    "\n",
    "2. Если у вас в добавленных файлах появились файлы настроек, не забудьте добавить их в файл `.gitignore`, чтобы репозиторий содержал только релевантные файлы (подробнее о том, как правильно добавлять файлы в `.gitignore` можно узнать по ссылке в блоке [Запись изменений в репозиторий: Игнорирование файлов](https://git-scm.com/book/ru/v2/%D0%9E%D1%81%D0%BD%D0%BE%D0%B2%D1%8B-Git-%D0%97%D0%B0%D0%BF%D0%B8%D1%81%D1%8C-%D0%B8%D0%B7%D0%BC%D0%B5%D0%BD%D0%B5%D0%BD%D0%B8%D0%B9-%D0%B2-%D1%80%D0%B5%D0%BF%D0%BE%D0%B7%D0%B8%D1%82%D0%BE%D1%80%D0%B8%D0%B9)).\n",
    "\n",
    "3. Сохраните состояние проекта с помощью `git commit`, дайте тексту коммита осмысленное название.\n",
    "\n",
    "4. Отправьте изменения на сервер GitLab с помощью `git push` в текущую ветку `homework_13`.\n",
    "\n",
    "5. Зайдите в GitLab Skillbox и сделайте Merge Request включения текущей ветки в главную ветку `master`, указав в качестве адресата своего куратора. Текущую ветку не удаляйте, она потребуется для проверки.\n",
    "\n",
    "_Напоминание:_ Не забудьте сохранить свои изменения в GitLab и после выполнения дополнительных задач 6 и 7."
   ]
  },
  {
   "cell_type": "markdown",
   "metadata": {
    "id": "RIjvWCodQVlb"
   },
   "source": [
    "**Дополнительные задачи**"
   ]
  },
  {
   "cell_type": "markdown",
   "metadata": {
    "ExecuteTime": {
     "end_time": "2021-11-16T21:53:05.361052Z",
     "start_time": "2021-11-16T21:53:05.353283Z"
    },
    "id": "PzWuGyyYQVlb"
   },
   "source": [
    "***Задача 6***\n",
    "\n",
    "Для ответа на вопрос **Задачи 3** напишите код, результат которого наглядно показывает отличие некоторых записей от остальных."
   ]
  },
  {
   "cell_type": "markdown",
   "metadata": {
    "id": "-_jnyAGtXP2U"
   },
   "source": []
  },
  {
   "cell_type": "code",
   "execution_count": null,
   "metadata": {
    "id": "j5NP6MusQVlb"
   },
   "outputs": [],
   "source": [
    "# Ваш код здесь"
   ]
  },
  {
   "cell_type": "markdown",
   "metadata": {
    "id": "7kLcc_RZbKbh"
   },
   "source": [
    "**Задача 7**\n",
    "\n",
    "Попробуйте сформировать запросы к iTunes Search APIтаким образом, чтобы получить статусы ответов, отличные от 200. Например, 400 и 404. Распечатайте коды статусов для каждого запроса.\n",
    "\n",
    "_Подсказка:_ воспользуйтесь [шпаргалкой по кодам ответа HTTP](https://developer.mozilla.org/ru/docs/Web/HTTP/Status), чтобы понять, как следует изменить запрос, чтобы сервер вернул определённую ошибку в ответе.\n"
   ]
  },
  {
   "cell_type": "code",
   "execution_count": null,
   "metadata": {
    "id": "aZgIKhLObI-k"
   },
   "outputs": [],
   "source": [
    "# Ваш код здесь"
   ]
  },
  {
   "cell_type": "markdown",
   "metadata": {
    "id": "v_D1TQYfQVlc"
   },
   "source": [
    "***Задача 8***\n",
    "\n",
    "Загрузите результат выполнения практического задания после видео 5 в GitLab проекта в директорию `13_api/practice`.\n",
    "\n",
    "Для этого создайте ветку `practice_13`, скопируйте файлы практического задания в проект, загрузите изменения в созданную ветку в GitLab, а затем создайте MergeRequest без указания проверяющего и сами же примите собственный запрос."
   ]
  }
 ],
 "metadata": {
  "colab": {
   "collapsed_sections": [],
   "name": "13.9 Практическая работа.ipynb",
   "provenance": [
    {
     "file_id": "1tbHQ8255v7HprXiSgWMn8PzOjW7vXUa7",
     "timestamp": 1636358961126
    }
   ]
  },
  "kernelspec": {
   "display_name": "Python 3 (ipykernel)",
   "language": "python",
   "name": "python3"
  },
  "language_info": {
   "codemirror_mode": {
    "name": "ipython",
    "version": 3
   },
   "file_extension": ".py",
   "mimetype": "text/x-python",
   "name": "python",
   "nbconvert_exporter": "python",
   "pygments_lexer": "ipython3",
   "version": "3.11.5"
  },
  "toc": {
   "base_numbering": 1,
   "nav_menu": {},
   "number_sections": true,
   "sideBar": true,
   "skip_h1_title": false,
   "title_cell": "Table of Contents",
   "title_sidebar": "Contents",
   "toc_cell": false,
   "toc_position": {},
   "toc_section_display": true,
   "toc_window_display": false
  }
 },
 "nbformat": 4,
 "nbformat_minor": 4
}
