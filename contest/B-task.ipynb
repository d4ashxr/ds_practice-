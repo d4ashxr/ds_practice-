{
 "cells": [
  {
   "cell_type": "code",
   "execution_count": 1,
   "id": "70054bf4-ba87-403c-9908-2659fb40c351",
   "metadata": {},
   "outputs": [],
   "source": [
    "import pandas as pd"
   ]
  },
  {
   "cell_type": "code",
   "execution_count": 24,
   "id": "bf165886-440d-42a4-bef3-7f89147a1564",
   "metadata": {},
   "outputs": [],
   "source": [
    "data = pd.read_csv(\"sample_2.csv\")"
   ]
  },
  {
   "cell_type": "code",
   "execution_count": 25,
   "id": "6a15672a-910a-41b1-9ea0-0ced9433ba8a",
   "metadata": {},
   "outputs": [
    {
     "data": {
      "text/html": [
       "<div>\n",
       "<style scoped>\n",
       "    .dataframe tbody tr th:only-of-type {\n",
       "        vertical-align: middle;\n",
       "    }\n",
       "\n",
       "    .dataframe tbody tr th {\n",
       "        vertical-align: top;\n",
       "    }\n",
       "\n",
       "    .dataframe thead th {\n",
       "        text-align: right;\n",
       "    }\n",
       "</style>\n",
       "<table border=\"1\" class=\"dataframe\">\n",
       "  <thead>\n",
       "    <tr style=\"text-align: right;\">\n",
       "      <th></th>\n",
       "      <th>id</th>\n",
       "      <th>user_id</th>\n",
       "      <th>timestamp</th>\n",
       "      <th>billing_period</th>\n",
       "      <th>billing_total_price_usd</th>\n",
       "    </tr>\n",
       "  </thead>\n",
       "  <tbody>\n",
       "    <tr>\n",
       "      <th>0</th>\n",
       "      <td>23</td>\n",
       "      <td>1</td>\n",
       "      <td>1706555483</td>\n",
       "      <td>6</td>\n",
       "      <td>60</td>\n",
       "    </tr>\n",
       "  </tbody>\n",
       "</table>\n",
       "</div>"
      ],
      "text/plain": [
       "   id  user_id   timestamp  billing_period  billing_total_price_usd\n",
       "0  23        1  1706555483               6                       60"
      ]
     },
     "execution_count": 25,
     "metadata": {},
     "output_type": "execute_result"
    }
   ],
   "source": [
    "data"
   ]
  },
  {
   "cell_type": "code",
   "execution_count": 26,
   "id": "067d8b65-630c-4ffb-849c-9b31754756f7",
   "metadata": {},
   "outputs": [],
   "source": [
    "def process(df):\n",
    "    df['start_date'] = pd.to_datetime(df['timestamp'], unit='s')\n",
    "    df['duration_timedelta'] = pd.to_timedelta(df['billing_period'], unit='D')\n",
    "    df['end_date'] = df['start_date'] + df['duration_timedelta']\n",
    "    february_start = pd.Timestamp('2024-02-01')\n",
    "    february_end = pd.Timestamp('2024-02-29')  # 2024 - високосный год\n",
    "    df['active_in_february'] = (\n",
    "        (df['start_date'] <= february_end) & (df['end_date'] >= february_start)\n",
    "    )\n",
    "    active_subscriptions = df[df['active_in_february']]\n",
    "    active_subscriptions['daily_contribution'] = active_subscriptions['billing_total_price_usd'] / active_subscriptions['billing_period']\n",
    "    active_subscriptions['overlap_start'] = active_subscriptions['start_date'].clip(lower=february_start)\n",
    "    active_subscriptions['overlap_end'] = active_subscriptions['end_date'].clip(upper=february_end)\n",
    "    active_subscriptions['active_days'] = (active_subscriptions['overlap_end'] - active_subscriptions['overlap_start']).dt.days + 1\n",
    "    active_subscriptions['february_contribution'] = active_subscriptions['daily_contribution'] * active_subscriptions['active_days']\n",
    "    top_contributions = active_subscriptions.groupby('user_id')['february_contribution'].sum().nlargest(3)\n",
    "    return top_contributions.sum().round(2)\n",
    "\n"
   ]
  },
  {
   "cell_type": "code",
   "execution_count": 27,
   "id": "027ed146-d1a3-4475-94ef-f62ca75be32e",
   "metadata": {},
   "outputs": [
    {
     "data": {
      "text/plain": [
       "40.0"
      ]
     },
     "execution_count": 27,
     "metadata": {},
     "output_type": "execute_result"
    }
   ],
   "source": [
    "process(data)"
   ]
  },
  {
   "cell_type": "code",
   "execution_count": null,
   "id": "ddbf965a-c93f-48ef-81f0-c62dfa524a9f",
   "metadata": {},
   "outputs": [],
   "source": []
  }
 ],
 "metadata": {
  "kernelspec": {
   "display_name": "Python 3 (ipykernel)",
   "language": "python",
   "name": "python3"
  },
  "language_info": {
   "codemirror_mode": {
    "name": "ipython",
    "version": 3
   },
   "file_extension": ".py",
   "mimetype": "text/x-python",
   "name": "python",
   "nbconvert_exporter": "python",
   "pygments_lexer": "ipython3",
   "version": "3.11.5"
  }
 },
 "nbformat": 4,
 "nbformat_minor": 5
}
