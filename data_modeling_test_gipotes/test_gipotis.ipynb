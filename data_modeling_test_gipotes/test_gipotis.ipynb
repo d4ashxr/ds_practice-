{
 "cells": [
  {
   "cell_type": "code",
   "execution_count": 5,
   "id": "b20a65ab-2b50-468f-a9d0-680bebfef30b",
   "metadata": {},
   "outputs": [],
   "source": [
    "import pandas as pd\n",
    "import matplotlib.pyplot as plt"
   ]
  },
  {
   "cell_type": "code",
   "execution_count": 6,
   "id": "763a2486-fea3-4d0d-9e22-581bfbc4b347",
   "metadata": {},
   "outputs": [
    {
     "data": {
      "text/html": [
       "<div>\n",
       "<style scoped>\n",
       "    .dataframe tbody tr th:only-of-type {\n",
       "        vertical-align: middle;\n",
       "    }\n",
       "\n",
       "    .dataframe tbody tr th {\n",
       "        vertical-align: top;\n",
       "    }\n",
       "\n",
       "    .dataframe thead th {\n",
       "        text-align: right;\n",
       "    }\n",
       "</style>\n",
       "<table border=\"1\" class=\"dataframe\">\n",
       "  <thead>\n",
       "    <tr style=\"text-align: right;\">\n",
       "      <th></th>\n",
       "      <th>men</th>\n",
       "      <th>women</th>\n",
       "    </tr>\n",
       "  </thead>\n",
       "  <tbody>\n",
       "    <tr>\n",
       "      <th>0</th>\n",
       "      <td>66</td>\n",
       "      <td>47</td>\n",
       "    </tr>\n",
       "    <tr>\n",
       "      <th>1</th>\n",
       "      <td>62</td>\n",
       "      <td>55</td>\n",
       "    </tr>\n",
       "    <tr>\n",
       "      <th>2</th>\n",
       "      <td>53</td>\n",
       "      <td>48</td>\n",
       "    </tr>\n",
       "    <tr>\n",
       "      <th>3</th>\n",
       "      <td>59</td>\n",
       "      <td>42</td>\n",
       "    </tr>\n",
       "    <tr>\n",
       "      <th>4</th>\n",
       "      <td>54</td>\n",
       "      <td>50</td>\n",
       "    </tr>\n",
       "    <tr>\n",
       "      <th>...</th>\n",
       "      <td>...</td>\n",
       "      <td>...</td>\n",
       "    </tr>\n",
       "    <tr>\n",
       "      <th>95</th>\n",
       "      <td>66</td>\n",
       "      <td>46</td>\n",
       "    </tr>\n",
       "    <tr>\n",
       "      <th>96</th>\n",
       "      <td>59</td>\n",
       "      <td>49</td>\n",
       "    </tr>\n",
       "    <tr>\n",
       "      <th>97</th>\n",
       "      <td>51</td>\n",
       "      <td>44</td>\n",
       "    </tr>\n",
       "    <tr>\n",
       "      <th>98</th>\n",
       "      <td>63</td>\n",
       "      <td>42</td>\n",
       "    </tr>\n",
       "    <tr>\n",
       "      <th>99</th>\n",
       "      <td>64</td>\n",
       "      <td>43</td>\n",
       "    </tr>\n",
       "  </tbody>\n",
       "</table>\n",
       "<p>100 rows × 2 columns</p>\n",
       "</div>"
      ],
      "text/plain": [
       "    men  women\n",
       "0    66     47\n",
       "1    62     55\n",
       "2    53     48\n",
       "3    59     42\n",
       "4    54     50\n",
       "..  ...    ...\n",
       "95   66     46\n",
       "96   59     49\n",
       "97   51     44\n",
       "98   63     42\n",
       "99   64     43\n",
       "\n",
       "[100 rows x 2 columns]"
      ]
     },
     "execution_count": 6,
     "metadata": {},
     "output_type": "execute_result"
    }
   ],
   "source": [
    "df = pd.read_csv(\"independent_t_student.csv\")\n",
    "df"
   ]
  },
  {
   "cell_type": "code",
   "execution_count": 7,
   "id": "cb19f941-6b8d-4663-ad9c-a7c21548b3ca",
   "metadata": {},
   "outputs": [
    {
     "data": {
      "text/plain": [
       "(array([ 3.,  3., 14.,  8., 26., 18., 19.,  2.,  6.,  1.]),\n",
       " array([48. , 50.5, 53. , 55.5, 58. , 60.5, 63. , 65.5, 68. , 70.5, 73. ]),\n",
       " <BarContainer object of 10 artists>)"
      ]
     },
     "execution_count": 7,
     "metadata": {},
     "output_type": "execute_result"
    },
    {
     "data": {
      "image/png": "[encoded data removed]",
      "text/plain": [
       "<Figure size 640x480 with 1 Axes>"
      ]
     },
     "metadata": {},
     "output_type": "display_data"
    }
   ],
   "source": [
    "plt.hist(df.men)"
   ]
  },
  {
   "cell_type": "markdown",
   "id": "a8726683-f099-4d66-9465-7147fa726358",
   "metadata": {},
   "source": [
    "Надо проверить гипотезу, что мужчины проводят в игре больше времени чем женщины. Проверим нулевую(обратную) гипотезу Т-критерий Стьюдента используется, когда нужно проверить гипотезу о равенстве средних значений на выборках. \n",
    "\n",
    "У T-критерия Стьюдента есть определённые условия для его применения:\n",
    "\n",
    "во-первых, данные в выборках распределены нормально, их дисперсии равны;\n",
    "во-вторых, выборки должны быть независимы друг от друга.\n"
   ]
  },
  {
   "cell_type": "code",
   "execution_count": 8,
   "id": "2c12ef18-9767-4879-b469-38ae6857854c",
   "metadata": {},
   "outputs": [
    {
     "data": {
      "text/plain": [
       "(array([ 5.,  8., 15., 15., 19., 16.,  8.,  6.,  6.,  2.]),\n",
       " array([41. , 42.9, 44.8, 46.7, 48.6, 50.5, 52.4, 54.3, 56.2, 58.1, 60. ]),\n",
       " <BarContainer object of 10 artists>)"
      ]
     },
     "execution_count": 8,
     "metadata": {},
     "output_type": "execute_result"
    },
    {
     "data": {
      "image/png": "[encoded data removed]",
      "text/plain": [
       "<Figure size 640x480 with 1 Axes>"
      ]
     },
     "metadata": {},
     "output_type": "display_data"
    }
   ],
   "source": [
    "plt.hist(df.women)"
   ]
  },
  {
   "cell_type": "code",
   "execution_count": 9,
   "id": "9798d5cb-1cdd-4964-8670-ac5ea5af6625",
   "metadata": {},
   "outputs": [],
   "source": [
    "from scipy import stats"
   ]
  },
  {
   "cell_type": "markdown",
   "id": "6ccce6fd-8e71-4499-a468-cfeef5cab195",
   "metadata": {},
   "source": [
    "Для проверки нормально ли распределены данные используется тест Шапиpо-Уилка, усли p_value > 0.05, проверка пройдена"
   ]
  },
  {
   "cell_type": "code",
   "execution_count": 10,
   "id": "63217b5c-3b31-4fef-80ad-2be8e1446012",
   "metadata": {},
   "outputs": [
    {
     "data": {
      "text/plain": [
       "ShapiroResult(statistic=0.9810581207275391, pvalue=0.16058889031410217)"
      ]
     },
     "execution_count": 10,
     "metadata": {},
     "output_type": "execute_result"
    }
   ],
   "source": [
    "stats.shapiro(df.women)"
   ]
  },
  {
   "cell_type": "code",
   "execution_count": 11,
   "id": "ec021f7c-3b16-4cea-9b1c-24385e4e7f79",
   "metadata": {},
   "outputs": [
    {
     "data": {
      "text/plain": [
       "ShapiroResult(statistic=0.9900974631309509, pvalue=0.6724756956100464)"
      ]
     },
     "execution_count": 11,
     "metadata": {},
     "output_type": "execute_result"
    }
   ],
   "source": [
    "stats.shapiro(df.men)"
   ]
  },
  {
   "cell_type": "markdown",
   "id": "6edec4a7-87ff-4abf-9f13-09aafcd8ad86",
   "metadata": {},
   "source": [
    "Для проверки одинаковые ли дисперсии двух выборок используется тест Левена"
   ]
  },
  {
   "cell_type": "code",
   "execution_count": 12,
   "id": "1106f3b7-1fa1-42b2-89c0-5daca8f1ecdb",
   "metadata": {},
   "outputs": [
    {
     "data": {
      "text/plain": [
       "LeveneResult(statistic=0.2644266082613287, pvalue=0.6076686464894372)"
      ]
     },
     "execution_count": 12,
     "metadata": {},
     "output_type": "execute_result"
    }
   ],
   "source": [
    "stats.levene(df.men, df.women)"
   ]
  },
  {
   "cell_type": "markdown",
   "id": "bda9bd84-f952-43ef-b135-ddb438b93b6c",
   "metadata": {},
   "source": [
    "T-критерий Стьюдента"
   ]
  },
  {
   "cell_type": "code",
   "execution_count": 13,
   "id": "cd3112c1-b5a1-42ba-bce8-e2f6cc912f0d",
   "metadata": {},
   "outputs": [
    {
     "data": {
      "text/plain": [
       "TtestResult(statistic=16.422524648309142, pvalue=8.206721395990692e-39, df=198.0)"
      ]
     },
     "execution_count": 13,
     "metadata": {},
     "output_type": "execute_result"
    }
   ],
   "source": [
    "stats.ttest_ind(df.men, df.women)"
   ]
  },
  {
   "cell_type": "markdown",
   "id": "26723a33-8a35-4af4-a886-fb4d6b9caf76",
   "metadata": {},
   "source": [
    "Т-критерий Уэлича, для выборок с неравными дисперсиями"
   ]
  },
  {
   "cell_type": "code",
   "execution_count": 14,
   "id": "179f7d8b-74ca-4d84-9849-d2db65fa913a",
   "metadata": {},
   "outputs": [
    {
     "data": {
      "text/plain": [
       "TtestResult(statistic=16.422524648309142, pvalue=9.940369712406375e-39, df=196.66421202306847)"
      ]
     },
     "execution_count": 14,
     "metadata": {},
     "output_type": "execute_result"
    }
   ],
   "source": [
    "stats.ttest_ind(df.men, df.women, equal_var=False)"
   ]
  },
  {
   "cell_type": "markdown",
   "id": "e46bbadb-3fd0-431f-b5cc-089bc849da28",
   "metadata": {},
   "source": [
    "One-Tail test (только 2 варианта) \n",
    "проверяем проводят ли мужчины больше времени чем женщины"
   ]
  },
  {
   "cell_type": "code",
   "execution_count": 15,
   "id": "fe3bebf5-28c5-41b2-8503-47cfe9240590",
   "metadata": {},
   "outputs": [
    {
     "data": {
      "text/plain": [
       "TtestResult(statistic=16.422524648309142, pvalue=4.9701848562031876e-39, df=196.66421202306847)"
      ]
     },
     "execution_count": 15,
     "metadata": {},
     "output_type": "execute_result"
    }
   ],
   "source": [
    "stats.ttest_ind(df.men, df.women, equal_var=False, alternative=\"greater\")"
   ]
  },
  {
   "cell_type": "markdown",
   "id": "ea2f7c14-c387-4ccb-b394-312844ab6774",
   "metadata": {},
   "source": [
    "маленькое пвэлью, гипотеза отвергается"
   ]
  },
  {
   "cell_type": "markdown",
   "id": "94e7eb48-3bf4-4f6c-9d60-8849f897ae32",
   "metadata": {},
   "source": [
    "Для зависимых данных:"
   ]
  },
  {
   "cell_type": "code",
   "execution_count": 16,
   "id": "ae92d756-6f58-41cd-8bbd-5bfd3bfe19b5",
   "metadata": {},
   "outputs": [
    {
     "data": {
      "text/html": [
       "<div>\n",
       "<style scoped>\n",
       "    .dataframe tbody tr th:only-of-type {\n",
       "        vertical-align: middle;\n",
       "    }\n",
       "\n",
       "    .dataframe tbody tr th {\n",
       "        vertical-align: top;\n",
       "    }\n",
       "\n",
       "    .dataframe thead th {\n",
       "        text-align: right;\n",
       "    }\n",
       "</style>\n",
       "<table border=\"1\" class=\"dataframe\">\n",
       "  <thead>\n",
       "    <tr style=\"text-align: right;\">\n",
       "      <th></th>\n",
       "      <th>id</th>\n",
       "      <th>pre</th>\n",
       "      <th>post</th>\n",
       "    </tr>\n",
       "  </thead>\n",
       "  <tbody>\n",
       "    <tr>\n",
       "      <th>0</th>\n",
       "      <td>928</td>\n",
       "      <td>71.709023</td>\n",
       "      <td>76.969025</td>\n",
       "    </tr>\n",
       "    <tr>\n",
       "      <th>1</th>\n",
       "      <td>813</td>\n",
       "      <td>64.603133</td>\n",
       "      <td>75.304607</td>\n",
       "    </tr>\n",
       "    <tr>\n",
       "      <th>2</th>\n",
       "      <td>863</td>\n",
       "      <td>72.447850</td>\n",
       "      <td>82.358080</td>\n",
       "    </tr>\n",
       "    <tr>\n",
       "      <th>3</th>\n",
       "      <td>618</td>\n",
       "      <td>68.202316</td>\n",
       "      <td>72.145752</td>\n",
       "    </tr>\n",
       "    <tr>\n",
       "      <th>4</th>\n",
       "      <td>865</td>\n",
       "      <td>66.706736</td>\n",
       "      <td>79.344155</td>\n",
       "    </tr>\n",
       "    <tr>\n",
       "      <th>...</th>\n",
       "      <td>...</td>\n",
       "      <td>...</td>\n",
       "      <td>...</td>\n",
       "    </tr>\n",
       "    <tr>\n",
       "      <th>95</th>\n",
       "      <td>925</td>\n",
       "      <td>70.221514</td>\n",
       "      <td>81.233528</td>\n",
       "    </tr>\n",
       "    <tr>\n",
       "      <th>96</th>\n",
       "      <td>586</td>\n",
       "      <td>68.639644</td>\n",
       "      <td>74.354524</td>\n",
       "    </tr>\n",
       "    <tr>\n",
       "      <th>97</th>\n",
       "      <td>664</td>\n",
       "      <td>69.969183</td>\n",
       "      <td>74.773174</td>\n",
       "    </tr>\n",
       "    <tr>\n",
       "      <th>98</th>\n",
       "      <td>864</td>\n",
       "      <td>65.045205</td>\n",
       "      <td>85.257776</td>\n",
       "    </tr>\n",
       "    <tr>\n",
       "      <th>99</th>\n",
       "      <td>426</td>\n",
       "      <td>67.491618</td>\n",
       "      <td>75.241648</td>\n",
       "    </tr>\n",
       "  </tbody>\n",
       "</table>\n",
       "<p>100 rows × 3 columns</p>\n",
       "</div>"
      ],
      "text/plain": [
       "     id        pre       post\n",
       "0   928  71.709023  76.969025\n",
       "1   813  64.603133  75.304607\n",
       "2   863  72.447850  82.358080\n",
       "3   618  68.202316  72.145752\n",
       "4   865  66.706736  79.344155\n",
       "..  ...        ...        ...\n",
       "95  925  70.221514  81.233528\n",
       "96  586  68.639644  74.354524\n",
       "97  664  69.969183  74.773174\n",
       "98  864  65.045205  85.257776\n",
       "99  426  67.491618  75.241648\n",
       "\n",
       "[100 rows x 3 columns]"
      ]
     },
     "execution_count": 16,
     "metadata": {},
     "output_type": "execute_result"
    }
   ],
   "source": [
    "df2 = pd.read_csv(\"dependent_t.csv\")\n",
    "df2"
   ]
  },
  {
   "cell_type": "markdown",
   "id": "8f5714f9-5372-4828-bb06-a69ffdbe2ad9",
   "metadata": {},
   "source": [
    "Гипотеза: средний балл учеников улучшился после просмотра вебинара. \n",
    "Используем парный Т-критерий (каждому значению из первой выборки соответствует значение из второй)\n",
    "Для этого данные  должны быть распределены нормально и выборки зависимы"
   ]
  },
  {
   "cell_type": "code",
   "execution_count": 17,
   "id": "3b4e759f-6ac5-4c65-966b-ed307043137b",
   "metadata": {},
   "outputs": [
    {
     "data": {
      "text/plain": [
       "ShapiroResult(statistic=0.9940343499183655, pvalue=0.9419046640396118)"
      ]
     },
     "execution_count": 17,
     "metadata": {},
     "output_type": "execute_result"
    }
   ],
   "source": [
    "stats.shapiro(df2.pre)"
   ]
  },
  {
   "cell_type": "code",
   "execution_count": 18,
   "id": "29a95f39-1ad5-4547-9cdf-d9434226c255",
   "metadata": {},
   "outputs": [
    {
     "data": {
      "text/plain": [
       "ShapiroResult(statistic=0.985990047454834, pvalue=0.3733612596988678)"
      ]
     },
     "execution_count": 18,
     "metadata": {},
     "output_type": "execute_result"
    }
   ],
   "source": [
    "stats.shapiro(df2.post)"
   ]
  },
  {
   "cell_type": "code",
   "execution_count": 19,
   "id": "756a4095-ab44-41c7-b248-6a3f05b3f6e7",
   "metadata": {},
   "outputs": [
    {
     "data": {
      "text/plain": [
       "TtestResult(statistic=-16.160279927323444, pvalue=8.089311044408884e-30, df=99)"
      ]
     },
     "execution_count": 19,
     "metadata": {},
     "output_type": "execute_result"
    }
   ],
   "source": [
    "stats.ttest_rel(df2.pre, df2.post, alternative=\"less\")"
   ]
  },
  {
   "cell_type": "markdown",
   "id": "81b7f66c-a9d2-4dff-a4c4-a9e7fd4ad42f",
   "metadata": {},
   "source": [
    "Проверка гипотезы для данных, не подчиняющихся нормальному распределению\n",
    "люди до 18 ставят оценки выше \n"
   ]
  },
  {
   "cell_type": "code",
   "execution_count": 20,
   "id": "57bc8e3b-5c23-4ddc-9588-a8b06100bc8e",
   "metadata": {},
   "outputs": [
    {
     "data": {
      "text/html": [
       "<div>\n",
       "<style scoped>\n",
       "    .dataframe tbody tr th:only-of-type {\n",
       "        vertical-align: middle;\n",
       "    }\n",
       "\n",
       "    .dataframe tbody tr th {\n",
       "        vertical-align: top;\n",
       "    }\n",
       "\n",
       "    .dataframe thead th {\n",
       "        text-align: right;\n",
       "    }\n",
       "</style>\n",
       "<table border=\"1\" class=\"dataframe\">\n",
       "  <thead>\n",
       "    <tr style=\"text-align: right;\">\n",
       "      <th></th>\n",
       "      <th>feedback</th>\n",
       "      <th>age</th>\n",
       "    </tr>\n",
       "  </thead>\n",
       "  <tbody>\n",
       "    <tr>\n",
       "      <th>0</th>\n",
       "      <td>5</td>\n",
       "      <td>28</td>\n",
       "    </tr>\n",
       "    <tr>\n",
       "      <th>1</th>\n",
       "      <td>5</td>\n",
       "      <td>28</td>\n",
       "    </tr>\n",
       "    <tr>\n",
       "      <th>2</th>\n",
       "      <td>4</td>\n",
       "      <td>26</td>\n",
       "    </tr>\n",
       "    <tr>\n",
       "      <th>3</th>\n",
       "      <td>4</td>\n",
       "      <td>18</td>\n",
       "    </tr>\n",
       "    <tr>\n",
       "      <th>4</th>\n",
       "      <td>2</td>\n",
       "      <td>15</td>\n",
       "    </tr>\n",
       "    <tr>\n",
       "      <th>5</th>\n",
       "      <td>1</td>\n",
       "      <td>28</td>\n",
       "    </tr>\n",
       "    <tr>\n",
       "      <th>6</th>\n",
       "      <td>4</td>\n",
       "      <td>14</td>\n",
       "    </tr>\n",
       "    <tr>\n",
       "      <th>7</th>\n",
       "      <td>2</td>\n",
       "      <td>18</td>\n",
       "    </tr>\n",
       "    <tr>\n",
       "      <th>8</th>\n",
       "      <td>3</td>\n",
       "      <td>16</td>\n",
       "    </tr>\n",
       "    <tr>\n",
       "      <th>9</th>\n",
       "      <td>4</td>\n",
       "      <td>19</td>\n",
       "    </tr>\n",
       "    <tr>\n",
       "      <th>10</th>\n",
       "      <td>1</td>\n",
       "      <td>18</td>\n",
       "    </tr>\n",
       "    <tr>\n",
       "      <th>11</th>\n",
       "      <td>3</td>\n",
       "      <td>15</td>\n",
       "    </tr>\n",
       "    <tr>\n",
       "      <th>12</th>\n",
       "      <td>5</td>\n",
       "      <td>27</td>\n",
       "    </tr>\n",
       "    <tr>\n",
       "      <th>13</th>\n",
       "      <td>4</td>\n",
       "      <td>13</td>\n",
       "    </tr>\n",
       "    <tr>\n",
       "      <th>14</th>\n",
       "      <td>3</td>\n",
       "      <td>13</td>\n",
       "    </tr>\n",
       "    <tr>\n",
       "      <th>15</th>\n",
       "      <td>4</td>\n",
       "      <td>15</td>\n",
       "    </tr>\n",
       "    <tr>\n",
       "      <th>16</th>\n",
       "      <td>4</td>\n",
       "      <td>21</td>\n",
       "    </tr>\n",
       "    <tr>\n",
       "      <th>17</th>\n",
       "      <td>5</td>\n",
       "      <td>28</td>\n",
       "    </tr>\n",
       "    <tr>\n",
       "      <th>18</th>\n",
       "      <td>2</td>\n",
       "      <td>19</td>\n",
       "    </tr>\n",
       "    <tr>\n",
       "      <th>19</th>\n",
       "      <td>5</td>\n",
       "      <td>19</td>\n",
       "    </tr>\n",
       "    <tr>\n",
       "      <th>20</th>\n",
       "      <td>5</td>\n",
       "      <td>24</td>\n",
       "    </tr>\n",
       "    <tr>\n",
       "      <th>21</th>\n",
       "      <td>1</td>\n",
       "      <td>15</td>\n",
       "    </tr>\n",
       "    <tr>\n",
       "      <th>22</th>\n",
       "      <td>4</td>\n",
       "      <td>26</td>\n",
       "    </tr>\n",
       "    <tr>\n",
       "      <th>23</th>\n",
       "      <td>3</td>\n",
       "      <td>27</td>\n",
       "    </tr>\n",
       "    <tr>\n",
       "      <th>24</th>\n",
       "      <td>2</td>\n",
       "      <td>20</td>\n",
       "    </tr>\n",
       "    <tr>\n",
       "      <th>25</th>\n",
       "      <td>1</td>\n",
       "      <td>13</td>\n",
       "    </tr>\n",
       "    <tr>\n",
       "      <th>26</th>\n",
       "      <td>5</td>\n",
       "      <td>26</td>\n",
       "    </tr>\n",
       "    <tr>\n",
       "      <th>27</th>\n",
       "      <td>2</td>\n",
       "      <td>18</td>\n",
       "    </tr>\n",
       "    <tr>\n",
       "      <th>28</th>\n",
       "      <td>2</td>\n",
       "      <td>16</td>\n",
       "    </tr>\n",
       "    <tr>\n",
       "      <th>29</th>\n",
       "      <td>2</td>\n",
       "      <td>18</td>\n",
       "    </tr>\n",
       "  </tbody>\n",
       "</table>\n",
       "</div>"
      ],
      "text/plain": [
       "    feedback  age\n",
       "0          5   28\n",
       "1          5   28\n",
       "2          4   26\n",
       "3          4   18\n",
       "4          2   15\n",
       "5          1   28\n",
       "6          4   14\n",
       "7          2   18\n",
       "8          3   16\n",
       "9          4   19\n",
       "10         1   18\n",
       "11         3   15\n",
       "12         5   27\n",
       "13         4   13\n",
       "14         3   13\n",
       "15         4   15\n",
       "16         4   21\n",
       "17         5   28\n",
       "18         2   19\n",
       "19         5   19\n",
       "20         5   24\n",
       "21         1   15\n",
       "22         4   26\n",
       "23         3   27\n",
       "24         2   20\n",
       "25         1   13\n",
       "26         5   26\n",
       "27         2   18\n",
       "28         2   16\n",
       "29         2   18"
      ]
     },
     "execution_count": 20,
     "metadata": {},
     "output_type": "execute_result"
    }
   ],
   "source": [
    "df3 = pd.read_csv(\"mann_whitney.csv\")\n",
    "df3"
   ]
  },
  {
   "cell_type": "code",
   "execution_count": 22,
   "id": "4cd9af57-7adb-4f6b-9fd6-c31a60e02d0b",
   "metadata": {},
   "outputs": [
    {
     "name": "stdout",
     "output_type": "stream",
     "text": [
      "15 15\n"
     ]
    }
   ],
   "source": [
    "before_18 = df3[df3.age <= 18].feedback\n",
    "after_18 = df3[df3.age > 18].feedback\n",
    "print(len(after_18), len(before_18))"
   ]
  },
  {
   "cell_type": "markdown",
   "id": "54217da7-70e7-451a-836f-c320dac54c24",
   "metadata": {},
   "source": [
    "Т-критерий Манна-Уитни для подтверждения гипотезы на независимых выборках, не подчиняющихся нормальному распределению\n",
    "Н0: возраст не влияет на оценку, если пвэлью больше 5 процентов, не можем опровергнуть гипотезу"
   ]
  },
  {
   "cell_type": "code",
   "execution_count": 24,
   "id": "23f5b154-1f47-4c5b-aa87-d94dff26beea",
   "metadata": {},
   "outputs": [
    {
     "data": {
      "text/plain": [
       "MannwhitneyuResult(statistic=46.0, pvalue=0.9978023851377417)"
      ]
     },
     "execution_count": 24,
     "metadata": {},
     "output_type": "execute_result"
    }
   ],
   "source": [
    "stats.mannwhitneyu(before_18, after_18, alternative=\"greater\")"
   ]
  },
  {
   "cell_type": "code",
   "execution_count": 25,
   "id": "769cfc9d-2a36-4ad9-a783-541a0929e52a",
   "metadata": {},
   "outputs": [
    {
     "data": {
      "text/plain": [
       "MannwhitneyuResult(statistic=46.0, pvalue=0.002509619590681187)"
      ]
     },
     "execution_count": 25,
     "metadata": {},
     "output_type": "execute_result"
    }
   ],
   "source": [
    "stats.mannwhitneyu(before_18, after_18, alternative=\"less\")"
   ]
  },
  {
   "cell_type": "code",
   "execution_count": null,
   "id": "ecc06b72-05e6-4f52-803b-fc778031c628",
   "metadata": {},
   "outputs": [],
   "source": []
  }
 ],
 "metadata": {
  "kernelspec": {
   "display_name": "Python 3 (ipykernel)",
   "language": "python",
   "name": "python3"
  },
  "language_info": {
   "codemirror_mode": {
    "name": "ipython",
    "version": 3
   },
   "file_extension": ".py",
   "mimetype": "text/x-python",
   "name": "python",
   "nbconvert_exporter": "python",
   "pygments_lexer": "ipython3",
   "version": "3.11.5"
  }
 },
 "nbformat": 4,
 "nbformat_minor": 5
}
