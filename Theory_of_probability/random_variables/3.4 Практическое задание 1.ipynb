{
 "cells": [
  {
   "cell_type": "markdown",
   "id": "20d02d60",
   "metadata": {
    "id": "20d02d60"
   },
   "source": [
    "# Характеристики случайной величины. Практика"
   ]
  },
  {
   "cell_type": "markdown",
   "id": "df9d0fa3",
   "metadata": {
    "id": "df9d0fa3"
   },
   "source": [
    "## Цели практической работы\n",
    "1. Применить на практике знания о характеристиках случайных величин.\n",
    "2. Освежить знания о свойствах математического ожидания и дисперсии\n",
    "3. Провести сравнительный анализ двух случайных величин на основе знаний об их\n",
    "   характеристиках"
   ]
  },
  {
   "cell_type": "markdown",
   "id": "c4a1bdf2",
   "metadata": {
    "id": "c4a1bdf2"
   },
   "source": [
    "## Что входит в практическую работу\n",
    "  3 практические задачи"
   ]
  },
  {
   "cell_type": "markdown",
   "id": "3092d4ea",
   "metadata": {
    "id": "3092d4ea"
   },
   "source": [
    "## Задача 1 \n",
    "\n",
    "Пусть случайная величина $X$ принимает такие значения:\n",
    " \n",
    "- $1$ c вероятностью $3/5$;\n",
    "\n",
    "- $2$ c вероятностью $1/5$;\n",
    "\n",
    "- $3$ c вероятностью $1/5$.\n",
    "\n",
    "Пропишите в явном виде:\n",
    "- функцию вероятностей в точках $1, 2, 3$ \\\\\n",
    "- функцию распределения в точках $1, 2, 3$ \\\\\n",
    "- матожидание $X$ \\\\\n",
    "- дисперсию $X$ \\\\\n",
    "- стандартное отклонение $X$ \\\\\n",
    "- медиану $X$ \\\\\n",
    "- моду $X$\n",
    "\n"
   ]
  },
  {
   "cell_type": "code",
   "execution_count": 3,
   "id": "859c4d2b",
   "metadata": {
    "ExecuteTime": {
     "end_time": "2022-02-23T19:39:15.915860Z",
     "start_time": "2022-02-23T19:39:15.902436Z"
    },
    "id": "859c4d2b"
   },
   "outputs": [
    {
     "name": "stdout",
     "output_type": "stream",
     "text": [
      "0.6 0.2 0.2\n"
     ]
    }
   ],
   "source": [
    "# функцию вероятностей в точках\n",
    "p1 = 3/5\n",
    "p2 = 1/5\n",
    "p3 = 1/5\n",
    "print(p1, p2, p3)"
   ]
  },
  {
   "cell_type": "code",
   "execution_count": 4,
   "id": "a3208e30-a267-4e9d-866b-eca453558224",
   "metadata": {
    "ExecuteTime": {
     "end_time": "2022-02-23T19:39:15.915860Z",
     "start_time": "2022-02-23T19:39:15.902436Z"
    },
    "id": "859c4d2b"
   },
   "outputs": [
    {
     "name": "stdout",
     "output_type": "stream",
     "text": [
      "0.6 0.8 1.0\n"
     ]
    }
   ],
   "source": [
    "# функцию распределения в точках \n",
    "pr1 = p1\n",
    "pr2 = p1+p2\n",
    "pr3 = p1+p2+p3\n",
    "print(pr1, pr2, pr3)"
   ]
  },
  {
   "cell_type": "code",
   "execution_count": 6,
   "id": "121f0dd8-c763-4f61-93a6-e9ed819186a3",
   "metadata": {
    "ExecuteTime": {
     "end_time": "2022-02-23T19:39:15.915860Z",
     "start_time": "2022-02-23T19:39:15.902436Z"
    },
    "id": "859c4d2b"
   },
   "outputs": [
    {
     "data": {
      "text/plain": [
       "1.6"
      ]
     },
     "execution_count": 6,
     "metadata": {},
     "output_type": "execute_result"
    }
   ],
   "source": [
    "M = p1*1+p2*2+p3*3\n",
    "M"
   ]
  },
  {
   "cell_type": "code",
   "execution_count": 15,
   "id": "db4a0f57-7c50-456f-acf6-06d5074a7e9b",
   "metadata": {},
   "outputs": [],
   "source": [
    "mean = [1, 2, 3]\n",
    "p = [p1, p2, p3]"
   ]
  },
  {
   "cell_type": "code",
   "execution_count": 17,
   "id": "4da2c1cf-7537-4f93-9481-eea3d1ad6e05",
   "metadata": {
    "ExecuteTime": {
     "end_time": "2022-02-23T19:39:15.915860Z",
     "start_time": "2022-02-23T19:39:15.902436Z"
    },
    "id": "859c4d2b",
    "scrolled": true
   },
   "outputs": [
    {
     "data": {
      "text/plain": [
       "0.64"
      ]
     },
     "execution_count": 17,
     "metadata": {},
     "output_type": "execute_result"
    }
   ],
   "source": [
    "D = 0\n",
    "for i in range(3):\n",
    "    D += (mean[i] - M) ** 2 * p[i]\n",
    "D"
   ]
  },
  {
   "cell_type": "code",
   "execution_count": 18,
   "id": "a99a59cc-e451-4bda-9a78-7a5619dd3cdf",
   "metadata": {
    "ExecuteTime": {
     "end_time": "2022-02-23T19:39:15.915860Z",
     "start_time": "2022-02-23T19:39:15.902436Z"
    },
    "id": "859c4d2b"
   },
   "outputs": [
    {
     "data": {
      "text/plain": [
       "0.8"
      ]
     },
     "execution_count": 18,
     "metadata": {},
     "output_type": "execute_result"
    }
   ],
   "source": [
    "ST = D ** 0.5\n",
    "ST"
   ]
  },
  {
   "cell_type": "code",
   "execution_count": 19,
   "id": "840ac8e3-1a1b-4b1b-8f69-e38c59896db5",
   "metadata": {},
   "outputs": [
    {
     "data": {
      "text/plain": [
       "1"
      ]
     },
     "execution_count": 19,
     "metadata": {},
     "output_type": "execute_result"
    }
   ],
   "source": [
    "mode = 1\n",
    "mode"
   ]
  },
  {
   "cell_type": "code",
   "execution_count": 20,
   "id": "383731eb-0146-4d1d-a88a-b9a1d777a5a2",
   "metadata": {
    "ExecuteTime": {
     "end_time": "2022-02-23T19:39:15.915860Z",
     "start_time": "2022-02-23T19:39:15.902436Z"
    },
    "id": "859c4d2b"
   },
   "outputs": [
    {
     "data": {
      "text/plain": [
       "2"
      ]
     },
     "execution_count": 20,
     "metadata": {},
     "output_type": "execute_result"
    }
   ],
   "source": [
    "median = 2\n",
    "median"
   ]
  },
  {
   "cell_type": "markdown",
   "id": "f8266e27",
   "metadata": {
    "ExecuteTime": {
     "end_time": "2022-01-28T23:12:51.463454Z",
     "start_time": "2022-01-28T23:12:51.458075Z"
    },
    "id": "f8266e27"
   },
   "source": [
    "### Задача 2.  \n",
    "\n",
    "Случайная величина $A$ — линейная комбинация случайных величин $X, Y, Z.$ \\\\\n",
    "\n",
    "$$A = 3X + 5Y – 7Z$$\n",
    "\n",
    "\\\n",
    "\n",
    "1.Известно, что матожидания $X, Y, Z$ равны $M(X) = 2, \\  M(Y) = 4, \\ M(Z) = 6.$ \\\n",
    "Найдите матожидание $A.$ \\\\\n",
    "\n",
    "2.Известно, что дисперсии $X, Y, Z$ равны $D(X) = 1, \\ D(Y) = 1, \\ D(Z) = 1$ и $ X, Y, Z$ — независимы. \\\n",
    "Найдите дисперсию $A$ и среднеквадратичное отклонение $A.$\n",
    "\n",
    "###Подсказка. \n",
    "Воспользуйтесь свойствами математического ожидания и дисперсии:\n",
    "\n",
    "- $M(X + Y) = MX + MY$ — для случайных величин $X,Y$ с конечными матожиданиями.\n",
    "- $M(aX) = aMX$ — для случайной величины $X$ и вещественного $a$.\n",
    "\n",
    "\n",
    "- $D(X + Y) = DX + DY$ — для независимых случайных величин $X,Y$.\n",
    "- $D(aX) = a^2 DX$ — для случайной величины $X$ и вещественного $a$.\n",
    "\n",
    "\n"
   ]
  },
  {
   "cell_type": "code",
   "execution_count": 21,
   "id": "a1349322",
   "metadata": {
    "id": "a1349322"
   },
   "outputs": [
    {
     "data": {
      "text/plain": [
       "-16"
      ]
     },
     "execution_count": 21,
     "metadata": {},
     "output_type": "execute_result"
    }
   ],
   "source": [
    "M = 2*3 + 5*4 - 7*6\n",
    "M"
   ]
  },
  {
   "cell_type": "code",
   "execution_count": 24,
   "id": "b0d49291-ec9f-444d-b321-f2770d133f2e",
   "metadata": {},
   "outputs": [
    {
     "data": {
      "text/plain": [
       "83"
      ]
     },
     "execution_count": 24,
     "metadata": {},
     "output_type": "execute_result"
    }
   ],
   "source": [
    "D = 9*1 + 25*1 + 49*1\n",
    "D"
   ]
  },
  {
   "cell_type": "markdown",
   "id": "29bad2c6",
   "metadata": {
    "id": "29bad2c6"
   },
   "source": [
    "### Задача 3.  \n",
    "\n",
    "Предположим, что существует два интернет-магазина одежды. В каждом из них несколько лет фиксировалось число покупок за месяц. На основе этой информации получились две выборки. Известны значения характеристик матожидания, моды и дисперсии:\n",
    "\n",
    "$EX_{1} = 20, DX_{1} = 16,$ мода $X_{1} = 30.$\n",
    "\n",
    "$EX_{2} = 10, DX_{2} = 3,$ мода $X_{2} = 16.$\n",
    "\n",
    "Какие выводы можно сделать по этой информации? Ответ запишите текстом."
   ]
  },
  {
   "cell_type": "markdown",
   "id": "e01ae192-cabc-44bd-a0b6-67284ee85b34",
   "metadata": {
    "ExecuteTime": {
     "end_time": "2022-02-23T19:39:17.014992Z",
     "start_time": "2022-02-23T19:39:17.011993Z"
    },
    "id": "ba31752e"
   },
   "source": [
    "В среднем больше покупок в месяц ы первом магазине, \n",
    "однако разброс количества покупок в разные месяцы достаточно большой, можно сделать вывод что магазин сезонный\n",
    "в среднем 1 покупка в день\n",
    "во втором магазине покупок гораздо меньше, но их число за месяц более стабильно"
   ]
  },
  {
   "cell_type": "code",
   "execution_count": null,
   "id": "4248bd57-675b-4d0e-af30-c8111cd398a1",
   "metadata": {},
   "outputs": [],
   "source": []
  }
 ],
 "metadata": {
  "colab": {
   "collapsed_sections": [],
   "name": "Модуль 3 Практика 1.ipynb",
   "provenance": [
    {
     "file_id": "11-qXeEUi0a_rZsWduEPQE8qoZK6F6Crb",
     "timestamp": 1647362082997
    }
   ]
  },
  "kernelspec": {
   "display_name": "Python 3 (ipykernel)",
   "language": "python",
   "name": "python3"
  },
  "language_info": {
   "codemirror_mode": {
    "name": "ipython",
    "version": 3
   },
   "file_extension": ".py",
   "mimetype": "text/x-python",
   "name": "python",
   "nbconvert_exporter": "python",
   "pygments_lexer": "ipython3",
   "version": "3.11.5"
  },
  "toc": {
   "base_numbering": 1,
   "nav_menu": {},
   "number_sections": true,
   "sideBar": true,
   "skip_h1_title": false,
   "title_cell": "Table of Contents",
   "title_sidebar": "Contents",
   "toc_cell": false,
   "toc_position": {},
   "toc_section_display": true,
   "toc_window_display": false
  }
 },
 "nbformat": 4,
 "nbformat_minor": 5
}
