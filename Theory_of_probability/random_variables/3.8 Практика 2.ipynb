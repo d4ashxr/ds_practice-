{
 "cells": [
  {
   "cell_type": "markdown",
   "id": "20d02d60",
   "metadata": {
    "id": "20d02d60"
   },
   "source": [
    "# Модуль 3. Практическая работа "
   ]
  },
  {
   "cell_type": "markdown",
   "id": "df9d0fa3",
   "metadata": {
    "id": "df9d0fa3"
   },
   "source": [
    "## Цели практической работы\n",
    "1. Закрепить полученные знания о дискретных случайных величинах.\n",
    "2. Ближе познакомиться с характеристиками случайных величин, изучить на практике дискретные распределения: Бернулли и Пуассона.\n"
   ]
  },
  {
   "cell_type": "markdown",
   "id": "c4a1bdf2",
   "metadata": {
    "id": "c4a1bdf2"
   },
   "source": [
    "## Что входит в практическую работу\n",
    "  3 практические задачи"
   ]
  },
  {
   "cell_type": "markdown",
   "id": "iSRcyHmvpGCM",
   "metadata": {
    "id": "iSRcyHmvpGCM"
   },
   "source": [
    "## Что оценивается\n",
    " \n",
    "*  Умение вычислять характеристики случайных величин на основе табличного или графического представления дискретных случайных величин и с использованием формул. \\\n",
    "*  Умение работать с формулами распределений Пуассона и Бернулли.\n",
    "\n",
    "\n",
    "## Как отправить задание на проверку \n",
    "\n",
    "Выполните задания, сохраните изменения при помощи опции Save and Checkpoint на вкладке меню File или кнопки Save and Checkpoint на панели инструментов. Отправьте итоговый файл Jupyter Notebook (в формате .ipynb) или ссылку на него через форму ниже."
   ]
  },
  {
   "cell_type": "markdown",
   "id": "3092d4ea",
   "metadata": {
    "id": "3092d4ea"
   },
   "source": [
    "## Задача 1 \n",
    "\n",
    "Имеется партия из десяти деталей. Вероятность, что деталь оказалась бракованной, для данной партии составляет $4/5 = 0.8.$ Определите, с какой вероятностью половина деталей окажется бракованной.\n",
    "\n",
    "Напишите функцию для расчёта этой вероятности. Используете биномиальное распределение.\n",
    "\n",
    " \n",
    "\n",
    "\n"
   ]
  },
  {
   "cell_type": "code",
   "execution_count": 2,
   "id": "f1da1286-a479-48ef-b595-298addd4812e",
   "metadata": {},
   "outputs": [],
   "source": [
    "def factorial(n):\n",
    "    f = 1\n",
    "    while n > 0:\n",
    "        f *= n\n",
    "        n -= 1\n",
    "    return f\n"
   ]
  },
  {
   "cell_type": "code",
   "execution_count": 7,
   "id": "2b7bd442-44f7-41fa-9db6-647165d5d4cc",
   "metadata": {},
   "outputs": [],
   "source": [
    "def biomen(p, n, kp):\n",
    "    q = 1 - p\n",
    "    kq = n - kp\n",
    "    P = p ** kp * q ** kq * (factorial(n)/(factorial(kp) * factorial(kq)))\n",
    "    return P"
   ]
  },
  {
   "cell_type": "code",
   "execution_count": 8,
   "id": "6b9bee07-b2c2-4b21-a0ef-04939eac8572",
   "metadata": {},
   "outputs": [
    {
     "data": {
      "text/plain": [
       "0.026424115199999976"
      ]
     },
     "execution_count": 8,
     "metadata": {},
     "output_type": "execute_result"
    }
   ],
   "source": [
    "biomen(0.8, 10, 5)"
   ]
  },
  {
   "cell_type": "code",
   "execution_count": 4,
   "id": "859c4d2b",
   "metadata": {
    "ExecuteTime": {
     "end_time": "2022-02-23T19:39:15.915860Z",
     "start_time": "2022-02-23T19:39:15.902436Z"
    },
    "id": "859c4d2b"
   },
   "outputs": [
    {
     "data": {
      "text/plain": [
       "0.026424115200000015"
      ]
     },
     "execution_count": 4,
     "metadata": {},
     "output_type": "execute_result"
    }
   ],
   "source": [
    "P1 = 0.8 ** 5 * 0.2 ** 5 * (factorial(10)/factorial(5) ** 2)\n",
    "P1"
   ]
  },
  {
   "cell_type": "markdown",
   "id": "f8266e27",
   "metadata": {
    "ExecuteTime": {
     "end_time": "2022-01-28T23:12:51.463454Z",
     "start_time": "2022-01-28T23:12:51.458075Z"
    },
    "id": "f8266e27"
   },
   "source": [
    "### Задача 2.  \n",
    "\n",
    "Вратарь последовательно отражает семь ударов в ворота от игрока. Вероятность этого составляет $0.3$ каждый раз независимо от характеристик удара. Найдите вероятность, с которой вратарь отразит хотя бы три удара. Используете биномиальное распределение.\n",
    "\n",
    "\n",
    "\n"
   ]
  },
  {
   "cell_type": "code",
   "execution_count": 10,
   "id": "a1349322",
   "metadata": {
    "id": "a1349322"
   },
   "outputs": [
    {
     "data": {
      "text/plain": [
       "0.3529304999999999"
      ]
     },
     "execution_count": 10,
     "metadata": {},
     "output_type": "execute_result"
    }
   ],
   "source": [
    "P2 = 0\n",
    "for i in range(3, 8):\n",
    "    P2 += biomen(0.3, 7, i)\n",
    "P2"
   ]
  },
  {
   "cell_type": "markdown",
   "id": "29bad2c6",
   "metadata": {
    "id": "29bad2c6"
   },
   "source": [
    "### Задача 3.  \n",
    "\n",
    "Представьте, что вы сделали бросок пары игральных кубиков десять раз подряд. При каждом броске получаете два значения на двух кубиках. Рассмотрите вероятность, при которой один раз выпадет пара из двух шестёрок. Найдите её:\n",
    "с помощью биномиального распределения;\n",
    "с помощью распределения Пуассона, используя закон редких событий. \n"
   ]
  },
  {
   "cell_type": "code",
   "execution_count": 16,
   "id": "35db42f6-3d3d-4b43-b515-9759099e8f56",
   "metadata": {},
   "outputs": [],
   "source": [
    "import math"
   ]
  },
  {
   "cell_type": "code",
   "execution_count": 12,
   "id": "ba31752e",
   "metadata": {
    "ExecuteTime": {
     "end_time": "2022-02-23T19:39:17.014992Z",
     "start_time": "2022-02-23T19:39:17.011993Z"
    },
    "id": "ba31752e"
   },
   "outputs": [
    {
     "data": {
      "text/plain": [
       "0.21556953825698377"
      ]
     },
     "execution_count": 12,
     "metadata": {},
     "output_type": "execute_result"
    }
   ],
   "source": [
    "P3B = biomen(1/36, 10, 1)\n",
    "P3B"
   ]
  },
  {
   "cell_type": "code",
   "execution_count": 17,
   "id": "2a9adb87-4643-4097-ad0b-60f27d533c0c",
   "metadata": {},
   "outputs": [],
   "source": [
    "def puasson(k, l):\n",
    "   return (math.e ** (-l) * l ** k)/(factorial(k))\n"
   ]
  },
  {
   "cell_type": "code",
   "execution_count": 21,
   "id": "8d3c66c7-d70f-45c5-b871-e0b591d5578e",
   "metadata": {},
   "outputs": [
    {
     "data": {
      "text/plain": [
       "7.0"
      ]
     },
     "execution_count": 21,
     "metadata": {},
     "output_type": "execute_result"
    }
   ],
   "source": [
    "M = 0\n",
    "for i in range(1, 7):\n",
    "    for j in range(1, 7):\n",
    "        M += (i + j) * 1/36\n",
    "M"
   ]
  },
  {
   "cell_type": "code",
   "execution_count": 24,
   "id": "c06e12b6-4303-4478-9fec-3169fadde74a",
   "metadata": {},
   "outputs": [
    {
     "data": {
      "text/plain": [
       "0.21040698011026845"
      ]
     },
     "execution_count": 24,
     "metadata": {},
     "output_type": "execute_result"
    }
   ],
   "source": [
    "puasson(1, 10 * 1/36)"
   ]
  },
  {
   "cell_type": "code",
   "execution_count": null,
   "id": "25b6e9e4-dfbc-44f2-8a5c-e24c559c5a19",
   "metadata": {},
   "outputs": [],
   "source": []
  }
 ],
 "metadata": {
  "colab": {
   "collapsed_sections": [],
   "name": "Модуль 3 Практика 2.ipynb",
   "provenance": []
  },
  "kernelspec": {
   "display_name": "Python 3 (ipykernel)",
   "language": "python",
   "name": "python3"
  },
  "language_info": {
   "codemirror_mode": {
    "name": "ipython",
    "version": 3
   },
   "file_extension": ".py",
   "mimetype": "text/x-python",
   "name": "python",
   "nbconvert_exporter": "python",
   "pygments_lexer": "ipython3",
   "version": "3.11.5"
  },
  "toc": {
   "base_numbering": 1,
   "nav_menu": {},
   "number_sections": true,
   "sideBar": true,
   "skip_h1_title": false,
   "title_cell": "Table of Contents",
   "title_sidebar": "Contents",
   "toc_cell": false,
   "toc_position": {},
   "toc_section_display": true,
   "toc_window_display": false
  }
 },
 "nbformat": 4,
 "nbformat_minor": 5
}
